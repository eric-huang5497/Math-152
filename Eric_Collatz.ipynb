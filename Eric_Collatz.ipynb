{
  "nbformat": 4,
  "nbformat_minor": 0,
  "metadata": {
    "colab": {
      "name": "Eric Collatz",
      "provenance": [],
      "authorship_tag": "ABX9TyOxlO2MD54v6VWFbL5X5t6H",
      "include_colab_link": true
    },
    "kernelspec": {
      "name": "python3",
      "display_name": "Python 3"
    }
  },
  "cells": [
    {
      "cell_type": "markdown",
      "metadata": {
        "id": "view-in-github",
        "colab_type": "text"
      },
      "source": [
        "<a href=\"https://colab.research.google.com/github/eric-huang5497/Math-152/blob/main/Eric_Collatz.ipynb\" target=\"_parent\"><img src=\"https://colab.research.google.com/assets/colab-badge.svg\" alt=\"Open In Colab\"/></a>"
      ]
    },
    {
      "cell_type": "code",
      "metadata": {
        "colab": {
          "base_uri": "https://localhost:8080/"
        },
        "id": "Q1oDzIMuRetR",
        "outputId": "57f771a9-7983-4fa9-df82-8c1fa8969c34"
      },
      "source": [
        "def modified_collatz(n, behavior = [(1/2,0), (3,1)], iterations = 200): \n",
        "  arity = len(behavior)\n",
        "  for i in range(iterations):\n",
        "    print(n)\n",
        "    rem = n%arity\n",
        "    n = int(behavior[rem][0]*n + behavior[rem][1])\n",
        "\n",
        "def update(n,behavior):\n",
        "  arity = len(behavior)\n",
        "  rem = n%arity\n",
        "  return int(behavior[rem][0]*n + behavior[rem][1])\n",
        "\n",
        "def modified_collatz_loop_finder(n,behavior,max_iterations):\n",
        "  tracker = update(n,behavior)\n",
        "  elements = [n]\n",
        "  iterations = 0\n",
        "  while tracker not in elements and iterations < max_iterations:\n",
        "    elements.append(tracker)\n",
        "    iterations += 1\n",
        "    tracker = update(tracker,behavior)\n",
        "  if iterations == max_iterations:\n",
        "    return \"Starting with {} produces either a very long loop, or an infinite ascending chain\".format(n)\n",
        "  elif tracker == min(elements):\n",
        "    return len(elements), elements\n",
        "\n",
        "def num_loops_finder(behavior):\n",
        "  num_loops = 0\n",
        "  for i in range(1000):\n",
        "    if type(modified_collatz_loop_finder(i,behavior,400)) == tuple:\n",
        "      num_loops += 1\n",
        "  return num_loops\n",
        "\n",
        "def longest_loop_length(behavior):\n",
        "  longest_length = 0\n",
        "  for i in range(1000):\n",
        "    if type(modified_collatz_loop_finder(i,behavior,400)) == tuple:\n",
        "      longest_length = max(longest_length, modified_collatz_loop_finder(i,behavior,400)[0])\n",
        "  return longest_length\n",
        "\n",
        "behavior_list = [(1/2,0),(5,1)]\n",
        "print(\"longest length is\", longest_loop_length(behavior_list))\n",
        "print(\"number of loops is\", num_loops_finder(behavior_list))\n",
        "\n",
        "for i in range(1,1000):\n",
        "  if modified_collatz_loop_finder(i,behavior_list,400) == tuple:\n",
        "    print(modified_collatz_loop_finder(i,behavior_list,400))\n"
      ],
      "execution_count": 54,
      "outputs": [
        {
          "output_type": "stream",
          "text": [
            "longest length is 10\n",
            "number of loops is 4\n"
          ],
          "name": "stdout"
        }
      ]
    }
  ]
}