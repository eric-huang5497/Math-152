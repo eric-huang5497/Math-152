{
  "nbformat": 4,
  "nbformat_minor": 0,
  "metadata": {
    "colab": {
      "name": "Exploration 1",
      "provenance": [],
      "collapsed_sections": [],
      "include_colab_link": true
    },
    "kernelspec": {
      "name": "python3",
      "display_name": "Python 3"
    }
  },
  "cells": [
    {
      "cell_type": "markdown",
      "metadata": {
        "id": "view-in-github",
        "colab_type": "text"
      },
      "source": [
        "<a href=\"https://colab.research.google.com/github/eric-huang5497/Math-152/blob/main/Exploration_1.ipynb\" target=\"_parent\"><img src=\"https://colab.research.google.com/assets/colab-badge.svg\" alt=\"Open In Colab\"/></a>"
      ]
    },
    {
      "cell_type": "code",
      "metadata": {
        "id": "snPBnw4qI6zC",
        "colab": {
          "base_uri": "https://localhost:8080/"
        },
        "outputId": "6cc2c6db-a213-48ac-d05c-045ec6ba516e"
      },
      "source": [
        "def collatz(n):\r\n",
        "  for i in range(100):\r\n",
        "    print(n)\r\n",
        "    n = (n/2 if n%2==0 else 3*n + 1)\r\n",
        "\r\n",
        "collatz(5)"
      ],
      "execution_count": null,
      "outputs": [
        {
          "output_type": "stream",
          "text": [
            "5\n",
            "16\n",
            "8.0\n",
            "4.0\n",
            "2.0\n",
            "1.0\n",
            "4.0\n",
            "2.0\n",
            "1.0\n",
            "4.0\n",
            "2.0\n",
            "1.0\n",
            "4.0\n",
            "2.0\n",
            "1.0\n",
            "4.0\n",
            "2.0\n",
            "1.0\n",
            "4.0\n",
            "2.0\n",
            "1.0\n",
            "4.0\n",
            "2.0\n",
            "1.0\n",
            "4.0\n",
            "2.0\n",
            "1.0\n",
            "4.0\n",
            "2.0\n",
            "1.0\n",
            "4.0\n",
            "2.0\n",
            "1.0\n",
            "4.0\n",
            "2.0\n",
            "1.0\n",
            "4.0\n",
            "2.0\n",
            "1.0\n",
            "4.0\n",
            "2.0\n",
            "1.0\n",
            "4.0\n",
            "2.0\n",
            "1.0\n",
            "4.0\n",
            "2.0\n",
            "1.0\n",
            "4.0\n",
            "2.0\n",
            "1.0\n",
            "4.0\n",
            "2.0\n",
            "1.0\n",
            "4.0\n",
            "2.0\n",
            "1.0\n",
            "4.0\n",
            "2.0\n",
            "1.0\n",
            "4.0\n",
            "2.0\n",
            "1.0\n",
            "4.0\n",
            "2.0\n",
            "1.0\n",
            "4.0\n",
            "2.0\n",
            "1.0\n",
            "4.0\n",
            "2.0\n",
            "1.0\n",
            "4.0\n",
            "2.0\n",
            "1.0\n",
            "4.0\n",
            "2.0\n",
            "1.0\n",
            "4.0\n",
            "2.0\n",
            "1.0\n",
            "4.0\n",
            "2.0\n",
            "1.0\n",
            "4.0\n",
            "2.0\n",
            "1.0\n",
            "4.0\n",
            "2.0\n",
            "1.0\n",
            "4.0\n",
            "2.0\n",
            "1.0\n",
            "4.0\n",
            "2.0\n",
            "1.0\n",
            "4.0\n",
            "2.0\n",
            "1.0\n",
            "4.0\n"
          ],
          "name": "stdout"
        }
      ]
    },
    {
      "cell_type": "code",
      "metadata": {
        "id": "UGu1EbwlKDVS"
      },
      "source": [
        ""
      ],
      "execution_count": null,
      "outputs": []
    }
  ]
}