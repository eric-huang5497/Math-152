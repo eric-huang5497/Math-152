{
  "nbformat": 4,
  "nbformat_minor": 0,
  "metadata": {
    "colab": {
      "name": "Exploration 1",
      "provenance": [],
      "collapsed_sections": [],
      "include_colab_link": true
    },
    "kernelspec": {
      "name": "python3",
      "display_name": "Python 3"
    }
  },
  "cells": [
    {
      "cell_type": "markdown",
      "metadata": {
        "id": "view-in-github",
        "colab_type": "text"
      },
      "source": [
        "<a href=\"https://colab.research.google.com/github/eric-huang5497/Math-152/blob/main/Exploration_1.ipynb\" target=\"_parent\"><img src=\"https://colab.research.google.com/assets/colab-badge.svg\" alt=\"Open In Colab\"/></a>"
      ]
    },
    {
      "cell_type": "markdown",
      "metadata": {
        "id": "4-ZeWKQ3NjI1"
      },
      "source": [
        "#Exploration of the 3n+1 Conjecture\r\n",
        "##By Aaron, Eric Huang, Brian Milne, Ethan Alon, Yuelian Li. \r\n",
        "###Introduction\r\n",
        "\r\n"
      ]
    },
    {
      "cell_type": "code",
      "metadata": {
        "id": "efUvi3NW7Wbu"
      },
      "source": [
        "def efficient_collatz(n):\n",
        "  '''\n",
        "  The modified_collatz function below is pretty inefficient because there are lots of intermediate steps for each calculation.\n",
        "  This is about as efficient as I think the usual collatz function can get, but if someone has a better idea, feel free to put it in.\n",
        "  '''\n",
        "  while n > 1:\n",
        "    if n %2 == 0:\n",
        "      n = n//2\n",
        "    else:\n",
        "      n = 3*n + 1\n",
        "  return True "
      ],
      "execution_count": null,
      "outputs": []
    },
    {
      "cell_type": "markdown",
      "metadata": {
        "id": "Xj6e8V1mg6Kc"
      },
      "source": [
        "##Analyzing Negative and Non-natural Numbers## "
      ]
    },
    {
      "cell_type": "markdown",
      "metadata": {
        "id": "vrSdb8xp6r-P"
      },
      "source": [
        "##Changing the rules\n",
        "\n",
        "Small changes to the two rules that describe the Collatz function can result in dramatic changes to the overall behavior of the function. For example, if we replace $n$ by $3n + 5$ when $n$ is odd, we find that there appear to be six distinct loops that all positive integers eventually reach, rather than the single loop we observe with the usual Collatz map. Instead of writing a brand new function for each new ruleset we wished to investigate, we wrote a function that could take in a starting value and a list of rules, and output the corresponding sequence.\n",
        "\n",
        "The `modified_collatz` function, and the other functions defined below, take a parameter called `ruleset`, which is expected to be a list of two-tuples $[(a_0, b_0), \\dots, (a_{k-1},b_{k-1})]$. Given $n$, it replaces $n$ by $a_i \\cdot n + b_i$, where $i$ is the value of $n$ modulo $k$. For example, the behavior of the usual Collatz function is captured by the list $[(1/2,0), (3,1)]$."
      ]
    },
    {
      "cell_type": "code",
      "metadata": {
        "id": "Y9QmfnaVN6ik",
        "colab": {
          "base_uri": "https://localhost:8080/"
        },
        "outputId": "0fa2e606-7063-4afb-fbba-ea95948a7143"
      },
      "source": [
        "def modified_collatz(n, ruleset = [(1/2,0), (3,1)], iterations = 200):\n",
        "  '''\n",
        "  The default value for ruleset is the list [(1/2,0), (3,1)], which gives the usual collatz function. \n",
        "  By default, len(ruleset)=2, so if n%2 == 0, we multiply n by 1/2 and add 0, and if n%2 == 1, we multiply n by 3 and add 1.\n",
        "\n",
        "  '''\n",
        "  arity = len(ruleset) #The modulus it checks n against to determine which rule to apply\n",
        "  for i in range(iterations): \n",
        "    print(n)\n",
        "    rem = n%arity #Picks out the appropriate rule from ruleset, based on the value of n modulo arity\n",
        "    n = int(ruleset[rem][0]*n + ruleset[rem][1]) \n",
        "\n",
        "def update(n,ruleset):\n",
        "  '''\n",
        "  Given a starting value and a list of rules, returns the next number in the sequence\n",
        "  '''\n",
        "  arity = len(ruleset)\n",
        "  rem = n%arity\n",
        "  return int(ruleset[rem][0]*n + ruleset[rem][1])\n",
        "\n",
        "modified_collatz(31, iterations = 110)\n",
        "\n",
        "\n"
      ],
      "execution_count": 17,
      "outputs": [
        {
          "output_type": "stream",
          "text": [
            "31\n",
            "94\n",
            "47\n",
            "142\n",
            "71\n",
            "214\n",
            "107\n",
            "322\n",
            "161\n",
            "484\n",
            "242\n",
            "121\n",
            "364\n",
            "182\n",
            "91\n",
            "274\n",
            "137\n",
            "412\n",
            "206\n",
            "103\n",
            "310\n",
            "155\n",
            "466\n",
            "233\n",
            "700\n",
            "350\n",
            "175\n",
            "526\n",
            "263\n",
            "790\n",
            "395\n",
            "1186\n",
            "593\n",
            "1780\n",
            "890\n",
            "445\n",
            "1336\n",
            "668\n",
            "334\n",
            "167\n",
            "502\n",
            "251\n",
            "754\n",
            "377\n",
            "1132\n",
            "566\n",
            "283\n",
            "850\n",
            "425\n",
            "1276\n",
            "638\n",
            "319\n",
            "958\n",
            "479\n",
            "1438\n",
            "719\n",
            "2158\n",
            "1079\n",
            "3238\n",
            "1619\n",
            "4858\n",
            "2429\n",
            "7288\n",
            "3644\n",
            "1822\n",
            "911\n",
            "2734\n",
            "1367\n",
            "4102\n",
            "2051\n",
            "6154\n",
            "3077\n",
            "9232\n",
            "4616\n",
            "2308\n",
            "1154\n",
            "577\n",
            "1732\n",
            "866\n",
            "433\n",
            "1300\n",
            "650\n",
            "325\n",
            "976\n",
            "488\n",
            "244\n",
            "122\n",
            "61\n",
            "184\n",
            "92\n",
            "46\n",
            "23\n",
            "70\n",
            "35\n",
            "106\n",
            "53\n",
            "160\n",
            "80\n",
            "40\n",
            "20\n",
            "10\n",
            "5\n",
            "16\n",
            "8\n",
            "4\n",
            "2\n",
            "1\n",
            "4\n",
            "2\n",
            "1\n"
          ],
          "name": "stdout"
        }
      ]
    },
    {
      "cell_type": "markdown",
      "metadata": {
        "id": "oiWvvLcwA1Lb"
      },
      "source": [
        "Now that we have a system in place which makes it simple to alter the rules of the Collatz function and observe how the behavior changes, we can search for rulesets which have particularly interesting behaviors. As what constitutes an \"interesting behavior\" is subjective, we focused on investigating the loops that arise with a given ruleset. Here, if $f$ is a modified Collatz function, we define a \"loop\" to be the sequence of values obtained starting with $n$, whenever $f^k(n) = n$ for some $k > 1$. We make the convention that we present loops so that the smallest element of the loop is the first listed.\n",
        "\n",
        "The Collatz conjecture states that no Collatz sequence diverges to infinity, and there is only a single loop which all positive integers eventually enter. Understanding how changes to the ruleset change the number and size of the loops produced would shed some light on why the usual Collatz sequence only has a single loop. The functions below are meant to aid in collecting statistics about the loops coming from different rulesets.\n",
        "\n"
      ]
    },
    {
      "cell_type": "code",
      "metadata": {
        "id": "RqNVfIESZIoi"
      },
      "source": [
        "def modified_collatz_loop_finder(n,ruleset,max_iterations = 1000):\n",
        "  '''\n",
        "  If the collatz sequence beginning with n results in a loop where n is the smallest element, this will return the loop found.\n",
        "  If the sequence enters a loop which has a smaller element than n, this will return nothing.\n",
        "  If it is inconclusive if the sequence enters a loop, this prints a message stating so.\n",
        "  '''\n",
        "  elements = [n] #The list of elements reached starting from n\n",
        "  tracker = update(n,ruleset) #Tracks the latest value in the sequence\n",
        "  iterations = 0\n",
        "  while tracker not in elements and tracker > n and iterations < max_iterations: \n",
        "    #Terminates if one of three conditions are met:\n",
        "    #1. The sequence repeats a value\n",
        "    #2. The sequence decreases below the starting value n\n",
        "    #3. The length of the sequence exceeds a maximum size\n",
        "    #Each iteration updates tracker and appends it to the list of elements\n",
        "    elements.append(tracker)\n",
        "    iterations += 1\n",
        "    tracker = update(tracker,ruleset)\n",
        "  if iterations == max_iterations: #This means that it is inconclusive if the sequence enters a loop or not.\n",
        "    print(ruleset)\n",
        "    print(\"Starting with {} produces either a very long sequence before looping, or an infinite ascending chain\".format(n))\n",
        "  elif tracker == n: #This means that n is the smallest element of a loop.\n",
        "    return len(elements), elements\n",
        "\n",
        "def num_loops_finder(ruleset, max_checked = 1000, max_iterations = 1000): \n",
        "  '''\n",
        "  Finds all loops that have a starting value less than max_checked and length less than max_iterations, and returns the number of loops found. \n",
        "  '''\n",
        "  num_loops = 0\n",
        "  for i in range(1,max_checked):\n",
        "    if type(modified_collatz_loop_finder(i,ruleset,max_iterations)) == tuple:\n",
        "      num_loops += 1\n",
        "  return num_loops\n",
        "\n",
        "def longest_loop_length(ruleset, max_checked = 1000,max_iterations = 1000):\n",
        "  '''\n",
        "  Finds all loops that have a starting value less than max_checked and length less than max_iterations, and returns the length of the longest loop found.\n",
        "  '''\n",
        "  longest_length = 0\n",
        "  for i in range(1,max_checked):\n",
        "    if type(modified_collatz_loop_finder(i,ruleset,max_iterations)) == tuple:\n",
        "      longest_length = max(longest_length, modified_collatz_loop_finder(i,ruleset,max_iterations)[0])\n",
        "  return longest_length"
      ],
      "execution_count": 110,
      "outputs": []
    },
    {
      "cell_type": "markdown",
      "metadata": {
        "id": "_b_WDWltNcqd"
      },
      "source": [
        "Below, we consider a modification to the rules of the Collatz function, where we instead choose what to do based on the value of $n$ mod 3. Specifically, we have\n",
        "$$f(n) = \\begin{cases} n/3 \\text{ if } n \\equiv 0 \\pmod{3} \\\\ 4n + 2 \\text{ if } n \\equiv 1 \\pmod{3} \\\\ 4n+1 \\text{ if } n\\equiv 2 \\pmod{3} \\end{cases} $$\n",
        "\n",
        "Below, we collect some statistice about loops found by starting under 10000, and print out all the loops found."
      ]
    },
    {
      "cell_type": "code",
      "metadata": {
        "colab": {
          "base_uri": "https://localhost:8080/"
        },
        "id": "ZWhZhPNwNwEI",
        "outputId": "cd5f1c7e-a110-4e31-c148-aa8334058eef"
      },
      "source": [
        "rules_list = [(1/3,0),(4,2), (4,1)]\n",
        "print(\"number of loops under 10000 is\", num_loops_finder(rules_list, 10000, 400))\n",
        "print(\"longest loop length under 10000 is\", longest_loop_length(rules_list, 10000, 400))\n",
        "\n",
        "for i in range(1,10000):\n",
        "  if modified_collatz_loop_finder(i,rules_list,400) != None:\n",
        "    print(modified_collatz_loop_finder(i,rules_list,400))"
      ],
      "execution_count": 109,
      "outputs": [
        {
          "output_type": "stream",
          "text": [
            "number of loops under 10000 is 2\n",
            "longest loop length under 10000 is 16\n",
            "(5, [1, 6, 2, 9, 3])\n",
            "(16, [7, 30, 10, 42, 14, 57, 19, 78, 26, 105, 35, 141, 47, 189, 63, 21])\n"
          ],
          "name": "stdout"
        }
      ]
    },
    {
      "cell_type": "markdown",
      "metadata": {
        "id": "6gRiAXg6OUq_"
      },
      "source": [
        "For a more involved example, we can search for interesting loop behavior over a collection of maps of the form \n",
        "$$C_k(n) = \\begin{cases} n/2 \\text{ if } n \\equiv 0 \\pmod{2} \\\\ 3n+k \\text{ if } n \\equiv 1 \\pmod{2} \\end{cases} $$\n",
        "where $k$ is an odd integer. Specifically, suppose we are looking for rulesets which result in one of three things:\n",
        "1. Exactly one loop\n",
        "2. More than 30 distinct loops\n",
        "3. A loop with length greater than 400\n",
        "\n",
        "We can find values of $k$ satisfying the above fairly easily using the functions defined earlier. In all cases, we check all starting values up to 10000, so it is possible that for a given $k$, there exist more loops which have a starting value greater than 10000. We first consider the first interesting critereon. "
      ]
    },
    {
      "cell_type": "code",
      "metadata": {
        "colab": {
          "base_uri": "https://localhost:8080/"
        },
        "id": "ZNn7RhVwh_xa",
        "outputId": "201e5af1-bcd1-48ff-c3fd-49efa19c83c0"
      },
      "source": [
        "print(\"These have exactly one loop:\")\n",
        "for k in range(1,1000,2):\n",
        "  if num_loops_finder([(1/2,0), (3,k)], 10000, 1000) == 1:\n",
        "    print(\"k = {} has exactly one loop\".format(k))"
      ],
      "execution_count": 126,
      "outputs": [
        {
          "output_type": "stream",
          "text": [
            "These have exactly one loop:\n",
            "k = 1 has exactly one loop\n",
            "k = 3 has exactly one loop\n",
            "k = 9 has exactly one loop\n",
            "k = 27 has exactly one loop\n",
            "k = 81 has exactly one loop\n",
            "k = 243 has exactly one loop\n",
            "k = 729 has exactly one loop\n"
          ],
          "name": "stdout"
        }
      ]
    },
    {
      "cell_type": "code",
      "metadata": {
        "id": "58-TQxmkmuxl"
      },
      "source": [
        ""
      ],
      "execution_count": null,
      "outputs": []
    },
    {
      "cell_type": "markdown",
      "metadata": {
        "id": "igXBZLvPdaDQ"
      },
      "source": [
        "The values of $k$ we found which have exactly one loop suggest that it is precisely the powers of 3 which result in a unique loop. Some thought reveals why powers of 3 behave in the same way: the assignment $n = 3n + 3^m$ will increases the highest power of $3$ which divides $n$, until $3^m \\mid n$. Then, if $n == 3^mj$, we have $n = 3^{m+1}j + 3^m == 3^m(3j + 1)$, so we simply have the regular Collatz function, with an extra factor of $3^m$. Indeed, we can see below that all values of $k$ of the form $5\\cdot 3^i$ appear to have 6 distinct loops."
      ]
    },
    {
      "cell_type": "code",
      "metadata": {
        "colab": {
          "base_uri": "https://localhost:8080/"
        },
        "id": "bdP55470lpkr",
        "outputId": "6ad2a4b4-6465-48c3-a549-4015272f677f"
      },
      "source": [
        "for i in range(5):\n",
        "  print(\"5*3**{} has {} loops\".format(i,num_loops_finder([(1/2,0), (3,5*3**i)], 100000, 1000)))"
      ],
      "execution_count": 131,
      "outputs": [
        {
          "output_type": "stream",
          "text": [
            "5*3**0 has 6 loops\n",
            "5*3**1 has 6 loops\n",
            "5*3**2 has 6 loops\n",
            "5*3**3 has 6 loops\n",
            "5*3**4 has 6 loops\n"
          ],
          "name": "stdout"
        }
      ]
    },
    {
      "cell_type": "markdown",
      "metadata": {
        "id": "5yPxbqSCmn4c"
      },
      "source": [
        "Now, we search for values of $k$ which have many loops, or particularly long loops."
      ]
    },
    {
      "cell_type": "code",
      "metadata": {
        "colab": {
          "base_uri": "https://localhost:8080/"
        },
        "id": "7iu6x3G6Qmaj",
        "outputId": "261796dd-adae-4a7d-f019-8bd1e3e4f736"
      },
      "source": [
        "print(\"These have lots of loops:\")\n",
        "for k in range(1,1000,2):\n",
        "  if num_loops_finder([(1/2,0), (3,k)], 10000, 1000) > 30:\n",
        "    print(\"k = {} has {} loops\".format(k,num_loops_finder([(1/2,0), (3,k)], 10000, 1000)))"
      ],
      "execution_count": 111,
      "outputs": [
        {
          "output_type": "stream",
          "text": [
            "These have lots of loops:\n",
            "k = 499 has 49 loops\n",
            "k = 781 has 36 loops\n",
            "k = 893 has 32 loops\n"
          ],
          "name": "stdout"
        }
      ]
    },
    {
      "cell_type": "code",
      "metadata": {
        "colab": {
          "base_uri": "https://localhost:8080/"
        },
        "id": "RHnP91_BXjpN",
        "outputId": "7d18695d-7b98-4276-c85e-545039efb07a"
      },
      "source": [
        "print(\"These have long loops:\")\n",
        "for k in range(1,1000,2):\n",
        "  if longest_loop_length([(1/2,0), (3,k)], 10000, 1000) > 400:\n",
        "    print(\"k = {} has a loop of length {}\".format(k,longest_loop_length([(1/2,0), (3,k)], 10000, 1000)))"
      ],
      "execution_count": 112,
      "outputs": [
        {
          "output_type": "stream",
          "text": [
            "These have long loops:\n",
            "k = 509 has a loop of length 404\n",
            "k = 563 has a loop of length 641\n",
            "k = 751 has a loop of length 429\n",
            "k = 853 has a loop of length 451\n",
            "k = 869 has a loop of length 446\n",
            "k = 947 has a loop of length 421\n",
            "k = 961 has a loop of length 405\n",
            "k = 977 has a loop of length 412\n"
          ],
          "name": "stdout"
        }
      ]
    },
    {
      "cell_type": "markdown",
      "metadata": {
        "id": "YybChswYmXXH"
      },
      "source": [
        "Now that we have found some values of $k$ which have many loops, or particularly long loops, we can take a closer look by listing all the loops found. This also allows us to search up to a much higher maximum starting value of 1,000,000, which allows us to be more confident that we have found all the loops there are."
      ]
    },
    {
      "cell_type": "code",
      "metadata": {
        "colab": {
          "base_uri": "https://localhost:8080/"
        },
        "id": "fw9atEPEemDn",
        "outputId": "9a5811b0-fe39-45b0-d419-10a8c696d159"
      },
      "source": [
        "print('Loops for k = 499:')\n",
        "\n",
        "for i in range(1,1000000):\n",
        "  if modified_collatz_loop_finder(i,[(1/2,0), (3,499)],1000) != None:\n",
        "    print(modified_collatz_loop_finder(i,[(1/2,0), (3,499)],1000))"
      ],
      "execution_count": 123,
      "outputs": [
        {
          "output_type": "stream",
          "text": [
            "Loops for k = 499:\n",
            "(66, [1, 502, 251, 1252, 626, 313, 1438, 719, 2656, 1328, 664, 332, 166, 83, 748, 374, 187, 1060, 530, 265, 1294, 647, 2440, 1220, 610, 305, 1414, 707, 2620, 1310, 655, 2464, 1232, 616, 308, 154, 77, 730, 365, 1594, 797, 2890, 1445, 4834, 2417, 7750, 3875, 12124, 6062, 3031, 9592, 4796, 2398, 1199, 4096, 2048, 1024, 512, 256, 128, 64, 32, 16, 8, 4, 2])\n",
            "(66, [23, 568, 284, 142, 71, 712, 356, 178, 89, 766, 383, 1648, 824, 412, 206, 103, 808, 404, 202, 101, 802, 401, 1702, 851, 3052, 1526, 763, 2788, 1394, 697, 2590, 1295, 4384, 2192, 1096, 548, 274, 137, 910, 455, 1864, 932, 466, 233, 1198, 599, 2296, 1148, 574, 287, 1360, 680, 340, 170, 85, 754, 377, 1630, 815, 2944, 1472, 736, 368, 184, 92, 46])\n",
            "(300, [139, 916, 458, 229, 1186, 593, 2278, 1139, 3916, 1958, 979, 3436, 1718, 859, 3076, 1538, 769, 2806, 1403, 4708, 2354, 1177, 4030, 2015, 6544, 3272, 1636, 818, 409, 1726, 863, 3088, 1544, 772, 386, 193, 1078, 539, 2116, 1058, 529, 2086, 1043, 3628, 1814, 907, 3220, 1610, 805, 2914, 1457, 4870, 2435, 7804, 3902, 1951, 6352, 3176, 1588, 794, 397, 1690, 845, 3034, 1517, 5050, 2525, 8074, 4037, 12610, 6305, 19414, 9707, 29620, 14810, 7405, 22714, 11357, 34570, 17285, 52354, 26177, 79030, 39515, 119044, 59522, 29761, 89782, 44891, 135172, 67586, 33793, 101878, 50939, 153316, 76658, 38329, 115486, 57743, 173728, 86864, 43432, 21716, 10858, 5429, 16786, 8393, 25678, 12839, 39016, 19508, 9754, 4877, 15130, 7565, 23194, 11597, 35290, 17645, 53434, 26717, 80650, 40325, 121474, 60737, 182710, 91355, 274564, 137282, 68641, 206422, 103211, 310132, 155066, 77533, 233098, 116549, 350146, 175073, 525718, 262859, 789076, 394538, 197269, 592306, 296153, 888958, 444479, 1333936, 666968, 333484, 166742, 83371, 250612, 125306, 62653, 188458, 94229, 283186, 141593, 425278, 212639, 638416, 319208, 159604, 79802, 39901, 120202, 60101, 180802, 90401, 271702, 135851, 408052, 204026, 102013, 306538, 153269, 460306, 230153, 690958, 345479, 1036936, 518468, 259234, 129617, 389350, 194675, 584524, 292262, 146131, 438892, 219446, 109723, 329668, 164834, 82417, 247750, 123875, 372124, 186062, 93031, 279592, 139796, 69898, 34949, 105346, 52673, 158518, 79259, 238276, 119138, 59569, 179206, 89603, 269308, 134654, 67327, 202480, 101240, 50620, 25310, 12655, 38464, 19232, 9616, 4808, 2404, 1202, 601, 2302, 1151, 3952, 1976, 988, 494, 247, 1240, 620, 310, 155, 964, 482, 241, 1222, 611, 2332, 1166, 583, 2248, 1124, 562, 281, 1342, 671, 2512, 1256, 628, 314, 157, 970, 485, 1954, 977, 3430, 1715, 5644, 2822, 1411, 4732, 2366, 1183, 4048, 2024, 1012, 506, 253, 1258, 629, 2386, 1193, 4078, 2039, 6616, 3308, 1654, 827, 2980, 1490, 745, 2734, 1367, 4600, 2300, 1150, 575, 2224, 1112, 556, 278])\n",
            "(3, [499, 1996, 998])\n",
            "(130, [1549, 5146, 2573, 8218, 4109, 12826, 6413, 19738, 9869, 30106, 15053, 45658, 22829, 68986, 34493, 103978, 51989, 156466, 78233, 235198, 117599, 353296, 176648, 88324, 44162, 22081, 66742, 33371, 100612, 50306, 25153, 75958, 37979, 114436, 57218, 28609, 86326, 43163, 129988, 64994, 32497, 97990, 48995, 147484, 73742, 36871, 111112, 55556, 27778, 13889, 42166, 21083, 63748, 31874, 15937, 48310, 24155, 72964, 36482, 18241, 55222, 27611, 83332, 41666, 20833, 62998, 31499, 94996, 47498, 23749, 71746, 35873, 108118, 54059, 162676, 81338, 40669, 122506, 61253, 184258, 92129, 276886, 138443, 415828, 207914, 103957, 312370, 156185, 469054, 234527, 704080, 352040, 176020, 88010, 44005, 132514, 66257, 199270, 99635, 299404, 149702, 74851, 225052, 112526, 56263, 169288, 84644, 42322, 21161, 63982, 31991, 96472, 48236, 24118, 12059, 36676, 18338, 9169, 28006, 14003, 42508, 21254, 10627, 32380, 16190, 8095, 24784, 12392, 6196, 3098])\n",
            "(78, [2381, 7642, 3821, 11962, 5981, 18442, 9221, 28162, 14081, 42742, 21371, 64612, 32306, 16153, 48958, 24479, 73936, 36968, 18484, 9242, 4621, 14362, 7181, 22042, 11021, 33562, 16781, 50842, 25421, 76762, 38381, 115642, 57821, 173962, 86981, 261442, 130721, 392662, 196331, 589492, 294746, 147373, 442618, 221309, 664426, 332213, 997138, 498569, 1496206, 748103, 2244808, 1122404, 561202, 280601, 842302, 421151, 1263952, 631976, 315988, 157994, 78997, 237490, 118745, 356734, 178367, 535600, 267800, 133900, 66950, 33475, 100924, 50462, 25231, 76192, 38096, 19048, 9524, 4762])\n",
            "(52, [4189, 13066, 6533, 20098, 10049, 30646, 15323, 46468, 23234, 11617, 35350, 17675, 53524, 26762, 13381, 40642, 20321, 61462, 30731, 92692, 46346, 23173, 70018, 35009, 105526, 52763, 158788, 79394, 39697, 119590, 59795, 179884, 89942, 44971, 135412, 67706, 33853, 102058, 51029, 153586, 76793, 230878, 115439, 346816, 173408, 86704, 43352, 21676, 10838, 5419, 16756, 8378])\n",
            "(52, [4513, 14038, 7019, 21556, 10778, 5389, 16666, 8333, 25498, 12749, 38746, 19373, 58618, 29309, 88426, 44213, 133138, 66569, 200206, 100103, 300808, 150404, 75202, 37601, 113302, 56651, 170452, 85226, 42613, 128338, 64169, 193006, 96503, 290008, 145004, 72502, 36251, 109252, 54626, 27313, 82438, 41219, 124156, 62078, 31039, 93616, 46808, 23404, 11702, 5851, 18052, 9026])\n",
            "(52, [4525, 14074, 7037, 21610, 10805, 32914, 16457, 49870, 24935, 75304, 37652, 18826, 9413, 28738, 14369, 43606, 21803, 65908, 32954, 16477, 49930, 24965, 75394, 37697, 113590, 56795, 170884, 85442, 42721, 128662, 64331, 193492, 96746, 48373, 145618, 72809, 218926, 109463, 328888, 164444, 82222, 41111, 123832, 61916, 30958, 15479, 46936, 23468, 11734, 5867, 18100, 9050])\n",
            "(52, [4781, 14842, 7421, 22762, 11381, 34642, 17321, 52462, 26231, 79192, 39596, 19798, 9899, 30196, 15098, 7549, 23146, 11573, 35218, 17609, 53326, 26663, 80488, 40244, 20122, 10061, 30682, 15341, 46522, 23261, 70282, 35141, 105922, 52961, 159382, 79691, 239572, 119786, 59893, 180178, 90089, 270766, 135383, 406648, 203324, 101662, 50831, 152992, 76496, 38248, 19124, 9562])\n",
            "(26, [5005, 15514, 7757, 23770, 11885, 36154, 18077, 54730, 27365, 82594, 41297, 124390, 62195, 187084, 93542, 46771, 140812, 70406, 35203, 106108, 53054, 26527, 80080, 40040, 20020, 10010])\n",
            "(52, [5281, 16342, 8171, 25012, 12506, 6253, 19258, 9629, 29386, 14693, 44578, 22289, 67366, 33683, 101548, 50774, 25387, 76660, 38330, 19165, 57994, 28997, 87490, 43745, 131734, 65867, 198100, 99050, 49525, 149074, 74537, 224110, 112055, 336664, 168332, 84166, 42083, 126748, 63374, 31687, 95560, 47780, 23890, 11945, 36334, 18167, 55000, 27500, 13750, 6875, 21124, 10562])\n",
            "(26, [5357, 16570, 8285, 25354, 12677, 38530, 19265, 58294, 29147, 87940, 43970, 21985, 66454, 33227, 100180, 50090, 25045, 75634, 37817, 113950, 56975, 171424, 85712, 42856, 21428, 10714])\n",
            "(26, [5453, 16858, 8429, 25786, 12893, 39178, 19589, 59266, 29633, 89398, 44699, 134596, 67298, 33649, 101446, 50723, 152668, 76334, 38167, 115000, 57500, 28750, 14375, 43624, 21812, 10906])\n",
            "(52, [5501, 17002, 8501, 26002, 13001, 39502, 19751, 59752, 29876, 14938, 7469, 22906, 11453, 34858, 17429, 52786, 26393, 79678, 39839, 120016, 60008, 30004, 15002, 7501, 23002, 11501, 35002, 17501, 53002, 26501, 80002, 40001, 120502, 60251, 181252, 90626, 45313, 136438, 68219, 205156, 102578, 51289, 154366, 77183, 232048, 116024, 58012, 29006, 14503, 44008, 22004, 11002])\n",
            "(26, [5581, 17242, 8621, 26362, 13181, 40042, 20021, 60562, 30281, 91342, 45671, 137512, 68756, 34378, 17189, 52066, 26033, 78598, 39299, 118396, 59198, 29599, 89296, 44648, 22324, 11162])\n",
            "(26, [5773, 17818, 8909, 27226, 13613, 41338, 20669, 62506, 31253, 94258, 47129, 141886, 70943, 213328, 106664, 53332, 26666, 13333, 40498, 20249, 61246, 30623, 92368, 46184, 23092, 11546])\n",
            "(26, [5965, 18394, 9197, 28090, 14045, 42634, 21317, 64450, 32225, 97174, 48587, 146260, 73130, 36565, 110194, 55097, 165790, 82895, 249184, 124592, 62296, 31148, 15574, 7787, 23860, 11930])\n",
            "(26, [6029, 18586, 9293, 28378, 14189, 43066, 21533, 65098, 32549, 98146, 49073, 147718, 73859, 222076, 111038, 55519, 167056, 83528, 41764, 20882, 10441, 31822, 15911, 48232, 24116, 12058])\n",
            "(26, [6085, 18754, 9377, 28630, 14315, 43444, 21722, 10861, 33082, 16541, 50122, 25061, 75682, 37841, 114022, 57011, 171532, 85766, 42883, 129148, 64574, 32287, 97360, 48680, 24340, 12170])\n",
            "(26, [6221, 19162, 9581, 29242, 14621, 44362, 22181, 67042, 33521, 101062, 50531, 152092, 76046, 38023, 114568, 57284, 28642, 14321, 43462, 21731, 65692, 32846, 16423, 49768, 24884, 12442])\n",
            "(26, [6365, 19594, 9797, 29890, 14945, 45334, 22667, 68500, 34250, 17125, 51874, 25937, 78310, 39155, 117964, 58982, 29491, 88972, 44486, 22243, 67228, 33614, 16807, 50920, 25460, 12730])\n",
            "(26, [6605, 20314, 10157, 30970, 15485, 46954, 23477, 70930, 35465, 106894, 53447, 160840, 80420, 40210, 20105, 60814, 30407, 91720, 45860, 22930, 11465, 34894, 17447, 52840, 26420, 13210])\n",
            "(26, [6853, 21058, 10529, 32086, 16043, 48628, 24314, 12157, 36970, 18485, 55954, 27977, 84430, 42215, 127144, 63572, 31786, 15893, 48178, 24089, 72766, 36383, 109648, 54824, 27412, 13706])\n",
            "(26, [6893, 21178, 10589, 32266, 16133, 48898, 24449, 73846, 36923, 111268, 55634, 27817, 83950, 41975, 126424, 63212, 31606, 15803, 47908, 23954, 11977, 36430, 18215, 55144, 27572, 13786])\n",
            "(26, [7069, 21706, 10853, 33058, 16529, 50086, 25043, 75628, 37814, 18907, 57220, 28610, 14305, 43414, 21707, 65620, 32810, 16405, 49714, 24857, 75070, 37535, 113104, 56552, 28276, 14138])\n",
            "(26, [7073, 21718, 10859, 33076, 16538, 8269, 25306, 12653, 38458, 19229, 58186, 29093, 87778, 43889, 132166, 66083, 198748, 99374, 49687, 149560, 74780, 37390, 18695, 56584, 28292, 14146])\n",
            "(26, [7085, 21754, 10877, 33130, 16565, 50194, 25097, 75790, 37895, 114184, 57092, 28546, 14273, 43318, 21659, 65476, 32738, 16369, 49606, 24803, 74908, 37454, 18727, 56680, 28340, 14170])\n",
            "(26, [7109, 21826, 10913, 33238, 16619, 50356, 25178, 12589, 38266, 19133, 57898, 28949, 87346, 43673, 131518, 65759, 197776, 98888, 49444, 24722, 12361, 37582, 18791, 56872, 28436, 14218])\n",
            "(26, [7117, 21850, 10925, 33274, 16637, 50410, 25205, 76114, 38057, 114670, 57335, 172504, 86252, 43126, 21563, 65188, 32594, 16297, 49390, 24695, 74584, 37292, 18646, 9323, 28468, 14234])\n",
            "(26, [7201, 22102, 11051, 33652, 16826, 8413, 25738, 12869, 39106, 19553, 59158, 29579, 89236, 44618, 22309, 67426, 33713, 101638, 50819, 152956, 76478, 38239, 115216, 57608, 28804, 14402])\n",
            "(26, [7261, 22282, 11141, 33922, 16961, 51382, 25691, 77572, 38786, 19393, 58678, 29339, 88516, 44258, 22129, 66886, 33443, 100828, 50414, 25207, 76120, 38060, 19030, 9515, 29044, 14522])\n",
            "(26, [7517, 23050, 11525, 35074, 17537, 53110, 26555, 80164, 40082, 20041, 60622, 30311, 91432, 45716, 22858, 11429, 34786, 17393, 52678, 26339, 79516, 39758, 19879, 60136, 30068, 15034])\n",
            "(26, [7525, 23074, 11537, 35110, 17555, 53164, 26582, 13291, 40372, 20186, 10093, 30778, 15389, 46666, 23333, 70498, 35249, 106246, 53123, 159868, 79934, 39967, 120400, 60200, 30100, 15050])\n",
            "(26, [7585, 23254, 11627, 35380, 17690, 8845, 27034, 13517, 41050, 20525, 62074, 31037, 93610, 46805, 140914, 70457, 211870, 105935, 318304, 159152, 79576, 39788, 19894, 9947, 30340, 15170])\n",
            "(26, [7789, 23866, 11933, 36298, 18149, 54946, 27473, 82918, 41459, 124876, 62438, 31219, 94156, 47078, 23539, 71116, 35558, 17779, 53836, 26918, 13459, 40876, 20438, 10219, 31156, 15578])\n",
            "(26, [7841, 24022, 12011, 36532, 18266, 9133, 27898, 13949, 42346, 21173, 64018, 32009, 96526, 48263, 145288, 72644, 36322, 18161, 54982, 27491, 82972, 41486, 20743, 62728, 31364, 15682])\n",
            "(26, [7901, 24202, 12101, 36802, 18401, 55702, 27851, 84052, 42026, 21013, 63538, 31769, 95806, 47903, 144208, 72104, 36052, 18026, 9013, 27538, 13769, 41806, 20903, 63208, 31604, 15802])\n",
            "(26, [8225, 25174, 12587, 38260, 19130, 9565, 29194, 14597, 44290, 22145, 66934, 33467, 100900, 50450, 25225, 76174, 38087, 114760, 57380, 28690, 14345, 43534, 21767, 65800, 32900, 16450])\n",
            "(26, [8513, 26038, 13019, 39556, 19778, 9889, 30166, 15083, 45748, 22874, 11437, 34810, 17405, 52714, 26357, 79570, 39785, 119854, 59927, 180280, 90140, 45070, 22535, 68104, 34052, 17026])\n",
            "(26, [8545, 26134, 13067, 39700, 19850, 9925, 30274, 15137, 45910, 22955, 69364, 34682, 17341, 52522, 26261, 79282, 39641, 119422, 59711, 179632, 89816, 44908, 22454, 11227, 34180, 17090])\n",
            "(26, [8549, 26146, 13073, 39718, 19859, 60076, 30038, 15019, 45556, 22778, 11389, 34666, 17333, 52498, 26249, 79246, 39623, 119368, 59684, 29842, 14921, 45262, 22631, 68392, 34196, 17098])\n",
            "(26, [8581, 26242, 13121, 39862, 19931, 60292, 30146, 15073, 45718, 22859, 69076, 34538, 17269, 52306, 26153, 78958, 39479, 118936, 59468, 29734, 14867, 45100, 22550, 11275, 34324, 17162])\n",
            "(26, [8737, 26710, 13355, 40564, 20282, 10141, 30922, 15461, 46882, 23441, 70822, 35411, 106732, 53366, 26683, 80548, 40274, 20137, 60910, 30455, 91864, 45932, 22966, 11483, 34948, 17474])\n",
            "(26, [8797, 26890, 13445, 40834, 20417, 61750, 30875, 93124, 46562, 23281, 70342, 35171, 106012, 53006, 26503, 80008, 40004, 20002, 10001, 30502, 15251, 46252, 23126, 11563, 35188, 17594])\n",
            "(26, [8837, 27010, 13505, 41014, 20507, 62020, 31010, 15505, 47014, 23507, 71020, 35510, 17755, 53764, 26882, 13441, 40822, 20411, 61732, 30866, 15433, 46798, 23399, 70696, 35348, 17674])\n",
            "(26, [9061, 27682, 13841, 42022, 21011, 63532, 31766, 15883, 48148, 24074, 12037, 36610, 18305, 55414, 27707, 83620, 41810, 20905, 63214, 31607, 95320, 47660, 23830, 11915, 36244, 18122])\n",
            "(26, [9085, 27754, 13877, 42130, 21065, 63694, 31847, 96040, 48020, 24010, 12005, 36514, 18257, 55270, 27635, 83404, 41702, 20851, 63052, 31526, 15763, 47788, 23894, 11947, 36340, 18170])\n",
            "(26, [9445, 28834, 14417, 43750, 21875, 66124, 33062, 16531, 50092, 25046, 12523, 38068, 19034, 9517, 29050, 14525, 44074, 22037, 66610, 33305, 100414, 50207, 151120, 75560, 37780, 18890])\n",
            "(26, [10433, 31798, 15899, 48196, 24098, 12049, 36646, 18323, 55468, 27734, 13867, 42100, 21050, 10525, 32074, 16037, 48610, 24305, 73414, 36707, 110620, 55310, 27655, 83464, 41732, 20866])\n",
            "(26, [10465, 31894, 15947, 48340, 24170, 12085, 36754, 18377, 55630, 27815, 83944, 41972, 20986, 10493, 31978, 15989, 48466, 24233, 73198, 36599, 110296, 55148, 27574, 13787, 41860, 20930])\n",
            "(26, [10817, 32950, 16475, 49924, 24962, 12481, 37942, 18971, 57412, 28706, 14353, 43558, 21779, 65836, 32918, 16459, 49876, 24938, 12469, 37906, 18953, 57358, 28679, 86536, 43268, 21634])\n",
            "(26, [10849, 33046, 16523, 50068, 25034, 12517, 38050, 19025, 57574, 28787, 86860, 43430, 21715, 65644, 32822, 16411, 49732, 24866, 12433, 37798, 18899, 57196, 28598, 14299, 43396, 21698])\n"
          ],
          "name": "stdout"
        }
      ]
    },
    {
      "cell_type": "code",
      "metadata": {
        "colab": {
          "base_uri": "https://localhost:8080/"
        },
        "id": "y5EYymgOcW1v",
        "outputId": "4430f149-9ddb-4390-a7f3-3d1c1f14c888"
      },
      "source": [
        "print('Loops for k = 781:')\n",
        "\n",
        "for i in range(1,1000000):\n",
        "  if modified_collatz_loop_finder(i,[(1/2,0), (3,781)],1000) != None:\n",
        "    print(modified_collatz_loop_finder(i,[(1/2,0), (3,781)],1000))"
      ],
      "execution_count": 124,
      "outputs": [
        {
          "output_type": "stream",
          "text": [
            "Loops for k = 781:\n",
            "(60, [29, 868, 434, 217, 1432, 716, 358, 179, 1318, 659, 2758, 1379, 4918, 2459, 8158, 4079, 13018, 6509, 20308, 10154, 5077, 16012, 8006, 4003, 12790, 6395, 19966, 9983, 30730, 15365, 46876, 23438, 11719, 35938, 17969, 54688, 27344, 13672, 6836, 3418, 1709, 5908, 2954, 1477, 5212, 2606, 1303, 4690, 2345, 7816, 3908, 1954, 977, 3712, 1856, 928, 464, 232, 116, 58])\n",
            "(8, [71, 994, 497, 2272, 1136, 568, 284, 142])\n",
            "(30, [83, 1030, 515, 2326, 1163, 4270, 2135, 7186, 3593, 11560, 5780, 2890, 1445, 5116, 2558, 1279, 4618, 2309, 7708, 3854, 1927, 6562, 3281, 10624, 5312, 2656, 1328, 664, 332, 166])\n",
            "(45, [107, 1102, 551, 2434, 1217, 4432, 2216, 1108, 554, 277, 1612, 806, 403, 1990, 995, 3766, 1883, 6430, 3215, 10426, 5213, 16420, 8210, 4105, 13096, 6548, 3274, 1637, 5692, 2846, 1423, 5050, 2525, 8356, 4178, 2089, 7048, 3524, 1762, 881, 3424, 1712, 856, 428, 214])\n",
            "(45, [119, 1138, 569, 2488, 1244, 622, 311, 1714, 857, 3352, 1676, 838, 419, 2038, 1019, 3838, 1919, 6538, 3269, 10588, 5294, 2647, 8722, 4361, 13864, 6932, 3466, 1733, 5980, 2990, 1495, 5266, 2633, 8680, 4340, 2170, 1085, 4036, 2018, 1009, 3808, 1904, 952, 476, 238])\n",
            "(60, [157, 1252, 626, 313, 1720, 860, 430, 215, 1426, 713, 2920, 1460, 730, 365, 1876, 938, 469, 2188, 1094, 547, 2422, 1211, 4414, 2207, 7402, 3701, 11884, 5942, 2971, 9694, 4847, 15322, 7661, 23764, 11882, 5941, 18604, 9302, 4651, 14734, 7367, 22882, 11441, 35104, 17552, 8776, 4388, 2194, 1097, 4072, 2036, 1018, 509, 2308, 1154, 577, 2512, 1256, 628, 314])\n",
            "(30, [203, 1390, 695, 2866, 1433, 5080, 2540, 1270, 635, 2686, 1343, 4810, 2405, 7996, 3998, 1999, 6778, 3389, 10948, 5474, 2737, 8992, 4496, 2248, 1124, 562, 281, 1624, 812, 406])\n",
            "(15, [211, 1414, 707, 2902, 1451, 5134, 2567, 8482, 4241, 13504, 6752, 3376, 1688, 844, 422])\n",
            "(30, [223, 1450, 725, 2956, 1478, 739, 2998, 1499, 5278, 2639, 8698, 4349, 13828, 6914, 3457, 11152, 5576, 2788, 1394, 697, 2872, 1436, 718, 359, 1858, 929, 3568, 1784, 892, 446])\n",
            "(15, [227, 1462, 731, 2974, 1487, 5242, 2621, 8644, 4322, 2161, 7264, 3632, 1816, 908, 454])\n",
            "(30, [239, 1498, 749, 3028, 1514, 757, 3052, 1526, 763, 3070, 1535, 5386, 2693, 8860, 4430, 2215, 7426, 3713, 11920, 5960, 2980, 1490, 745, 3016, 1508, 754, 377, 1912, 956, 478])\n",
            "(15, [251, 1534, 767, 3082, 1541, 5404, 2702, 1351, 4834, 2417, 8032, 4016, 2008, 1004, 502])\n",
            "(15, [259, 1558, 779, 3118, 1559, 5458, 2729, 8968, 4484, 2242, 1121, 4144, 2072, 1036, 518])\n",
            "(15, [283, 1630, 815, 3226, 1613, 5620, 2810, 1405, 4996, 2498, 1249, 4528, 2264, 1132, 566])\n",
            "(15, [287, 1642, 821, 3244, 1622, 811, 3214, 1607, 5602, 2801, 9184, 4592, 2296, 1148, 574])\n",
            "(15, [319, 1738, 869, 3388, 1694, 847, 3322, 1661, 5764, 2882, 1441, 5104, 2552, 1276, 638])\n",
            "(15, [323, 1750, 875, 3406, 1703, 5890, 2945, 9616, 4808, 2404, 1202, 601, 2584, 1292, 646])\n",
            "(15, [331, 1774, 887, 3442, 1721, 5944, 2972, 1486, 743, 3010, 1505, 5296, 2648, 1324, 662])\n",
            "(15, [341, 1804, 902, 451, 2134, 1067, 3982, 1991, 6754, 3377, 10912, 5456, 2728, 1364, 682])\n",
            "(15, [347, 1822, 911, 3514, 1757, 6052, 3026, 1513, 5320, 2660, 1330, 665, 2776, 1388, 694])\n",
            "(15, [367, 1882, 941, 3604, 1802, 901, 3484, 1742, 871, 3394, 1697, 5872, 2936, 1468, 734])\n",
            "(15, [373, 1900, 950, 475, 2206, 1103, 4090, 2045, 6916, 3458, 1729, 5968, 2984, 1492, 746])\n",
            "(15, [383, 1930, 965, 3676, 1838, 919, 3538, 1769, 6088, 3044, 1522, 761, 3064, 1532, 766])\n",
            "(15, [395, 1966, 983, 3730, 1865, 6376, 3188, 1594, 797, 3172, 1586, 793, 3160, 1580, 790])\n",
            "(15, [421, 2044, 1022, 511, 2314, 1157, 4252, 2126, 1063, 3970, 1985, 6736, 3368, 1684, 842])\n",
            "(15, [431, 2074, 1037, 3892, 1946, 973, 3700, 1850, 925, 3556, 1778, 889, 3448, 1724, 862])\n",
            "(15, [437, 2092, 1046, 523, 2350, 1175, 4306, 2153, 7240, 3620, 1810, 905, 3496, 1748, 874])\n",
            "(15, [439, 2098, 1049, 3928, 1964, 982, 491, 2254, 1127, 4162, 2081, 7024, 3512, 1756, 878])\n",
            "(15, [485, 2236, 1118, 559, 2458, 1229, 4468, 2234, 1117, 4132, 2066, 1033, 3880, 1940, 970])\n",
            "(15, [493, 2260, 1130, 565, 2476, 1238, 619, 2638, 1319, 4738, 2369, 7888, 3944, 1972, 986])\n",
            "(15, [503, 2290, 1145, 4216, 2108, 1054, 527, 2362, 1181, 4324, 2162, 1081, 4024, 2012, 1006])\n",
            "(15, [557, 2452, 1226, 613, 2620, 1310, 655, 2746, 1373, 4900, 2450, 1225, 4456, 2228, 1114])\n",
            "(15, [581, 2524, 1262, 631, 2674, 1337, 4792, 2396, 1198, 599, 2578, 1289, 4648, 2324, 1162])\n",
            "(15, [653, 2740, 1370, 685, 2836, 1418, 709, 2908, 1454, 727, 2962, 1481, 5224, 2612, 1306])\n",
            "(3, [781, 3124, 1562])\n",
            "(22, [923, 3550, 1775, 6106, 3053, 9940, 4970, 2485, 8236, 4118, 2059, 6958, 3479, 11218, 5609, 17608, 8804, 4402, 2201, 7384, 3692, 1846])\n",
            "(44, [28435, 86086, 43043, 129910, 64955, 195646, 97823, 294250, 147125, 442156, 221078, 110539, 332398, 166199, 499378, 249689, 749848, 374924, 187462, 93731, 281974, 140987, 423742, 211871, 636394, 318197, 955372, 477686, 238843, 717310, 358655, 1076746, 538373, 1615900, 807950, 403975, 1212706, 606353, 1819840, 909920, 454960, 227480, 113740, 56870])\n",
            "(44, [30899, 93478, 46739, 140998, 70499, 212278, 106139, 319198, 159599, 479578, 239789, 720148, 360074, 180037, 540892, 270446, 135223, 406450, 203225, 610456, 305228, 152614, 76307, 229702, 114851, 345334, 172667, 518782, 259391, 778954, 389477, 1169212, 584606, 292303, 877690, 438845, 1317316, 658658, 329329, 988768, 494384, 247192, 123596, 61798])\n",
            "(44, [43835, 132286, 66143, 199210, 99605, 299596, 149798, 74899, 225478, 112739, 338998, 169499, 509278, 254639, 764698, 382349, 1147828, 573914, 286957, 861652, 430826, 215413, 647020, 323510, 161755, 486046, 243023, 729850, 364925, 1095556, 547778, 273889, 822448, 411224, 205612, 102806, 51403, 154990, 77495, 233266, 116633, 350680, 175340, 87670])\n",
            "(44, [45331, 136774, 68387, 205942, 102971, 309694, 154847, 465322, 232661, 698764, 349382, 174691, 524854, 262427, 788062, 394031, 1182874, 591437, 1775092, 887546, 443773, 1332100, 666050, 333025, 999856, 499928, 249964, 124982, 62491, 188254, 94127, 283162, 141581, 425524, 212762, 106381, 319924, 159962, 79981, 240724, 120362, 60181, 181324, 90662])\n",
            "(44, [48499, 146278, 73139, 220198, 110099, 331078, 165539, 497398, 248699, 746878, 373439, 1121098, 560549, 1682428, 841214, 420607, 1262602, 631301, 1894684, 947342, 473671, 1421794, 710897, 2133472, 1066736, 533368, 266684, 133342, 66671, 200794, 100397, 301972, 150986, 75493, 227260, 113630, 56815, 171226, 85613, 257620, 128810, 64405, 193996, 96998])\n"
          ],
          "name": "stdout"
        }
      ]
    },
    {
      "cell_type": "code",
      "metadata": {
        "colab": {
          "base_uri": "https://localhost:8080/"
        },
        "id": "j6UjtE_1c3r-",
        "outputId": "5dc55618-1186-4164-91c1-b4c4662c4ad0"
      },
      "source": [
        "print('Loops for k = 9:')\n",
        "\n",
        "for i in range(1,1000000):\n",
        "  if modified_collatz_loop_finder(i,[(1/2,0), (3,9)],1000) != None:\n",
        "    print(modified_collatz_loop_finder(i,[(1/2,0), (3,9)],1000))"
      ],
      "execution_count": 128,
      "outputs": [
        {
          "output_type": "stream",
          "text": [
            "Loops for k = 9:\n",
            "(3, [9, 36, 18])\n"
          ],
          "name": "stdout"
        }
      ]
    },
    {
      "cell_type": "markdown",
      "metadata": {
        "id": "6ZFHfSkkh1LW"
      },
      "source": [
        "For the values of $k$ which have a large number of loops, we can immediately make an observation: almost all the loops for $k = 499$ have length 26 or a multiple of 26, and almost all the loops for $k = 781$ have length 15 or a multiple of 15. "
      ]
    }
  ]
}