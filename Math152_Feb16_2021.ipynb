{
  "nbformat": 4,
  "nbformat_minor": 0,
  "metadata": {
    "colab": {
      "name": "Math152_Feb16_2021.ipynb",
      "provenance": [],
      "include_colab_link": true
    },
    "kernelspec": {
      "name": "python3",
      "display_name": "Python 3"
    }
  },
  "cells": [
    {
      "cell_type": "markdown",
      "metadata": {
        "id": "view-in-github",
        "colab_type": "text"
      },
      "source": [
        "<a href=\"https://colab.research.google.com/github/eric-huang5497/Math-152/blob/main/Math152_Feb16_2021.ipynb\" target=\"_parent\"><img src=\"https://colab.research.google.com/assets/colab-badge.svg\" alt=\"Open In Colab\"/></a>"
      ]
    },
    {
      "cell_type": "markdown",
      "metadata": {
        "id": "V_Jxj4BR1oXH"
      },
      "source": [
        "# Collatz problem\n",
        "\n",
        "Begin with a positive integer.  If it's even, divide by 2.  If it's odd, triple it and add one.  Then repeat.\n",
        "\n",
        "For example, if you begin with 3, the next number is 10, and then 5, and then 16, then 8, then 4, then 2, then 1, then 4, then 2, then 1, etc.\n",
        "\n",
        "The Collatz (or $3n+1$) conjecture states that no matter what positive integer you begin with, this process eventually leads to the repeating sequence 4,2,1,4,2,1.  Here are three approaches to checking this conjecture.\n",
        "\n",
        "In each of these approaches, discuss the following questions with your group:\n",
        "\n",
        "1.  What does the code do?\n",
        "2.  Can you see any ways to make the code run faster or use less memory, while accomplishing the same task?\n",
        "3.  Is there anything risky about the code?\n",
        "4.  Is there a way to make the code more useful, while not significantly slower?"
      ]
    },
    {
      "cell_type": "markdown",
      "metadata": {
        "id": "XbNl9vFG0zm1"
      },
      "source": [
        "## Collatz code 1"
      ]
    },
    {
      "cell_type": "code",
      "metadata": {
        "id": "prxYWvNI0Ovz"
      },
      "source": [
        "def efficient_collatz(n):\n",
        "  '''\n",
        "  The modified_collatz function below is pretty inefficient because there are lots of intermediate steps for each calculation.\n",
        "  This is about as efficient as I think the usual collatz function can get, but if someone has a better idea, feel free to put it in.\n",
        "  '''\n",
        "  while n > 1:\n",
        "    if n %2 == 0:\n",
        "      n = n//2\n",
        "    else:\n",
        "      n = 3*n + 1\n",
        "  return True"
      ],
      "execution_count": null,
      "outputs": []
    },
    {
      "cell_type": "markdown",
      "metadata": {
        "id": "I84cEwIi0qrO"
      },
      "source": [
        "Now we will test to see if the conjecture holds up to a substantially large number, say n=1000000."
      ]
    },
    {
      "cell_type": "code",
      "metadata": {
        "id": "bSPkdSKV0nsA",
        "colab": {
          "base_uri": "https://localhost:8080/"
        },
        "outputId": "13194be9-be83-49e8-edb2-244f79d74d2f"
      },
      "source": [
        "i = 1\n",
        "max_tested = 1000000\n",
        "while i < max_tested: # Test all starting values between 1 and max_tested to see if they eventually reach 1\n",
        "  if efficient_collatz(i):\n",
        "    i = i + 1\n",
        "print(i) #Should be the same as max_tested, which verifies the Collatz conjecture for all starting values less than max_tested."
      ],
      "execution_count": null,
      "outputs": [
        {
          "output_type": "stream",
          "text": [
            "1000000\n"
          ],
          "name": "stdout"
        }
      ]
    },
    {
      "cell_type": "markdown",
      "metadata": {
        "id": "sXSBdYvs0x9t"
      },
      "source": [
        "## Collatz code 2"
      ]
    },
    {
      "cell_type": "code",
      "metadata": {
        "id": "jQFb7oQ10y_e"
      },
      "source": [
        "'''\n",
        "This is the code for checking the conjecture works for all positive\n",
        "numbers up to a big number. This code will make the list of number end\n",
        "with \"4\" after a \"4, 2, 1\" cycle. Which can prove that all positive numbers\n",
        "in the range follows the Collatz Conjecture.\n",
        "'''\n",
        "def collatz_conjec(x): \n",
        "  a = []\n",
        "  if (x == 0):\n",
        "    raise TypeError(\"The number you input could not be ZERO(0)\")\n",
        "  while (a.count(x) <= 1):\n",
        "    if (x % 2 == 0):\n",
        "      x = x // 2 \n",
        "    else:\n",
        "      x = 3 * x + 1\n",
        "    a.append(x)\n",
        "  return a\n",
        "for a in range(1,1000): #list all positive numbers up to 999. \n",
        "  collatz_conjec(a)      # Check for the \"4, 2, 1\" repeating."
      ],
      "execution_count": null,
      "outputs": []
    },
    {
      "cell_type": "code",
      "metadata": {
        "id": "YA2jr03B2Et9",
        "colab": {
          "base_uri": "https://localhost:8080/"
        },
        "outputId": "b34cb6cb-1ca4-4fe9-bde3-3a39c6b030d5"
      },
      "source": [
        "%timeit collatz_conjec(1000000)"
      ],
      "execution_count": null,
      "outputs": [
        {
          "output_type": "stream",
          "text": [
            "1000 loops, best of 3: 196 µs per loop\n"
          ],
          "name": "stdout"
        }
      ]
    },
    {
      "cell_type": "code",
      "metadata": {
        "id": "v5oJgk0G2ElX"
      },
      "source": [
        "from sys import getsizeof"
      ],
      "execution_count": null,
      "outputs": []
    },
    {
      "cell_type": "code",
      "metadata": {
        "id": "MWs9bmjb2HWL",
        "colab": {
          "base_uri": "https://localhost:8080/"
        },
        "outputId": "290469ef-a284-404b-9c7b-24995f340b78"
      },
      "source": [
        "getsizeof(collatz_conjec)"
      ],
      "execution_count": null,
      "outputs": [
        {
          "output_type": "execute_result",
          "data": {
            "text/plain": [
              "136"
            ]
          },
          "metadata": {
            "tags": []
          },
          "execution_count": 10
        }
      ]
    },
    {
      "cell_type": "markdown",
      "metadata": {
        "id": "KxNFUXnG09-6"
      },
      "source": [
        "## Collatz code 3"
      ]
    },
    {
      "cell_type": "code",
      "metadata": {
        "id": "mmRUTGFq0_Bd"
      },
      "source": [
        "def collatz_check(n): #check all numbers less than or equal to n\n",
        "  for i in range(3,n+1,2): #only check odd numbers\n",
        "    c = i # i will remain constant, c will change\n",
        "    while c >= i:\n",
        "      if c % 2 == 0:\n",
        "        c //= 2\n",
        "      if c % 2 == 1:\n",
        "        c = (3 * c + 1) // 2 # we can do two steps at once since 3c+1 is always even\n",
        "  print(\"Verified up to {}\".format(n))"
      ],
      "execution_count": null,
      "outputs": []
    },
    {
      "cell_type": "code",
      "metadata": {
        "id": "u-C2IbAl1RXF",
        "colab": {
          "base_uri": "https://localhost:8080/"
        },
        "outputId": "0d7c9b83-1c92-4568-d4ef-f3f9c331963f"
      },
      "source": [
        "collatz_check(10**7)"
      ],
      "execution_count": null,
      "outputs": [
        {
          "output_type": "stream",
          "text": [
            "Verified up to 10000000\n"
          ],
          "name": "stdout"
        }
      ]
    },
    {
      "cell_type": "markdown",
      "metadata": {
        "id": "iIb5Bv_i4Cjn"
      },
      "source": [
        "# List problem\n",
        "\n",
        "In a problem on NB 3, you were asked to create the list [1,100,3,98,5,96,...,99,2], where the odd nubmers go forward from 1 to 99 and the even numbers go backwards from 100 down to 2.  There were multiple approaches to this problem.\n",
        "\n",
        "Here are three solutions.  For each of them, discuss the following with your group:\n",
        "\n",
        "1.  How does the code work?  Do you understand what each step is doing?  Are there any steps that seem unusual to you?\n",
        "\n",
        "2.  How could you make the code more understandable, without changing how it works?  \n",
        "\n",
        "3.  How efficient is this code?  Try to wrap it in a function `make_list(N)`, so that the existing existing code would arise from setting N=100.  Use timeit to analyze the speed of `make_list(100)` and `make_list(1000)` and `make_list(1000000)`, etc.  But remember:  *don't use `print` statements* within a %timeit command!  Otherwise your screen will fill with messages and might crash!\n"
      ]
    },
    {
      "cell_type": "markdown",
      "metadata": {
        "id": "fb4ViUFI1SXD"
      },
      "source": [
        "## List code 1"
      ]
    },
    {
      "cell_type": "code",
      "metadata": {
        "id": "WvH-wEqT1TNr",
        "colab": {
          "base_uri": "https://localhost:8080/"
        },
        "outputId": "1a6b659f-1d4f-408c-c950-840355b7e39b"
      },
      "source": [
        "def make_list(N):\n",
        "  even=[]\n",
        "  odd=[]\n",
        "  L=[]\n",
        "  for n in range(N//2):\n",
        "    even.append(2*(n+1))\n",
        "  even = even[-1::-1]\n",
        "  for n in range(N//2):\n",
        "    odd.append(2*n+1)\n",
        "  for n in range(N//2):\n",
        "    L.append(odd[n])\n",
        "    L.append(even[n]) \n",
        "  return L\n",
        "%timeit make_list(10000)"
      ],
      "execution_count": null,
      "outputs": [
        {
          "output_type": "stream",
          "text": [
            "100 loops, best of 3: 2.08 ms per loop\n"
          ],
          "name": "stdout"
        }
      ]
    },
    {
      "cell_type": "markdown",
      "metadata": {
        "id": "Iu0GXGfl3odO"
      },
      "source": [
        "## List code 2"
      ]
    },
    {
      "cell_type": "code",
      "metadata": {
        "id": "VDd7_hKC3Rbx",
        "colab": {
          "base_uri": "https://localhost:8080/"
        },
        "outputId": "ba80895c-a4ec-413f-9fc8-82be72ffad45"
      },
      "source": [
        "#Exercise 5\n",
        "def make_list(N):\n",
        "  L = list(range(1,N+1))\n",
        "  L[1::2]=L[-1:0:-2]\n",
        "  return L\n",
        "%timeit make_list(10000)"
      ],
      "execution_count": null,
      "outputs": [
        {
          "output_type": "stream",
          "text": [
            "1000 loops, best of 3: 261 µs per loop\n"
          ],
          "name": "stdout"
        }
      ]
    },
    {
      "cell_type": "markdown",
      "metadata": {
        "id": "nQq3jzn437_h"
      },
      "source": [
        "## List code 3"
      ]
    },
    {
      "cell_type": "code",
      "metadata": {
        "id": "IkeX0L4k381q",
        "colab": {
          "base_uri": "https://localhost:8080/"
        },
        "outputId": "b8d8da3a-b185-4d60-9da9-fae3d37c8802"
      },
      "source": [
        "L1 = list(range(0,101))\n",
        "L2 = list(range(0,101))\n",
        "L3 = L2[-1::-1]\n",
        "for i in L3:\n",
        "  if i % 2 == 1:\n",
        "    L3.remove(i)\n",
        "  i = i + 1\n",
        "L1[::2] = L3\n",
        "print(L1)"
      ],
      "execution_count": null,
      "outputs": [
        {
          "output_type": "stream",
          "text": [
            "[100, 1, 98, 3, 96, 5, 94, 7, 92, 9, 90, 11, 88, 13, 86, 15, 84, 17, 82, 19, 80, 21, 78, 23, 76, 25, 74, 27, 72, 29, 70, 31, 68, 33, 66, 35, 64, 37, 62, 39, 60, 41, 58, 43, 56, 45, 54, 47, 52, 49, 50, 51, 48, 53, 46, 55, 44, 57, 42, 59, 40, 61, 38, 63, 36, 65, 34, 67, 32, 69, 30, 71, 28, 73, 26, 75, 24, 77, 22, 79, 20, 81, 18, 83, 16, 85, 14, 87, 12, 89, 10, 91, 8, 93, 6, 95, 4, 97, 2, 99, 0]\n"
          ],
          "name": "stdout"
        }
      ]
    },
    {
      "cell_type": "code",
      "metadata": {
        "colab": {
          "base_uri": "https://localhost:8080/"
        },
        "id": "ugVmAbtRGC8d",
        "outputId": "7fc89494-c79c-47f4-e1f1-58d056b9845f"
      },
      "source": [
        "L = [51 + (-1)**i*(51 - i) for i in range(1,101)]\n",
        "print(L)"
      ],
      "execution_count": null,
      "outputs": [
        {
          "output_type": "stream",
          "text": [
            "[1, 100, 3, 98, 5, 96, 7, 94, 9, 92, 11, 90, 13, 88, 15, 86, 17, 84, 19, 82, 21, 80, 23, 78, 25, 76, 27, 74, 29, 72, 31, 70, 33, 68, 35, 66, 37, 64, 39, 62, 41, 60, 43, 58, 45, 56, 47, 54, 49, 52, 51, 50, 53, 48, 55, 46, 57, 44, 59, 42, 61, 40, 63, 38, 65, 36, 67, 34, 69, 32, 71, 30, 73, 28, 75, 26, 77, 24, 79, 22, 81, 20, 83, 18, 85, 16, 87, 14, 89, 12, 91, 10, 93, 8, 95, 6, 97, 4, 99, 2]\n"
          ],
          "name": "stdout"
        }
      ]
    },
    {
      "cell_type": "markdown",
      "metadata": {
        "id": "LVaWxrt85oyF"
      },
      "source": [
        "# New lists from old lists\n",
        "\n",
        "In the following cells, create a function `gap_list(L)`.  The input to this function should be a list `L` of positive integers.  The result should be a list of the gaps between consecutive elements of `L`.  For example, if the list `[1,3,5,10]` is input, the list `[2,2,5]` should be returned.  \n",
        "\n",
        "Experiment to make this function as fast as possible.  Try list comprehensions, arrays, etc.  "
      ]
    },
    {
      "cell_type": "code",
      "metadata": {
        "colab": {
          "base_uri": "https://localhost:8080/"
        },
        "id": "rBQCkS8DAnUI",
        "outputId": "896df967-d93e-46e1-c775-cb12ab2accc5"
      },
      "source": [
        "def gap_list(L):\n",
        "  return [L[i+1] - L[i] for i in range(len(L)-1)]\n",
        "print(gap_list([1,3,5,10]))"
      ],
      "execution_count": null,
      "outputs": [
        {
          "output_type": "stream",
          "text": [
            "[2, 2, 5]\n"
          ],
          "name": "stdout"
        }
      ]
    },
    {
      "cell_type": "markdown",
      "metadata": {
        "id": "Hi1ztc4P6IPD"
      },
      "source": [
        "Now, create a function `redblue(L)`.  The input to this function should be a list of integers.  The output should be two lists `R` and `B` (your function should end with `return R,B`).  The list `R` should contain all elements of `L` which have the form $4n+1$ for some integer $n$.  The list `B` should contain all elements of `L` which have the form $4n+3$ for some integer $n$."
      ]
    },
    {
      "cell_type": "code",
      "metadata": {
        "colab": {
          "base_uri": "https://localhost:8080/"
        },
        "id": "QhpOFwplBJPL",
        "outputId": "21282e6b-5ea5-4905-fa10-64f1440f2a17"
      },
      "source": [
        "def redblue(L):\n",
        "  R = [a for a in L if a%4 == 1]\n",
        "  B = [a for a in L if a%4 == 3]\n",
        "  return R,B\n",
        "print(redblue(list(range(20))))"
      ],
      "execution_count": null,
      "outputs": [
        {
          "output_type": "stream",
          "text": [
            "([1, 5, 9, 13, 17], [3, 7, 11, 15, 19])\n"
          ],
          "name": "stdout"
        }
      ]
    },
    {
      "cell_type": "markdown",
      "metadata": {
        "id": "GKsBdgDU7ro2"
      },
      "source": [
        "## Goldbach conjecture\n",
        "\n",
        "The Goldbach conjecture states that every positive even integer, starting with $4$, can be expressed as the sum of two prime numbers.\n",
        "\n",
        "Write a function `check_Gold(N)` which checks the Goldbach conjecture for all the even numbers from 4 up to N.  You can start with the list of primes created from the sieve below.  Try to be efficient!"
      ]
    },
    {
      "cell_type": "code",
      "metadata": {
        "id": "KMIB0BvM6nfA"
      },
      "source": [
        "from math import sqrt\n",
        "def isprime_list(n):\n",
        "    ''' \n",
        "    Return a list of length n+1\n",
        "    with Trues at prime indices and Falses at composite indices.\n",
        "    '''\n",
        "    flags = [True] * (n+1)  # A list [True, True, True,...] to start.\n",
        "    flags[0] = False  # Zero is not prime.  So its flag is set to False.\n",
        "    flags[1] = False  # One is not prime.  So its flag is set to False.\n",
        "    flags[4::2] = [False] * ((n-2)//2)\n",
        "    p = 3\n",
        "    while p <= sqrt(n):  # We only need to sieve by p is p <= sqrt(n).\n",
        "        if flags[p]:  # We sieve the multiples of p if flags[p]=True.\n",
        "            flags[p*p::2*p] = [False] * ((n-p*p)//(2*p)+1) # Sieves out multiples of p, starting at p*p.\n",
        "        p = p + 2 # Try the next value of p.\n",
        "        \n",
        "    return flags\n",
        "\n",
        "def where(L):\n",
        "    '''\n",
        "    Take a list of booleans as input and\n",
        "    outputs the list of indices where True occurs.\n",
        "    '''\n",
        "    return [n for n in range(len(L)) if L[n]]\n",
        "\n",
        "primes = where(isprime_list(1000000))"
      ],
      "execution_count": null,
      "outputs": []
    },
    {
      "cell_type": "code",
      "metadata": {
        "id": "eyl3vbMb79T1",
        "colab": {
          "base_uri": "https://localhost:8080/"
        },
        "outputId": "ed7fe9f6-3ce4-4570-acd8-7593e6594543"
      },
      "source": [
        "def check_Gold(N):\n",
        "  flags = [False]*(N+1)\n",
        "  flags[4] = True\n",
        "  i = 4\n",
        "  p_index = 1\n",
        "  while i <= N:\n",
        "    while not flags[i]:\n",
        "      p = primes[p_index]\n",
        "      for q in primes[1:p_index+1]:\n",
        "        if p + q > N:\n",
        "          break\n",
        "        flags[p + q] = True\n",
        "      p_index = p_index + 1\n",
        "    i = i + 2\n",
        "  return flags[4::2]\n",
        "%timeit check_Gold(100000)\n",
        "\n",
        "\n"
      ],
      "execution_count": null,
      "outputs": [
        {
          "output_type": "stream",
          "text": [
            "1 loop, best of 3: 1.45 s per loop\n"
          ],
          "name": "stdout"
        }
      ]
    }
  ]
}