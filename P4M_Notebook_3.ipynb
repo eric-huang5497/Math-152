{
  "nbformat": 4,
  "nbformat_minor": 0,
  "metadata": {
    "kernelspec": {
      "display_name": "Python 3",
      "language": "python",
      "name": "python3"
    },
    "language_info": {
      "codemirror_mode": {
        "name": "ipython",
        "version": 3
      },
      "file_extension": ".py",
      "mimetype": "text/x-python",
      "name": "python",
      "nbconvert_exporter": "python",
      "pygments_lexer": "ipython3",
      "version": "3.6.7"
    },
    "colab": {
      "name": "P4M Notebook 3.ipynb",
      "provenance": [],
      "toc_visible": true,
      "include_colab_link": true
    }
  },
  "cells": [
    {
      "cell_type": "markdown",
      "metadata": {
        "id": "view-in-github",
        "colab_type": "text"
      },
      "source": [
        "<a href=\"https://colab.research.google.com/github/eric-huang5497/Math-152/blob/main/P4M_Notebook_3.ipynb\" target=\"_parent\"><img src=\"https://colab.research.google.com/assets/colab-badge.svg\" alt=\"Open In Colab\"/></a>"
      ]
    },
    {
      "cell_type": "markdown",
      "metadata": {
        "id": "6wh71ZCco1Nc"
      },
      "source": [
        "# Part 3:  Lists\n",
        "\n",
        "Python provides a powerful set of tools to create and manipulate lists of data. In this part, we take a deep dive into the Python list type.  This includes mutability, list methods, and slicing.\n",
        "\n",
        "\n",
        "Then we use Python lists to implement and optimize the Sieve of Eratosthenes, which will produce a list of all prime numbers up to a big number (like 10 million) in a snap. Along the way, we introduce some Python techniques for data analysis and visualization."
      ]
    },
    {
      "cell_type": "markdown",
      "metadata": {
        "id": "V1d8-qavo1Ng"
      },
      "source": [
        "## Primality testing"
      ]
    },
    {
      "cell_type": "markdown",
      "metadata": {
        "id": "o8GcrfMBo1Ng"
      },
      "source": [
        "Before diving into lists, we recall the **brute force** primality test that we created in the last lesson.  To test whether a number `n` is prime, we can simply check for factors.  This yields the following primality test."
      ]
    },
    {
      "cell_type": "code",
      "metadata": {
        "id": "PmShUfrWo1Nh"
      },
      "source": [
        "def is_prime(n):\n",
        "    '''\n",
        "    Checks whether the argument n is a prime number.\n",
        "    Uses a brute force search for factors between 1 and n.\n",
        "    '''\n",
        "    for j in range(2,n):  # the range of numbers 2,3,...,n-1.\n",
        "        if n%j == 0:  # is n divisible by j?\n",
        "            print(\"{} is a factor of {}.\".format(j,n))\n",
        "            return False\n",
        "    return True"
      ],
      "execution_count": null,
      "outputs": []
    },
    {
      "cell_type": "markdown",
      "metadata": {
        "id": "ps6dGQ_lo1Nh"
      },
      "source": [
        "We can also implement this test with a **while loop** instead of a for loop.  This doesn't make much of a difference, in Python 3.x.  (In Python 2.x, this would save memory)."
      ]
    },
    {
      "cell_type": "code",
      "metadata": {
        "id": "uyU1DxPjo1Nh"
      },
      "source": [
        "def is_prime(n):\n",
        "    '''\n",
        "    Checks whether the argument n is a prime number.\n",
        "    Uses a brute force search for factors between 1 and n.\n",
        "    '''\n",
        "    j = 2\n",
        "    while j < n:  # j will proceed through the list of numbers 2,3,...,n-1.\n",
        "        if n%j == 0:  # is n divisible by j?\n",
        "            print(\"{} is a factor of {}.\".format(j,n))\n",
        "            return False\n",
        "        j = j + 1  # There's a Python abbreviation for this:  j += 1.\n",
        "    return True"
      ],
      "execution_count": null,
      "outputs": []
    },
    {
      "cell_type": "code",
      "metadata": {
        "id": "n8VNDo3Ro1Nh",
        "colab": {
          "base_uri": "https://localhost:8080/"
        },
        "outputId": "c5a5e5dd-1e85-4a93-d1e1-176f04a39421"
      },
      "source": [
        "is_prime(10001)"
      ],
      "execution_count": null,
      "outputs": [
        {
          "output_type": "stream",
          "text": [
            "73 is a factor of 10001.\n"
          ],
          "name": "stdout"
        },
        {
          "output_type": "execute_result",
          "data": {
            "text/plain": [
              "False"
            ]
          },
          "metadata": {
            "tags": []
          },
          "execution_count": 6
        }
      ]
    },
    {
      "cell_type": "code",
      "metadata": {
        "id": "EwsTzmDJo1Nh",
        "colab": {
          "base_uri": "https://localhost:8080/"
        },
        "outputId": "02b849bf-a253-4867-aad8-a25ee43eb74e"
      },
      "source": [
        "is_prime(101)"
      ],
      "execution_count": null,
      "outputs": [
        {
          "output_type": "execute_result",
          "data": {
            "text/plain": [
              "True"
            ]
          },
          "metadata": {
            "tags": []
          },
          "execution_count": 7
        }
      ]
    },
    {
      "cell_type": "markdown",
      "metadata": {
        "id": "LMiisxZko1Ni"
      },
      "source": [
        "If $n$ is a prime number, then the `is_prime(n)` function will iterate through all the numbers between $2$ and $n-1$.  But this is overkill!  Indeed, if $n$ is not prime, it will have a factor between $2$ and the square root of $n$.  This is because factors come in pairs:  if $ab = n$, then one of the factors, $a$ or $b$, must be less than or equal to the square root of $n$.  So it suffices to search for factors up to (and including) the square root of $n$."
      ]
    },
    {
      "cell_type": "markdown",
      "metadata": {
        "id": "QlS5mEtko1Ni"
      },
      "source": [
        "Even though we've made our own sqrt function, we load a fast one from the [standard math package](https://docs.python.org/3/library/math.html).  You can use this for square roots, trig functions, logs, and more.  Click the previous link for documentation.  This package doesn't load automatically when you start Python, so you have to load it with a little Python code."
      ]
    },
    {
      "cell_type": "code",
      "metadata": {
        "id": "StYgB3R2o1Ni"
      },
      "source": [
        "from math import sqrt"
      ],
      "execution_count": null,
      "outputs": []
    },
    {
      "cell_type": "markdown",
      "metadata": {
        "id": "g5qCsftto1Ni"
      },
      "source": [
        "This command **imports** the square root function (`sqrt`) from the **package** called `math`.  Now you can find square roots."
      ]
    },
    {
      "cell_type": "code",
      "metadata": {
        "id": "yky_CASQo1Ni",
        "colab": {
          "base_uri": "https://localhost:8080/"
        },
        "outputId": "2eb775f9-dbd4-47e8-81b8-b8c0568b425f"
      },
      "source": [
        "sqrt(1000)"
      ],
      "execution_count": null,
      "outputs": [
        {
          "output_type": "execute_result",
          "data": {
            "text/plain": [
              "31.622776601683793"
            ]
          },
          "metadata": {
            "tags": []
          },
          "execution_count": 9
        }
      ]
    },
    {
      "cell_type": "markdown",
      "metadata": {
        "id": "G6KIJi-Go1Ni"
      },
      "source": [
        "There are a few different ways to import functions from packages.  The above syntax is a good starting point, but sometimes problems can arise if different packages have functions with the same name.  Here are a few methods of importing the `sqrt` function and how they differ.\n",
        "\n",
        "`from math import sqrt`:  After this command, `sqrt` will refer to the function from the `math` package (overriding any previous definition).\n",
        "\n",
        "`import math`:  After this command, all the functions from the `math` package will be imported.  But to call `sqrt`, you would type a command like `math.sqrt(1000)`.  This is convenient if there are potential conflicts with other packages.\n",
        "\n",
        "`from math import *`:  After this command, all the functions from the `math` package will be imported.  To call them, you can access them directly with a command like `sqrt(1000)`.  This can easily cause conflicts with other packages, since packages can have hundreds of functions in them!\n",
        "\n",
        "`import math as mth`:  Some people like abbreviations.  This imports all the functions from the `math` package.  To call one, you type a command like `mth.sqrt(1000)`. "
      ]
    },
    {
      "cell_type": "code",
      "metadata": {
        "id": "DkMBWCH2o1Nj"
      },
      "source": [
        "import math"
      ],
      "execution_count": null,
      "outputs": []
    },
    {
      "cell_type": "code",
      "metadata": {
        "id": "JCOkoqBJo1Nj",
        "colab": {
          "base_uri": "https://localhost:8080/"
        },
        "outputId": "ce02a7f0-6299-4cbb-9c73-1480f708d1d9"
      },
      "source": [
        "math.sqrt(1000)"
      ],
      "execution_count": null,
      "outputs": [
        {
          "output_type": "execute_result",
          "data": {
            "text/plain": [
              "31.622776601683793"
            ]
          },
          "metadata": {
            "tags": []
          },
          "execution_count": 11
        }
      ]
    },
    {
      "cell_type": "code",
      "metadata": {
        "id": "1wHHxCBvo1Nj",
        "colab": {
          "base_uri": "https://localhost:8080/",
          "height": 164
        },
        "outputId": "86cf52df-9416-4504-d384-fcac12bbce13"
      },
      "source": [
        "factorial(10)  # This will cause an error!"
      ],
      "execution_count": null,
      "outputs": [
        {
          "output_type": "error",
          "ename": "NameError",
          "evalue": "ignored",
          "traceback": [
            "\u001b[0;31m---------------------------------------------------------------------------\u001b[0m",
            "\u001b[0;31mNameError\u001b[0m                                 Traceback (most recent call last)",
            "\u001b[0;32m<ipython-input-12-e379444d4994>\u001b[0m in \u001b[0;36m<module>\u001b[0;34m()\u001b[0m\n\u001b[0;32m----> 1\u001b[0;31m \u001b[0mfactorial\u001b[0m\u001b[0;34m(\u001b[0m\u001b[0;36m10\u001b[0m\u001b[0;34m)\u001b[0m  \u001b[0;31m# This will cause an error!\u001b[0m\u001b[0;34m\u001b[0m\u001b[0;34m\u001b[0m\u001b[0m\n\u001b[0m",
            "\u001b[0;31mNameError\u001b[0m: name 'factorial' is not defined"
          ]
        }
      ]
    },
    {
      "cell_type": "code",
      "metadata": {
        "id": "q3_f65bdo1Nj",
        "colab": {
          "base_uri": "https://localhost:8080/"
        },
        "outputId": "ffb657a7-2e54-44c1-a833-5e0a7979d96e"
      },
      "source": [
        "math.factorial(10)  # This is ok, since the math package comes with a function called factorial."
      ],
      "execution_count": null,
      "outputs": [
        {
          "output_type": "execute_result",
          "data": {
            "text/plain": [
              "3628800"
            ]
          },
          "metadata": {
            "tags": []
          },
          "execution_count": 13
        }
      ]
    },
    {
      "cell_type": "markdown",
      "metadata": {
        "id": "PercB7IRo1Nj"
      },
      "source": [
        "Now let's improve our `is_prime(n)` function by searching for factors only up to the square root of the number `n`.  We consider two options."
      ]
    },
    {
      "cell_type": "code",
      "metadata": {
        "id": "1jFrsNtvo1Nj"
      },
      "source": [
        "def is_prime_slow(n):\n",
        "    '''\n",
        "    Checks whether the argument n is a prime number.\n",
        "    Uses a brute force search for factors between 1 and n.\n",
        "    '''\n",
        "    j = 2\n",
        "    while j <= sqrt(n):  # j will proceed through the list of numbers 2,3,... up to sqrt(n).\n",
        "        if n%j == 0:  # is n divisible by j?\n",
        "            return False\n",
        "        j = j + 1  # There's a Python abbreviation for this:  j += 1.\n",
        "    return True"
      ],
      "execution_count": null,
      "outputs": []
    },
    {
      "cell_type": "code",
      "metadata": {
        "id": "kivEWwP8o1Nj"
      },
      "source": [
        "def is_prime_fast(n):\n",
        "    '''\n",
        "    Checks whether the argument n is a prime number.\n",
        "    Uses a brute force search for factors between 1 and n.\n",
        "    '''\n",
        "    j = 2\n",
        "    root_n = sqrt(n)\n",
        "    while j <= root_n:  # j will proceed through the list of numbers 2,3,... up to sqrt(n).\n",
        "        if n%j == 0:  # is n divisible by j?\n",
        "            return False\n",
        "        j = j + 1  # There's a Python abbreviation for this:  j += 1.\n",
        "    return True"
      ],
      "execution_count": null,
      "outputs": []
    },
    {
      "cell_type": "code",
      "metadata": {
        "id": "MYRn_kwAo1Nk",
        "colab": {
          "base_uri": "https://localhost:8080/"
        },
        "outputId": "172be959-a3cd-449d-ac50-844df916642a"
      },
      "source": [
        "is_prime_fast(1000003)"
      ],
      "execution_count": null,
      "outputs": [
        {
          "output_type": "execute_result",
          "data": {
            "text/plain": [
              "True"
            ]
          },
          "metadata": {
            "tags": []
          },
          "execution_count": 16
        }
      ]
    },
    {
      "cell_type": "code",
      "metadata": {
        "id": "CycTNs3Yo1Nk",
        "colab": {
          "base_uri": "https://localhost:8080/"
        },
        "outputId": "e4dbc2b4-924b-4309-fd69-699f82581cce"
      },
      "source": [
        "is_prime_slow(1000003)"
      ],
      "execution_count": null,
      "outputs": [
        {
          "output_type": "execute_result",
          "data": {
            "text/plain": [
              "True"
            ]
          },
          "metadata": {
            "tags": []
          },
          "execution_count": 17
        }
      ]
    },
    {
      "cell_type": "markdown",
      "metadata": {
        "id": "a2_C-DRco1Nk"
      },
      "source": [
        "I've chosen function names with \"fast\" and \"slow\" in them.  But what makes them faster or slower?  Are they faster than the original?  And how can we tell?\n",
        "\n",
        "Python comes with a great set of tools for these questions.  The simplest (for the user) are the time utilities.  By placing the **magic** `%timeit` before a command, Python does something like the following:\n",
        "\n",
        "1.  Python makes a little container in your computer devoted to the computations, to avoid interference from other running programs if possible.\n",
        "2.  Python executes the command lots and lots of times.\n",
        "3.  Python averages the amount of time taken for each execution.  \n",
        "\n",
        "Give it a try below, to compare the speed of the functions `is_prime` (the original) with the new `is_prime_fast` and `is_prime_slow`.  Note that the `%timeit` commands might take a little while."
      ]
    },
    {
      "cell_type": "code",
      "metadata": {
        "id": "9362eqX8o1Nk",
        "colab": {
          "base_uri": "https://localhost:8080/"
        },
        "outputId": "f9845534-2f3b-4b42-b5b2-73e0b1d2df3e"
      },
      "source": [
        "%timeit is_prime_fast(1000003)"
      ],
      "execution_count": null,
      "outputs": [
        {
          "output_type": "stream",
          "text": [
            "The slowest run took 6.45 times longer than the fastest. This could mean that an intermediate result is being cached.\n",
            "10000 loops, best of 3: 117 µs per loop\n"
          ],
          "name": "stdout"
        }
      ]
    },
    {
      "cell_type": "code",
      "metadata": {
        "id": "GlQqgs6Fo1Nk",
        "colab": {
          "base_uri": "https://localhost:8080/"
        },
        "outputId": "2b326c39-f246-400e-af41-1dc4189459a3"
      },
      "source": [
        "%timeit is_prime_slow(1000003)"
      ],
      "execution_count": null,
      "outputs": [
        {
          "output_type": "stream",
          "text": [
            "10000 loops, best of 3: 158 µs per loop\n"
          ],
          "name": "stdout"
        }
      ]
    },
    {
      "cell_type": "code",
      "metadata": {
        "id": "MMoNyEsOo1Nk",
        "colab": {
          "base_uri": "https://localhost:8080/"
        },
        "outputId": "c5ed6486-8a47-40f0-bd90-879494561483"
      },
      "source": [
        "%timeit is_prime(1000003)"
      ],
      "execution_count": null,
      "outputs": [
        {
          "output_type": "stream",
          "text": [
            "10 loops, best of 3: 104 ms per loop\n"
          ],
          "name": "stdout"
        }
      ]
    },
    {
      "cell_type": "markdown",
      "metadata": {
        "id": "uR7IkJbEo1Nk"
      },
      "source": [
        "Time is measured in seconds, milliseconds (1 ms = 1/1000 second), microseconds (1 µs = 1/1,000,000 second), and nanoseconds (1 ns = 1/1,000,000,000 second).  So it might appear at first that `is_prime` is the fastest, or about the same speed.  But check the units!  The other two approaches are about a thousand times faster!  How much faster were they on your computer?"
      ]
    },
    {
      "cell_type": "code",
      "metadata": {
        "id": "hPOknCuUo1Nk",
        "colab": {
          "base_uri": "https://localhost:8080/"
        },
        "outputId": "e60e0e39-50ea-4f32-d0dd-c3ddecabb8ef"
      },
      "source": [
        "is_prime_fast(10000000000037)  # Don't try this with `is_prime` unless you want to wait for a long time!"
      ],
      "execution_count": null,
      "outputs": [
        {
          "output_type": "execute_result",
          "data": {
            "text/plain": [
              "True"
            ]
          },
          "metadata": {
            "tags": []
          },
          "execution_count": 21
        }
      ]
    },
    {
      "cell_type": "markdown",
      "metadata": {
        "id": "YtkronFFo1Nl"
      },
      "source": [
        "Indeed, the `is_prime_fast(n)` function will go through a loop of length about `sqrt(n)` when `n` is prime.  But `is_prime(n)` will go through a loop of length about `n`.  Since `sqrt(n)` is much less than `n`, especially when `n` is large, the `is_prime_fast(n)` function is much faster.\n",
        "\n",
        "Between `is_prime_fast` and `is_prime_slow`, the difference is that the `fast` version **precomputes** the square root `sqrt(n)` before going through the loop, where the `slow` version repeats the `sqrt(n)` every time the loop is repeated.  Indeed, writing `while j <= sqrt(n):` suggests that Python might execute `sqrt(n)` every time to check.  This *might* lead to Python computing the same square root a million times... unnecessarily!  \n",
        "\n",
        "A basic principle of programming is to **avoid repetition**.  If you have the memory space, just compute once and store the result.  It will probably be faster to pull the result out of memory than to compute it again.\n",
        "\n",
        "Python does tend to be pretty smart, however.  It's possible that Python **is precomputing** `sqrt(n)` even in the slow loop, just because it's clever enough to tell in advance that the same thing is being computed over and over again.  This depends on your Python version and takes place behind the scenes.  If you want to figure it out, there's a whole set of tools (for advanced programmers) like the [disassembler](https://docs.python.org/3/library/dis.html) to figure out what Python is doing.\n",
        "\n",
        "If you feel like looking under the hood, the next few lines will display the `is_prime_fast` and `is_prime_slow` functions to bytecode.  Can you see how the `sqrt(n)` computation is carried out differently?"
      ]
    },
    {
      "cell_type": "code",
      "metadata": {
        "id": "hislzK3Lo1Nl"
      },
      "source": [
        "from dis import dis"
      ],
      "execution_count": null,
      "outputs": []
    },
    {
      "cell_type": "code",
      "metadata": {
        "id": "wQX1FSObo1Nl",
        "colab": {
          "base_uri": "https://localhost:8080/"
        },
        "outputId": "6d32f0c6-4401-44fc-cfb8-c4262afed27e"
      },
      "source": [
        "dis(is_prime_fast)"
      ],
      "execution_count": null,
      "outputs": [
        {
          "output_type": "stream",
          "text": [
            "  6           0 LOAD_CONST               1 (2)\n",
            "              2 STORE_FAST               1 (j)\n",
            "\n",
            "  7           4 LOAD_GLOBAL              0 (sqrt)\n",
            "              6 LOAD_FAST                0 (n)\n",
            "              8 CALL_FUNCTION            1\n",
            "             10 STORE_FAST               2 (root_n)\n",
            "\n",
            "  8          12 SETUP_LOOP              52 (to 66)\n",
            "        >>   14 LOAD_FAST                1 (j)\n",
            "             16 LOAD_FAST                2 (root_n)\n",
            "             18 COMPARE_OP               1 (<=)\n",
            "             20 POP_JUMP_IF_FALSE       64\n",
            "\n",
            "  9          22 LOAD_FAST                0 (n)\n",
            "             24 LOAD_FAST                1 (j)\n",
            "             26 BINARY_MODULO\n",
            "             28 LOAD_CONST               2 (0)\n",
            "             30 COMPARE_OP               2 (==)\n",
            "             32 POP_JUMP_IF_FALSE       54\n",
            "\n",
            " 10          34 LOAD_GLOBAL              1 (print)\n",
            "             36 LOAD_CONST               3 ('{} is a factor of {}.')\n",
            "             38 LOAD_ATTR                2 (format)\n",
            "             40 LOAD_FAST                1 (j)\n",
            "             42 LOAD_FAST                0 (n)\n",
            "             44 CALL_FUNCTION            2\n",
            "             46 CALL_FUNCTION            1\n",
            "             48 POP_TOP\n",
            "\n",
            " 11          50 LOAD_CONST               4 (False)\n",
            "             52 RETURN_VALUE\n",
            "\n",
            " 12     >>   54 LOAD_FAST                1 (j)\n",
            "             56 LOAD_CONST               5 (1)\n",
            "             58 BINARY_ADD\n",
            "             60 STORE_FAST               1 (j)\n",
            "             62 JUMP_ABSOLUTE           14\n",
            "        >>   64 POP_BLOCK\n",
            "\n",
            " 13     >>   66 LOAD_CONST               6 (True)\n",
            "             68 RETURN_VALUE\n"
          ],
          "name": "stdout"
        }
      ]
    },
    {
      "cell_type": "code",
      "metadata": {
        "id": "M_T0805ko1Nl",
        "colab": {
          "base_uri": "https://localhost:8080/"
        },
        "outputId": "2d36d4b4-4278-47d4-e3ce-9d9750a6c792"
      },
      "source": [
        "dis(is_prime_slow)"
      ],
      "execution_count": null,
      "outputs": [
        {
          "output_type": "stream",
          "text": [
            "  6           0 LOAD_CONST               1 (2)\n",
            "              2 STORE_FAST               1 (j)\n",
            "\n",
            "  7           4 SETUP_LOOP              56 (to 62)\n",
            "        >>    6 LOAD_FAST                1 (j)\n",
            "              8 LOAD_GLOBAL              0 (sqrt)\n",
            "             10 LOAD_FAST                0 (n)\n",
            "             12 CALL_FUNCTION            1\n",
            "             14 COMPARE_OP               1 (<=)\n",
            "             16 POP_JUMP_IF_FALSE       60\n",
            "\n",
            "  8          18 LOAD_FAST                0 (n)\n",
            "             20 LOAD_FAST                1 (j)\n",
            "             22 BINARY_MODULO\n",
            "             24 LOAD_CONST               2 (0)\n",
            "             26 COMPARE_OP               2 (==)\n",
            "             28 POP_JUMP_IF_FALSE       50\n",
            "\n",
            "  9          30 LOAD_GLOBAL              1 (print)\n",
            "             32 LOAD_CONST               3 ('{} is a factor of {}.')\n",
            "             34 LOAD_ATTR                2 (format)\n",
            "             36 LOAD_FAST                1 (j)\n",
            "             38 LOAD_FAST                0 (n)\n",
            "             40 CALL_FUNCTION            2\n",
            "             42 CALL_FUNCTION            1\n",
            "             44 POP_TOP\n",
            "\n",
            " 10          46 LOAD_CONST               4 (False)\n",
            "             48 RETURN_VALUE\n",
            "\n",
            " 11     >>   50 LOAD_FAST                1 (j)\n",
            "             52 LOAD_CONST               5 (1)\n",
            "             54 BINARY_ADD\n",
            "             56 STORE_FAST               1 (j)\n",
            "             58 JUMP_ABSOLUTE            6\n",
            "        >>   60 POP_BLOCK\n",
            "\n",
            " 12     >>   62 LOAD_CONST               6 (True)\n",
            "             64 RETURN_VALUE\n"
          ],
          "name": "stdout"
        }
      ]
    },
    {
      "cell_type": "code",
      "metadata": {
        "id": "1mendW3Uo1Nl",
        "colab": {
          "base_uri": "https://localhost:8080/"
        },
        "outputId": "360fde8e-72fb-4714-bb17-61b0d1396313"
      },
      "source": [
        "is_prime_fast(10**14 + 37) # This might get a bit of delay."
      ],
      "execution_count": null,
      "outputs": [
        {
          "output_type": "stream",
          "text": [
            "1858741 is a factor of 100000000000037.\n"
          ],
          "name": "stdout"
        },
        {
          "output_type": "execute_result",
          "data": {
            "text/plain": [
              "False"
            ]
          },
          "metadata": {
            "tags": []
          },
          "execution_count": 25
        }
      ]
    },
    {
      "cell_type": "markdown",
      "metadata": {
        "id": "DUEOKxtoo1Nm"
      },
      "source": [
        "Now we have a function `is_prime_fast(n)` that is speedy for numbers `n` in the trillions!  You'll probably start to hit a delay around $10^{15}$ or so, and the delays will become intolerable if you add too many more digits.  In a future lesson, we will see a different primality test that will be essentially instant even for numbers around $10^{1000}$!  "
      ]
    },
    {
      "cell_type": "markdown",
      "metadata": {
        "id": "NCv3bAIco1Nm"
      },
      "source": [
        "### Exercises\n",
        "\n",
        "1.  To check whether a number `n` is prime, you can first check whether `n` is even, and then check whether `n` has any odd factors.  Change the `is_prime_fast` function by implementing this improvement.  How much of a speedup did you get?\n",
        "\n",
        "2.  Use the `%timeit` tool to study the speed of `is_prime_fast` for various sizes of `n`.  Using about 10 data points, relate the size of `n` to the time taken by the `is_prime_fast` function.\n",
        "\n",
        "3.  Write a function `is_square(n)` to test whether a given integer `n` is a perfect square (like 0, 1, 4, 9, 16, etc.).  How fast can you make it run?  Describe the different approaches you try and which are fastest."
      ]
    },
    {
      "cell_type": "markdown",
      "metadata": {
        "id": "nUwBXDcPA4uN"
      },
      "source": [
        "1 . Only checking the odd factors makes the function twice as fast, which makes a lot of sense, because we only check half as many numbers."
      ]
    },
    {
      "cell_type": "code",
      "metadata": {
        "colab": {
          "base_uri": "https://localhost:8080/"
        },
        "id": "8F134PSI_OZy",
        "outputId": "37f227b7-7444-40e0-b8ac-a7eb053b550f"
      },
      "source": [
        "#1\n",
        "def is_prime_even_faster(n):\n",
        "  if n == 2:\n",
        "    return True\n",
        "  elif n%2 == 0:\n",
        "    print(\"2 is a factor of {}.\".format(n))\n",
        "    return False\n",
        "  j = 3\n",
        "  root_n = sqrt(n)\n",
        "  while j <= root_n:  \n",
        "      if n%j == 0: \n",
        "          print(\"{} is a factor of {}.\".format(j,n))\n",
        "          return False\n",
        "      j = j + 2\n",
        "  return True\n",
        "%timeit is_prime_fast(1000003)\n",
        "%timeit is_prime_even_faster(1000003)"
      ],
      "execution_count": null,
      "outputs": [
        {
          "output_type": "stream",
          "text": [
            "10000 loops, best of 3: 118 µs per loop\n",
            "10000 loops, best of 3: 59.5 µs per loop\n"
          ],
          "name": "stdout"
        }
      ]
    },
    {
      "cell_type": "markdown",
      "metadata": {
        "id": "80tUk9DvIQcj"
      },
      "source": [
        "2 . When $n$ is prime, `is_prime_fast` checks all numbers in the range $(2,\\sqrt{n})$, so we expect the time taken by `is_prime_fast` to be proportional to $\\sqrt{n}$ in the worst case i.e. when $n$ is prime. We can see below that for large prime $n$'s, increasing $n$ by about a factor of 10 increases the time taken by a factor of about $\\sqrt{10} \\approx 3.16$."
      ]
    },
    {
      "cell_type": "code",
      "metadata": {
        "colab": {
          "base_uri": "https://localhost:8080/"
        },
        "id": "oBKE_0jSBGZk",
        "outputId": "13d3b126-feb5-4cb2-cefd-9fb404fdd887"
      },
      "source": [
        "#2\n",
        "from math import sqrt\n",
        "prime_list = [2,11,101,1009,10**4 + 7, 10**5 + 3, 10**6 + 3, 10**7 + 19, 10**8 + 7, 10**9 + 7, 10**10 + 19, 10**11 + 3,10**12 + 39] #precomputed list of primes, nth is the first prime above 10**n\n",
        "for p in prime_list:\n",
        "  print('testing ', p)\n",
        "  %timeit is_prime_fast(p)"
      ],
      "execution_count": null,
      "outputs": [
        {
          "output_type": "stream",
          "text": [
            "testing  2\n",
            "The slowest run took 21.01 times longer than the fastest. This could mean that an intermediate result is being cached.\n",
            "10000000 loops, best of 3: 175 ns per loop\n",
            "testing  11\n",
            "The slowest run took 8.41 times longer than the fastest. This could mean that an intermediate result is being cached.\n",
            "1000000 loops, best of 3: 372 ns per loop\n",
            "testing  101\n",
            "The slowest run took 4.09 times longer than the fastest. This could mean that an intermediate result is being cached.\n",
            "1000000 loops, best of 3: 1.07 µs per loop\n",
            "testing  1009\n",
            "100000 loops, best of 3: 3.08 µs per loop\n",
            "testing  10007\n",
            "100000 loops, best of 3: 9.91 µs per loop\n",
            "testing  100003\n",
            "10000 loops, best of 3: 32.1 µs per loop\n",
            "testing  1000003\n",
            "10000 loops, best of 3: 116 µs per loop\n",
            "testing  10000019\n",
            "1000 loops, best of 3: 385 µs per loop\n",
            "testing  100000007\n",
            "1000 loops, best of 3: 1.23 ms per loop\n",
            "testing  1000000007\n",
            "100 loops, best of 3: 3.96 ms per loop\n",
            "testing  10000000019\n",
            "100 loops, best of 3: 17.3 ms per loop\n",
            "testing  100000000003\n",
            "10 loops, best of 3: 54.1 ms per loop\n",
            "testing  1000000000039\n",
            "10 loops, best of 3: 173 ms per loop\n"
          ],
          "name": "stdout"
        }
      ]
    },
    {
      "cell_type": "markdown",
      "metadata": {
        "id": "XUEFMxJ6edfg"
      },
      "source": [
        "3 . Below, we define three different functions that determine whether a given integer $n$ is a perfect square. \n",
        "\n",
        "The first function computes the square root of $n$ using the `sqrt` function from the math library, and then checks if $\\sqrt{n} = \\lfloor \\sqrt{n} \\rfloor$. If it is, then $n$ must be a perfect square. This is by far the fastest of the three functions. It is over 100 times faster than the naive method used in the second function in the case of $n = 10^{10}$, and likely scales better as $n$ grows larger as well.\n",
        "\n",
        "The second function computes $1^2, 2^2, 3^2, \\dots$ until it either reaches $n$, in which case it returns true, or it exceeds $n$, in which case it returns false. We expect the time this function takes to be proportional to $\\sqrt{n}$.\n",
        "\n",
        "The third function first checks the remainder of $n$ mod 4. If the remainder is 2 or 3, then it returns false, because $2$ and $3$ are not quadratic residues mod 4. Therefore, for those inputs, the third function returns an answer almost immediately. Otherwise, it uses the same method as the second function, except that if $n$ is odd, it only computes $1^2, 3^2, 5^2, \\dots$, and if $n$ is even, it only computes $2^2, 4^2, 6^2, \\dots$, so in those cases the third function is roughly twice as fast as the second. It is possible that looking at the remainder of $n$ modulo a number other than 4, and using a similar method, could improve the performance even further.\n"
      ]
    },
    {
      "cell_type": "code",
      "metadata": {
        "colab": {
          "base_uri": "https://localhost:8080/"
        },
        "id": "e0gWaC_kDje2",
        "outputId": "d2917bbc-b8d6-4ac0-8773-82a54958c797"
      },
      "source": [
        "#3\n",
        "from math import sqrt\n",
        "\n",
        "def is_square_one(n):\n",
        "  if sqrt(n) == int(sqrt(n)):\n",
        "    return True\n",
        "  return False\n",
        "\n",
        "def is_square_two(n):\n",
        "  i = 0\n",
        "  while i**2 < n:\n",
        "    i = i + 1\n",
        "  if i**2 == n:\n",
        "    return True\n",
        "  return False\n",
        "\n",
        "def is_square_three(n):\n",
        "  if n%4 == 2 or n%4 == 3:\n",
        "    return False\n",
        "  if n%4 == 0:\n",
        "    i = 0\n",
        "    while i**2 < n:\n",
        "      i = i + 2\n",
        "    if i**2 == n:\n",
        "      return True\n",
        "    return False\n",
        "  else:\n",
        "    i = 1\n",
        "    while i**2 < n:\n",
        "      i = i + 2\n",
        "    if i**2 == n:\n",
        "      return True\n",
        "    return False\n",
        "\n",
        "print(\"Testing 10**10\")\n",
        "print(\"First\")\n",
        "%timeit is_square_one(10**10)\n",
        "print(\"Second\")\n",
        "%timeit is_square_two(10**10)\n",
        "print(\"Third\")\n",
        "%timeit is_square_three(10**10)\n",
        "\n",
        "print(\"\\nTesting 10**10 + 1\")\n",
        "print(\"First\")\n",
        "%timeit is_square_one(10**10+1)\n",
        "print(\"Second\")\n",
        "%timeit is_square_two(10**10+1)\n",
        "print(\"Third\")\n",
        "%timeit is_square_three(10**10+1)\n",
        "\n",
        "print(\"\\nTesting 10**10 + 3\")\n",
        "print(\"First\")\n",
        "%timeit is_square_one(10**10+3)\n",
        "print(\"Second\")\n",
        "%timeit is_square_two(10**10+3)\n",
        "print(\"Third\")\n",
        "%timeit is_square_three(10**10+3)"
      ],
      "execution_count": null,
      "outputs": [
        {
          "output_type": "stream",
          "text": [
            "Testing 10**10\n",
            "First\n",
            "The slowest run took 163.62 times longer than the fastest. This could mean that an intermediate result is being cached.\n",
            "1000000 loops, best of 3: 405 ns per loop\n",
            "Second\n",
            "10 loops, best of 3: 28.3 ms per loop\n",
            "Third\n",
            "100 loops, best of 3: 14.3 ms per loop\n",
            "\n",
            "Testing 10**10 + 1\n",
            "First\n",
            "The slowest run took 12.60 times longer than the fastest. This could mean that an intermediate result is being cached.\n",
            "1000000 loops, best of 3: 398 ns per loop\n",
            "Second\n",
            "10 loops, best of 3: 28.2 ms per loop\n",
            "Third\n",
            "100 loops, best of 3: 14.3 ms per loop\n",
            "\n",
            "Testing 10**10 + 3\n",
            "First\n",
            "The slowest run took 11.27 times longer than the fastest. This could mean that an intermediate result is being cached.\n",
            "1000000 loops, best of 3: 394 ns per loop\n",
            "Second\n",
            "10 loops, best of 3: 29.6 ms per loop\n",
            "Third\n",
            "The slowest run took 10.25 times longer than the fastest. This could mean that an intermediate result is being cached.\n",
            "1000000 loops, best of 3: 240 ns per loop\n"
          ],
          "name": "stdout"
        }
      ]
    },
    {
      "cell_type": "markdown",
      "metadata": {
        "id": "J_Xx10hBo1Nm"
      },
      "source": [
        "## List manipulation"
      ]
    },
    {
      "cell_type": "markdown",
      "metadata": {
        "id": "7Wd7YSnxo1Nm"
      },
      "source": [
        "We have already (briefly) encountered the `list` type in Python.  Recall that the `range` command produces a range, which can be used to produce a list.  For example, `list(range(10))` produces the list `[0,1,2,3,4,5,6,7,8,9]`.  You can also create your own list by a writing out its terms, e.g. `L = [4,7,10]`.\n",
        "\n",
        "Here we work with lists, and a very Pythonic approach to list manipulation.  With practice, this can be a powerful tool to write fast algorithms, exploiting the hard-wired capability of your computer to shift and slice large chunks of data.  Our eventual application will be to implement the Sieve of Eratosthenes, producing a long list of prime numbers (without using any `is_prime` test along the way)."
      ]
    },
    {
      "cell_type": "markdown",
      "metadata": {
        "id": "60AyLZgto1Nm"
      },
      "source": [
        "We begin by creating a list to play with.  We mix numbers and strings... just for fun."
      ]
    },
    {
      "cell_type": "code",
      "metadata": {
        "id": "LqlPEQ6jo1Nm"
      },
      "source": [
        "L = [0,'one',2,'three',4,'five',6,'seven',8,'nine',10]"
      ],
      "execution_count": null,
      "outputs": []
    },
    {
      "cell_type": "markdown",
      "metadata": {
        "id": "k3Isc4hVo1Nm"
      },
      "source": [
        "### List terms and indices\n",
        "\n",
        "Notice that the entries in a list can be of any type.  The above list `L` has some integer entries and some string entries.  Lists are **ordered** in Python, **starting at zero**.  One can access the $n^{th}$ entry in a list with a command like `L[n]`.  "
      ]
    },
    {
      "cell_type": "code",
      "metadata": {
        "id": "P6pVVcg7o1Nn",
        "colab": {
          "base_uri": "https://localhost:8080/",
          "height": 35
        },
        "outputId": "ec232904-7c30-4c91-bd9b-57215209d0a6"
      },
      "source": [
        "L[3]"
      ],
      "execution_count": null,
      "outputs": [
        {
          "output_type": "execute_result",
          "data": {
            "application/vnd.google.colaboratory.intrinsic+json": {
              "type": "string"
            },
            "text/plain": [
              "'three'"
            ]
          },
          "metadata": {
            "tags": []
          },
          "execution_count": 38
        }
      ]
    },
    {
      "cell_type": "code",
      "metadata": {
        "id": "jX8qwH8Co1Nn",
        "colab": {
          "base_uri": "https://localhost:8080/"
        },
        "outputId": "3f156640-178a-4283-ce0f-f7555aecf8ca"
      },
      "source": [
        "print(L[3])  # Note that Python has slightly different approaches to the print-function, and the output above."
      ],
      "execution_count": null,
      "outputs": [
        {
          "output_type": "stream",
          "text": [
            "three\n"
          ],
          "name": "stdout"
        }
      ]
    },
    {
      "cell_type": "code",
      "metadata": {
        "id": "SrEwDHyRo1Nn",
        "colab": {
          "base_uri": "https://localhost:8080/"
        },
        "outputId": "78dd6986-535d-419c-beff-0f73181248ca"
      },
      "source": [
        "print(L[4])  # We will use the print function, because it makes our printing intentions clear."
      ],
      "execution_count": null,
      "outputs": [
        {
          "output_type": "stream",
          "text": [
            "4\n"
          ],
          "name": "stdout"
        }
      ]
    },
    {
      "cell_type": "code",
      "metadata": {
        "id": "Z-ZCNLx4o1Nn",
        "colab": {
          "base_uri": "https://localhost:8080/"
        },
        "outputId": "4029b2a9-0c88-4102-f7dc-c0c25a993706"
      },
      "source": [
        "print(L[0])"
      ],
      "execution_count": null,
      "outputs": [
        {
          "output_type": "stream",
          "text": [
            "0\n"
          ],
          "name": "stdout"
        }
      ]
    },
    {
      "cell_type": "markdown",
      "metadata": {
        "id": "9Rd1gPF9o1Nn"
      },
      "source": [
        "The location of an entry is called its **index**.  So *at* the index 3, the list `L` stores the entry `three`.  Note that the same entry can occur in many places in a list.  E.g. `[7,7,7]` is a list with 7 at the zeroth, first, and second index."
      ]
    },
    {
      "cell_type": "code",
      "metadata": {
        "id": "SHWaHBmAo1Nn",
        "colab": {
          "base_uri": "https://localhost:8080/"
        },
        "outputId": "24d25232-ff53-4c3f-bffd-4ab749395cb2"
      },
      "source": [
        "print(L[-1])\n",
        "print(L[-2])"
      ],
      "execution_count": null,
      "outputs": [
        {
          "output_type": "stream",
          "text": [
            "10\n",
            "nine\n"
          ],
          "name": "stdout"
        }
      ]
    },
    {
      "cell_type": "markdown",
      "metadata": {
        "id": "N8U8KO9Do1Nn"
      },
      "source": [
        "The last bit of code demonstrates a cool Python trick.  The \"-1st\" entry in a list refers to the last entry. The \"-2nd entry\" refers to the second-to-last entry, and so on.  It gives a convenient way to access both sides of the list, even if you don't know how long it is.\n",
        "\n",
        "Of course, you can use Python to find out how long a list is."
      ]
    },
    {
      "cell_type": "code",
      "metadata": {
        "id": "U69qteuto1Nn",
        "colab": {
          "base_uri": "https://localhost:8080/"
        },
        "outputId": "ee33d70a-f6bc-42fc-8603-2a412f00601d"
      },
      "source": [
        "len(L)"
      ],
      "execution_count": null,
      "outputs": [
        {
          "output_type": "execute_result",
          "data": {
            "text/plain": [
              "11"
            ]
          },
          "metadata": {
            "tags": []
          },
          "execution_count": 43
        }
      ]
    },
    {
      "cell_type": "markdown",
      "metadata": {
        "id": "pVI66GEIo1No"
      },
      "source": [
        "You can also use Python to find the sum of a list of numbers."
      ]
    },
    {
      "cell_type": "code",
      "metadata": {
        "id": "XmBojrfto1No",
        "colab": {
          "base_uri": "https://localhost:8080/"
        },
        "outputId": "e1363f2a-5caa-4e05-aa5a-655db554900e"
      },
      "source": [
        "sum([1,2,3,4,5])"
      ],
      "execution_count": null,
      "outputs": [
        {
          "output_type": "execute_result",
          "data": {
            "text/plain": [
              "15"
            ]
          },
          "metadata": {
            "tags": []
          },
          "execution_count": 44
        }
      ]
    },
    {
      "cell_type": "code",
      "metadata": {
        "id": "7vO8uSwho1No",
        "colab": {
          "base_uri": "https://localhost:8080/"
        },
        "outputId": "149272ae-79c0-4a87-a524-6b53da050aca"
      },
      "source": [
        "sum(range(100))  # Be careful.  This is the sum of which numbers?  # The sum function can take lists or ranges."
      ],
      "execution_count": null,
      "outputs": [
        {
          "output_type": "execute_result",
          "data": {
            "text/plain": [
              "4950"
            ]
          },
          "metadata": {
            "tags": []
          },
          "execution_count": 45
        }
      ]
    },
    {
      "cell_type": "markdown",
      "metadata": {
        "id": "Gk4qkCSEo1No"
      },
      "source": [
        "### List slicing\n",
        "\n",
        "**Slicing** lists allows us to create new lists (or ranges) from old lists (or ranges), by chopping off one end or the other, or even slicing out entries at a fixed interval.  The simplest syntax has the form `L[a:b]` where `a` denotes the index of the starting entry and index of the final entry is one less than `b`.  It is best to try a few examples to get a feel for it.\n",
        "\n",
        "Slicing a list with a command like `L[a:b]` doesn't actually *change* the original list `L`.  It just extracts some terms from the list and outputs those terms.  Soon enough, we will change the list `L` using a list assignment."
      ]
    },
    {
      "cell_type": "code",
      "metadata": {
        "id": "8QNDpqJ9o1No",
        "colab": {
          "base_uri": "https://localhost:8080/"
        },
        "outputId": "8cc57ed0-5064-4495-aff2-66cd77f9ec25"
      },
      "source": [
        "L[0:5]"
      ],
      "execution_count": null,
      "outputs": [
        {
          "output_type": "execute_result",
          "data": {
            "text/plain": [
              "[0, 'one', 2, 'three', 4]"
            ]
          },
          "metadata": {
            "tags": []
          },
          "execution_count": 46
        }
      ]
    },
    {
      "cell_type": "code",
      "metadata": {
        "id": "gzEnfHqvo1No",
        "colab": {
          "base_uri": "https://localhost:8080/"
        },
        "outputId": "338a20f6-5d20-4af8-9e81-7d98a4acc43f"
      },
      "source": [
        "L[5:11]  # Notice that L[0:5] and L[5:11] together recover the whole list."
      ],
      "execution_count": null,
      "outputs": [
        {
          "output_type": "execute_result",
          "data": {
            "text/plain": [
              "['five', 6, 'seven', 8, 'nine', 10]"
            ]
          },
          "metadata": {
            "tags": []
          },
          "execution_count": 47
        }
      ]
    },
    {
      "cell_type": "code",
      "metadata": {
        "id": "MOzb4reTo1No",
        "colab": {
          "base_uri": "https://localhost:8080/"
        },
        "outputId": "fd6fc366-89d7-4f24-c845-0b4887a54ab8"
      },
      "source": [
        "L[3:7]"
      ],
      "execution_count": null,
      "outputs": [
        {
          "output_type": "execute_result",
          "data": {
            "text/plain": [
              "['three', 4, 'five', 6]"
            ]
          },
          "metadata": {
            "tags": []
          },
          "execution_count": 48
        }
      ]
    },
    {
      "cell_type": "markdown",
      "metadata": {
        "id": "Z1VPqRtoo1No"
      },
      "source": [
        "This continues the strange (for beginners) Python convention of starting at the first number and ending just before the last number.  Compare to `range(3,7)`, for example.  "
      ]
    },
    {
      "cell_type": "markdown",
      "metadata": {
        "id": "MrnvG511o1No"
      },
      "source": [
        "The command `L[0:5]` can be replaced by `L[:5]` to abbreviate.  The empty opening index tells Python to start at the beginning.  Similarly, the command `L[5:11]` can be replaced by `L[5:]`.  The empty closing index tells Python to end the slice and the end.  This is helpful if one doesn't know where the list ends."
      ]
    },
    {
      "cell_type": "code",
      "metadata": {
        "id": "-jgLcoWWo1Nq",
        "colab": {
          "base_uri": "https://localhost:8080/"
        },
        "outputId": "539411b9-09d0-41f9-ce49-f49fd20fccdd"
      },
      "source": [
        "L[:5]"
      ],
      "execution_count": null,
      "outputs": [
        {
          "output_type": "execute_result",
          "data": {
            "text/plain": [
              "[0, 'one', 2, 'three', 4]"
            ]
          },
          "metadata": {
            "tags": []
          },
          "execution_count": 49
        }
      ]
    },
    {
      "cell_type": "code",
      "metadata": {
        "id": "RC8VS_66o1Nq",
        "colab": {
          "base_uri": "https://localhost:8080/"
        },
        "outputId": "e5f2cabf-a551-4d94-87d4-17aa3dca7b41"
      },
      "source": [
        "L[3:]"
      ],
      "execution_count": null,
      "outputs": [
        {
          "output_type": "execute_result",
          "data": {
            "text/plain": [
              "['three', 4, 'five', 6, 'seven', 8, 'nine', 10]"
            ]
          },
          "metadata": {
            "tags": []
          },
          "execution_count": 50
        }
      ]
    },
    {
      "cell_type": "markdown",
      "metadata": {
        "id": "NNnM3hfOo1Nq"
      },
      "source": [
        "Just like the `range` command, list slicing can take an optional third argument to give a step size.  To understand this, try the command below."
      ]
    },
    {
      "cell_type": "code",
      "metadata": {
        "id": "zoxAvxDdo1Nq",
        "colab": {
          "base_uri": "https://localhost:8080/"
        },
        "outputId": "7af5acc6-0716-4671-fcc3-ed66aea0e943"
      },
      "source": [
        "L[2:10]"
      ],
      "execution_count": null,
      "outputs": [
        {
          "output_type": "execute_result",
          "data": {
            "text/plain": [
              "[2, 'three', 4, 'five', 6, 'seven', 8, 'nine']"
            ]
          },
          "metadata": {
            "tags": []
          },
          "execution_count": 51
        }
      ]
    },
    {
      "cell_type": "code",
      "metadata": {
        "id": "81Afdz7do1Nq",
        "colab": {
          "base_uri": "https://localhost:8080/"
        },
        "outputId": "31884345-4846-43a2-c678-929093d9c70b"
      },
      "source": [
        "L[2:10:3]"
      ],
      "execution_count": null,
      "outputs": [
        {
          "output_type": "execute_result",
          "data": {
            "text/plain": [
              "[2, 'five', 8]"
            ]
          },
          "metadata": {
            "tags": []
          },
          "execution_count": 52
        }
      ]
    },
    {
      "cell_type": "markdown",
      "metadata": {
        "id": "Ge3CcbYbo1Nq"
      },
      "source": [
        "If, in this three-argument syntax, the first or second argument is absent, then the slice starts at the beginning of the list or ends at the end of the list accordingly."
      ]
    },
    {
      "cell_type": "code",
      "metadata": {
        "id": "qpComE9ao1Nq",
        "colab": {
          "base_uri": "https://localhost:8080/"
        },
        "outputId": "5cf4996d-1c32-4696-ec69-32b58aa70c04"
      },
      "source": [
        "L  # Just a reminder.  We haven't modified the original list!"
      ],
      "execution_count": null,
      "outputs": [
        {
          "output_type": "execute_result",
          "data": {
            "text/plain": [
              "[0, 'one', 2, 'three', 4, 'five', 6, 'seven', 8, 'nine', 10]"
            ]
          },
          "metadata": {
            "tags": []
          },
          "execution_count": 53
        }
      ]
    },
    {
      "cell_type": "code",
      "metadata": {
        "id": "4tDS36jCo1Nr",
        "colab": {
          "base_uri": "https://localhost:8080/"
        },
        "outputId": "6b88baf4-c07f-414b-8dad-d00637d20f8d"
      },
      "source": [
        "L[:9:3]  # Start at zero, go up to (but not including) 9, by steps of 3."
      ],
      "execution_count": null,
      "outputs": [
        {
          "output_type": "execute_result",
          "data": {
            "text/plain": [
              "[0, 'three', 6]"
            ]
          },
          "metadata": {
            "tags": []
          },
          "execution_count": 54
        }
      ]
    },
    {
      "cell_type": "code",
      "metadata": {
        "id": "MFr4nObSo1Nr",
        "colab": {
          "base_uri": "https://localhost:8080/"
        },
        "outputId": "cb5881ed-645c-4b26-c117-129a60fff0b6"
      },
      "source": [
        "L[2: :3] # Start at two, go up through the end of the list, by steps of 3."
      ],
      "execution_count": null,
      "outputs": [
        {
          "output_type": "execute_result",
          "data": {
            "text/plain": [
              "[2, 'five', 8]"
            ]
          },
          "metadata": {
            "tags": []
          },
          "execution_count": 55
        }
      ]
    },
    {
      "cell_type": "code",
      "metadata": {
        "id": "X-EpKfF4o1Nr",
        "colab": {
          "base_uri": "https://localhost:8080/"
        },
        "outputId": "38c18fed-9b93-4fbc-e06b-9fbb53c2ef90"
      },
      "source": [
        "L[::3]  # Start at zero, go up through the end of the list, by steps of 3."
      ],
      "execution_count": null,
      "outputs": [
        {
          "output_type": "execute_result",
          "data": {
            "text/plain": [
              "[0, 'three', 6, 'nine']"
            ]
          },
          "metadata": {
            "tags": []
          },
          "execution_count": 56
        }
      ]
    },
    {
      "cell_type": "markdown",
      "metadata": {
        "id": "2dTiwVYho1Nr"
      },
      "source": [
        "### Changing list slices"
      ]
    },
    {
      "cell_type": "markdown",
      "metadata": {
        "id": "4y5zku1Mo1Nr"
      },
      "source": [
        "Not only can we extract and study terms or slices of a list, we can change them by assignment.  The simplest case would be changing a single term of a list."
      ]
    },
    {
      "cell_type": "code",
      "metadata": {
        "id": "OfPbYfsPo1Nr",
        "colab": {
          "base_uri": "https://localhost:8080/"
        },
        "outputId": "9f0260e5-fb97-4525-949f-c31e615d4ed2"
      },
      "source": [
        "print(L) # Start with the list L."
      ],
      "execution_count": null,
      "outputs": [
        {
          "output_type": "stream",
          "text": [
            "[0, 'one', 2, 'three', 4, 'five', 6, 'seven', 8, 'nine', 10]\n"
          ],
          "name": "stdout"
        }
      ]
    },
    {
      "cell_type": "code",
      "metadata": {
        "id": "UIvNYPDDo1Nr"
      },
      "source": [
        "L[5] = 'Bacon!'"
      ],
      "execution_count": null,
      "outputs": []
    },
    {
      "cell_type": "code",
      "metadata": {
        "id": "RLd45i_No1Nr",
        "colab": {
          "base_uri": "https://localhost:8080/"
        },
        "outputId": "01228170-017a-475c-fc38-b803774d0eab"
      },
      "source": [
        "print(L)  # What do you think L is now?"
      ],
      "execution_count": null,
      "outputs": [
        {
          "output_type": "stream",
          "text": [
            "[0, 'one', 2, 'three', 4, 'Bacon!', 6, 'seven', 8, 'nine', 10]\n"
          ],
          "name": "stdout"
        }
      ]
    },
    {
      "cell_type": "code",
      "metadata": {
        "id": "B6G0Uga9o1Nr",
        "colab": {
          "base_uri": "https://localhost:8080/"
        },
        "outputId": "521fc6ac-3403-40d4-8200-dc7a0ccb72f5"
      },
      "source": [
        "print(L[2::3]) # What do you think this will do?"
      ],
      "execution_count": null,
      "outputs": [
        {
          "output_type": "stream",
          "text": [
            "[2, 'Bacon!', 8]\n"
          ],
          "name": "stdout"
        }
      ]
    },
    {
      "cell_type": "markdown",
      "metadata": {
        "id": "uGennJ2qo1Nr"
      },
      "source": [
        "We can change an entire slice of a list with a single assignment.  Let's change the first two terms of `L` in one line."
      ]
    },
    {
      "cell_type": "code",
      "metadata": {
        "id": "y2qRmtGpo1Nr"
      },
      "source": [
        "L[:2] = ['Pancakes', 'Ham']  # What was L[:2] before?"
      ],
      "execution_count": null,
      "outputs": []
    },
    {
      "cell_type": "code",
      "metadata": {
        "id": "ovOM7CW5o1Ns",
        "colab": {
          "base_uri": "https://localhost:8080/"
        },
        "outputId": "e0af15ce-bf27-48d2-e5b1-765bfddf3982"
      },
      "source": [
        "print(L) # Oh... what have we done!"
      ],
      "execution_count": null,
      "outputs": [
        {
          "output_type": "stream",
          "text": [
            "['Pancakes', 'Ham', 2, 'three', 4, 'Bacon!', 6, 'seven', 8, 'nine', 10]\n"
          ],
          "name": "stdout"
        }
      ]
    },
    {
      "cell_type": "code",
      "metadata": {
        "id": "xaVOdSGdo1Ns",
        "colab": {
          "base_uri": "https://localhost:8080/",
          "height": 35
        },
        "outputId": "22f0c4ca-84aa-4a03-f0d7-97e114ec89a8"
      },
      "source": [
        "L[0]"
      ],
      "execution_count": null,
      "outputs": [
        {
          "output_type": "execute_result",
          "data": {
            "application/vnd.google.colaboratory.intrinsic+json": {
              "type": "string"
            },
            "text/plain": [
              "'Pancakes'"
            ]
          },
          "metadata": {
            "tags": []
          },
          "execution_count": 63
        }
      ]
    },
    {
      "cell_type": "code",
      "metadata": {
        "id": "7VzDxYkvo1Ns",
        "colab": {
          "base_uri": "https://localhost:8080/",
          "height": 35
        },
        "outputId": "dbfa12d9-4e34-42f6-cbee-85293847e4d2"
      },
      "source": [
        "L[1]"
      ],
      "execution_count": null,
      "outputs": [
        {
          "output_type": "execute_result",
          "data": {
            "application/vnd.google.colaboratory.intrinsic+json": {
              "type": "string"
            },
            "text/plain": [
              "'Ham'"
            ]
          },
          "metadata": {
            "tags": []
          },
          "execution_count": 64
        }
      ]
    },
    {
      "cell_type": "code",
      "metadata": {
        "id": "XEExh5vko1Ns",
        "colab": {
          "base_uri": "https://localhost:8080/"
        },
        "outputId": "cda34f5d-8647-4c35-f0ba-31f7a51c0d9f"
      },
      "source": [
        "L[2]"
      ],
      "execution_count": null,
      "outputs": [
        {
          "output_type": "execute_result",
          "data": {
            "text/plain": [
              "2"
            ]
          },
          "metadata": {
            "tags": []
          },
          "execution_count": 65
        }
      ]
    },
    {
      "cell_type": "markdown",
      "metadata": {
        "id": "G5jugoLbo1Ns"
      },
      "source": [
        "We can change a slice of a list with a single assignment, even when that slice does not consist of consecutive terms.  Try to predict what the following commands will do."
      ]
    },
    {
      "cell_type": "code",
      "metadata": {
        "id": "U9HQud-4o1Ns",
        "colab": {
          "base_uri": "https://localhost:8080/"
        },
        "outputId": "e7e68585-78c5-47d4-c1e9-c0bb0f8bb2e6"
      },
      "source": [
        "print(L)  # Let's see what the list looks like before."
      ],
      "execution_count": null,
      "outputs": [
        {
          "output_type": "stream",
          "text": [
            "['Pancakes', 'Ham', 2, 'three', 4, 'Bacon!', 6, 'seven', 8, 'nine', 10]\n"
          ],
          "name": "stdout"
        }
      ]
    },
    {
      "cell_type": "code",
      "metadata": {
        "id": "WaeNsMU8o1Ns"
      },
      "source": [
        "L[::2] = ['A','B','C','D','E','F']  # What was L[::2] before this assignment? "
      ],
      "execution_count": null,
      "outputs": []
    },
    {
      "cell_type": "code",
      "metadata": {
        "id": "e4DFQ2ZBo1Ns",
        "colab": {
          "base_uri": "https://localhost:8080/"
        },
        "outputId": "888548eb-5eb7-486f-9003-8f9d9cc93c3c"
      },
      "source": [
        "print(L)  # What do you predict?"
      ],
      "execution_count": null,
      "outputs": [
        {
          "output_type": "stream",
          "text": [
            "['A', 'Ham', 'B', 'three', 'C', 'Bacon!', 'D', 'seven', 'E', 'nine', 'F']\n"
          ],
          "name": "stdout"
        }
      ]
    },
    {
      "cell_type": "markdown",
      "metadata": {
        "id": "g7PBhl-1o1Ns"
      },
      "source": [
        "## List methods"
      ]
    },
    {
      "cell_type": "markdown",
      "metadata": {
        "id": "E4_oZBZYo1Ns"
      },
      "source": [
        "A method is a function that is attached to an object.  We have already used one method:  the `format` method that is attached to all strings.  You might have seen the `replace` method for strings too.  Note that single-quotes `'Hello'` or double-quotes `\"Hello\"` can be used for strings."
      ]
    },
    {
      "cell_type": "code",
      "metadata": {
        "id": "A9ZJsXNFo1Ns",
        "colab": {
          "base_uri": "https://localhost:8080/",
          "height": 35
        },
        "outputId": "a2cd8a9e-87fe-450a-d6db-5efe9b7fbc4b"
      },
      "source": [
        "\"Hello {}!\".format('programming student')"
      ],
      "execution_count": null,
      "outputs": [
        {
          "output_type": "execute_result",
          "data": {
            "application/vnd.google.colaboratory.intrinsic+json": {
              "type": "string"
            },
            "text/plain": [
              "'Hello programming student!'"
            ]
          },
          "metadata": {
            "tags": []
          },
          "execution_count": 69
        }
      ]
    },
    {
      "cell_type": "code",
      "metadata": {
        "id": "rWpWVH7eo1Nt",
        "colab": {
          "base_uri": "https://localhost:8080/",
          "height": 35
        },
        "outputId": "fa7a7dd4-2543-419a-bc3c-ff7e464369a9"
      },
      "source": [
        "\"Programming is fun!\".replace('fun','lit')"
      ],
      "execution_count": null,
      "outputs": [
        {
          "output_type": "execute_result",
          "data": {
            "application/vnd.google.colaboratory.intrinsic+json": {
              "type": "string"
            },
            "text/plain": [
              "'Programming is lit!'"
            ]
          },
          "metadata": {
            "tags": []
          },
          "execution_count": 70
        }
      ]
    },
    {
      "cell_type": "markdown",
      "metadata": {
        "id": "o_HBkyp_o1Nt"
      },
      "source": [
        "List methods are functions attached to lists.  Some useful methods include `append` and `sort`.  A fuller listing can be found at [the official documentation](https://docs.python.org/3/tutorial/datastructures.html)."
      ]
    },
    {
      "cell_type": "code",
      "metadata": {
        "id": "_KkgeG-yo1Nt",
        "colab": {
          "base_uri": "https://localhost:8080/"
        },
        "outputId": "6c88578d-53c0-47fb-9ccc-1303326ebf1a"
      },
      "source": [
        "L = [1,2,3]\n",
        "L.append(4)\n",
        "print(L)"
      ],
      "execution_count": null,
      "outputs": [
        {
          "output_type": "stream",
          "text": [
            "[1, 2, 3, 4]\n"
          ],
          "name": "stdout"
        }
      ]
    },
    {
      "cell_type": "markdown",
      "metadata": {
        "id": "VjkSU8Eyo1Nt"
      },
      "source": [
        "The `append` method can be used to add new items to the end of a list.  But be careful if you want to add multiple items!"
      ]
    },
    {
      "cell_type": "code",
      "metadata": {
        "id": "aS1Nuu84o1Nt",
        "colab": {
          "base_uri": "https://localhost:8080/"
        },
        "outputId": "cb529d4d-05c2-499c-d214-50a64b1e932a"
      },
      "source": [
        "L.append([5,6])\n",
        "print(L)"
      ],
      "execution_count": null,
      "outputs": [
        {
          "output_type": "stream",
          "text": [
            "[1, 2, 3, 4, [5, 6]]\n"
          ],
          "name": "stdout"
        }
      ]
    },
    {
      "cell_type": "markdown",
      "metadata": {
        "id": "THb1IcA6o1Nt"
      },
      "source": [
        "Behind the scenes, methods are functions which have a special input parameter called `self`.  So when you use a command like `L.append(4)`, you are effectively running `append(L, 4)`.  The `self` parameter is the object the method is attached to.\n",
        "\n",
        "Like all functions, methods have outputs too.  But what can be confusing is that methods can *modify* `self` and can sometimes *return* `None`.  "
      ]
    },
    {
      "cell_type": "code",
      "metadata": {
        "id": "TdOwNbHvo1Nt",
        "colab": {
          "base_uri": "https://localhost:8080/"
        },
        "outputId": "9cac709c-4f77-4887-e057-2816fbf64d9a"
      },
      "source": [
        "print([1,2,3].append(4))\n",
        "print(\"123\".replace(\"3\",\"4\"))"
      ],
      "execution_count": null,
      "outputs": [
        {
          "output_type": "stream",
          "text": [
            "None\n",
            "124\n"
          ],
          "name": "stdout"
        }
      ]
    },
    {
      "cell_type": "markdown",
      "metadata": {
        "id": "CNutNo0ro1Nt"
      },
      "source": [
        "This is very confusing at first!  The list `append` method *does* change `self` by appending something to `self`.  But as a function, it returns `None`.  \n",
        "\n",
        "On the other hand, the string `replace` method *does not* change `self` and instead *returns* the modified string.\n",
        "\n",
        "This will make more sense after we study *mutable* and *immutable* types.  Lists are mutable (and thus are often changed by their methods).  Strings are immutable, and so changes are effected by producing new strings.  Another example of a string method is `sort()`.  The only parameter of `sort` is `self`, and so nothing needs to go between the paraentheses."
      ]
    },
    {
      "cell_type": "code",
      "metadata": {
        "id": "iOJkQ3cIo1Nt",
        "colab": {
          "base_uri": "https://localhost:8080/"
        },
        "outputId": "775b171e-5b7c-45f3-c2bf-776fd23d4a7b"
      },
      "source": [
        "L = [4,2,1]  # Make a list.\n",
        "L.sort()  # Sort the list.  This *changes* L and returns None.\n",
        "print(L)  # Let's see what L is now."
      ],
      "execution_count": null,
      "outputs": [
        {
          "output_type": "stream",
          "text": [
            "[1, 2, 4]\n"
          ],
          "name": "stdout"
        }
      ]
    },
    {
      "cell_type": "code",
      "metadata": {
        "id": "ZDaPzUUjo1Nt",
        "colab": {
          "base_uri": "https://localhost:8080/"
        },
        "outputId": "d954333c-4ee9-45d6-b8c5-71b539a578cc"
      },
      "source": [
        "L = ['Ukelele', 'Apple', 'Dog', 'Cat' ]\n",
        "L.sort()\n",
        "print(L)"
      ],
      "execution_count": null,
      "outputs": [
        {
          "output_type": "stream",
          "text": [
            "['Apple', 'Cat', 'Dog', 'Ukelele']\n"
          ],
          "name": "stdout"
        }
      ]
    },
    {
      "cell_type": "markdown",
      "metadata": {
        "id": "2ibPAiCCo1Nu"
      },
      "source": [
        "Sorting numbers is possible, because the Python operator `<` is defined for numbers.  Sorting strings is possible, because the Python operator `<` is interpreted alphabetically among strings.  If you mix types, Python might not know how to behave... you'll get a TypeError."
      ]
    },
    {
      "cell_type": "code",
      "metadata": {
        "id": "EmIGZqSQo1Nu",
        "colab": {
          "base_uri": "https://localhost:8080/",
          "height": 198
        },
        "outputId": "16a6eae3-c32f-4b04-c1ce-a70155c67fbc"
      },
      "source": [
        "L = [1,'Apple', 3.14]\n",
        "L.sort()\n",
        "print(L)"
      ],
      "execution_count": null,
      "outputs": [
        {
          "output_type": "error",
          "ename": "TypeError",
          "evalue": "ignored",
          "traceback": [
            "\u001b[0;31m---------------------------------------------------------------------------\u001b[0m",
            "\u001b[0;31mTypeError\u001b[0m                                 Traceback (most recent call last)",
            "\u001b[0;32m<ipython-input-81-e3d2589f72dc>\u001b[0m in \u001b[0;36m<module>\u001b[0;34m()\u001b[0m\n\u001b[1;32m      1\u001b[0m \u001b[0mL\u001b[0m \u001b[0;34m=\u001b[0m \u001b[0;34m[\u001b[0m\u001b[0;36m1\u001b[0m\u001b[0;34m,\u001b[0m\u001b[0;34m'Apple'\u001b[0m\u001b[0;34m,\u001b[0m \u001b[0;36m3.14\u001b[0m\u001b[0;34m]\u001b[0m\u001b[0;34m\u001b[0m\u001b[0;34m\u001b[0m\u001b[0m\n\u001b[0;32m----> 2\u001b[0;31m \u001b[0mL\u001b[0m\u001b[0;34m.\u001b[0m\u001b[0msort\u001b[0m\u001b[0;34m(\u001b[0m\u001b[0;34m)\u001b[0m\u001b[0;34m\u001b[0m\u001b[0;34m\u001b[0m\u001b[0m\n\u001b[0m\u001b[1;32m      3\u001b[0m \u001b[0mprint\u001b[0m\u001b[0;34m(\u001b[0m\u001b[0mL\u001b[0m\u001b[0;34m)\u001b[0m\u001b[0;34m\u001b[0m\u001b[0;34m\u001b[0m\u001b[0m\n",
            "\u001b[0;31mTypeError\u001b[0m: '<' not supported between instances of 'str' and 'int'"
          ]
        }
      ]
    },
    {
      "cell_type": "markdown",
      "metadata": {
        "id": "RMN4XjXHo1Nu"
      },
      "source": [
        "### Exercises\n",
        "\n",
        "1.  Create a list L with L = [1,2,3,...,100] (all the numbers from 1 to 100).  What is L[50]?\n",
        "\n",
        "2.  Take the same list L, and extract a slice of the form [5,10,15,...,95] with a command of the form L[a:b:c].\n",
        "\n",
        "3.  Take the same list L, and change all the even numbers to zeros, so that L looks like [1,0,3,0,5,0,...,99,0].  Hint:  You might wish to use the list [0]*50.\n",
        "\n",
        "4.  Try the command `L[-1::-1]` on a list.  What does it do?  Can you guess before executing it?  Can you understand why?  In fact, strings are indexed like lists.  Try setting `L = 'Hello'` and the previous command.\n",
        "\n",
        "5.  Create the list [1,100,3,98,5,96,...,99,0], where the odd terms are in order and the even terms are in reverse order.  There are multiple methods!\n",
        "\n",
        "6.  Use the append method with a loop to create a list of perfect squares, [0,1,4,9,16,25,...,10000].\n",
        "\n",
        "7.  Create a list of 52 \"cards\" to resemble a standard card deck.  The suits can be denoted C,S,D,H for clubs, spades, diamonds, and hearts.  The numbers can be denoted 1-13 (with Ace = 1, Jack = 11, Queen = 12, King = 13).  So \"9H\" would be the 9 of hearts, and 12S the queen of spades.  Your list L should contain every card.  \n",
        "\n",
        "8.  Challenge:  write a function which performs a \"perfect riffle shuffle\" on a list of cards.  This shuffle should have the effect of dividing the deck into two equal pieces, and then precisely interlacing the two pieces to form a new list.  E.g., an input list of `[1,2,3,4,5,6]` should be broken into `[1,2,3]` and `[4,5,6]` and then interlaced as `[1,4,2,5,3,6]`."
      ]
    },
    {
      "cell_type": "markdown",
      "metadata": {
        "id": "0AY6A1OGjwfg"
      },
      "source": [
        "1 . See below"
      ]
    },
    {
      "cell_type": "code",
      "metadata": {
        "id": "zeKjo8JPUjjY",
        "colab": {
          "base_uri": "https://localhost:8080/"
        },
        "outputId": "b4410636-f139-4c7c-833c-45b56bce732f"
      },
      "source": [
        "#1 \n",
        "L = list(range(1,101))\n",
        "print(L[50])"
      ],
      "execution_count": null,
      "outputs": [
        {
          "output_type": "stream",
          "text": [
            "51\n"
          ],
          "name": "stdout"
        }
      ]
    },
    {
      "cell_type": "markdown",
      "metadata": {
        "id": "BcHV8rVJkAG9"
      },
      "source": [
        "2 . See below"
      ]
    },
    {
      "cell_type": "code",
      "metadata": {
        "id": "cBpJw5v_kDT0",
        "colab": {
          "base_uri": "https://localhost:8080/"
        },
        "outputId": "d003d3fb-d02b-4e4f-9965-051836451736"
      },
      "source": [
        "#2\n",
        "print(L[4:95:5])"
      ],
      "execution_count": null,
      "outputs": [
        {
          "output_type": "stream",
          "text": [
            "[5, 10, 15, 20, 25, 30, 35, 40, 45, 50, 55, 60, 65, 70, 75, 80, 85, 90, 95]\n"
          ],
          "name": "stdout"
        }
      ]
    },
    {
      "cell_type": "markdown",
      "metadata": {
        "id": "sTiLh4loj-3h"
      },
      "source": [
        "3 . See below"
      ]
    },
    {
      "cell_type": "code",
      "metadata": {
        "id": "tezArd33kV4D",
        "colab": {
          "base_uri": "https://localhost:8080/"
        },
        "outputId": "c323ed30-9af5-4f18-a88a-d40f6bbcdaae"
      },
      "source": [
        "#3 \n",
        "L[1::2] = [0]*50\n",
        "print(L)"
      ],
      "execution_count": null,
      "outputs": [
        {
          "output_type": "stream",
          "text": [
            "[1, 0, 3, 0, 5, 0, 7, 0, 9, 0, 11, 0, 13, 0, 15, 0, 17, 0, 19, 0, 21, 0, 23, 0, 25, 0, 27, 0, 29, 0, 31, 0, 33, 0, 35, 0, 37, 0, 39, 0, 41, 0, 43, 0, 45, 0, 47, 0, 49, 0, 51, 0, 53, 0, 55, 0, 57, 0, 59, 0, 61, 0, 63, 0, 65, 0, 67, 0, 69, 0, 71, 0, 73, 0, 75, 0, 77, 0, 79, 0, 81, 0, 83, 0, 85, 0, 87, 0, 89, 0, 91, 0, 93, 0, 95, 0, 97, 0, 99, 0]\n"
          ],
          "name": "stdout"
        }
      ]
    },
    {
      "cell_type": "markdown",
      "metadata": {
        "id": "ojGrDTrUkpTZ"
      },
      "source": [
        "4 . The command `L[-1::-1]` reverses the order of the elements in the list. The first `-1` tells Python to start the slice at the last element of the list. The empty space tells Python that the slice should go until it reaches the boundary of the list, and the second `-1` tells Python to move backwards through the list one element at a time, so the end result is a list with the same elements, but in the reverse order."
      ]
    },
    {
      "cell_type": "code",
      "metadata": {
        "id": "_bHtQda_kqR9",
        "colab": {
          "base_uri": "https://localhost:8080/"
        },
        "outputId": "bac792cb-315f-468d-a54f-bfb29353f3c8"
      },
      "source": [
        "#4 \n",
        "L = list(range(10))\n",
        "print(L[-1::-1])\n",
        "L = \"Hello\"\n",
        "print(L[-1::-1])"
      ],
      "execution_count": null,
      "outputs": [
        {
          "output_type": "stream",
          "text": [
            "[9, 8, 7, 6, 5, 4, 3, 2, 1, 0]\n",
            "olleH\n"
          ],
          "name": "stdout"
        }
      ]
    },
    {
      "cell_type": "markdown",
      "metadata": {
        "id": "JO_3xXW6m-TJ"
      },
      "source": [
        "5 . See below"
      ]
    },
    {
      "cell_type": "code",
      "metadata": {
        "id": "CJUVZM08nBUm",
        "colab": {
          "base_uri": "https://localhost:8080/"
        },
        "outputId": "ed7448cf-4da2-45e0-c3dd-9918a1e79689"
      },
      "source": [
        "#5\n",
        "L = list(range(101))\n",
        "L[::2] = L[-1::-2]\n",
        "print(L)"
      ],
      "execution_count": null,
      "outputs": [
        {
          "output_type": "stream",
          "text": [
            "[100, 1, 98, 3, 96, 5, 94, 7, 92, 9, 90, 11, 88, 13, 86, 15, 84, 17, 82, 19, 80, 21, 78, 23, 76, 25, 74, 27, 72, 29, 70, 31, 68, 33, 66, 35, 64, 37, 62, 39, 60, 41, 58, 43, 56, 45, 54, 47, 52, 49, 50, 51, 48, 53, 46, 55, 44, 57, 42, 59, 40, 61, 38, 63, 36, 65, 34, 67, 32, 69, 30, 71, 28, 73, 26, 75, 24, 77, 22, 79, 20, 81, 18, 83, 16, 85, 14, 87, 12, 89, 10, 91, 8, 93, 6, 95, 4, 97, 2, 99, 0]\n"
          ],
          "name": "stdout"
        }
      ]
    },
    {
      "cell_type": "markdown",
      "metadata": {
        "id": "pGmHirvpng_j"
      },
      "source": [
        "6 . See below"
      ]
    },
    {
      "cell_type": "code",
      "metadata": {
        "id": "rs6iOzf0n6B4",
        "colab": {
          "base_uri": "https://localhost:8080/"
        },
        "outputId": "09ca9b88-c1d3-483d-ed59-1ef2e0216240"
      },
      "source": [
        "#6\n",
        "L = []\n",
        "for i in range(101):\n",
        "  L.append(i**2)\n",
        "print(L)"
      ],
      "execution_count": null,
      "outputs": [
        {
          "output_type": "stream",
          "text": [
            "[0, 1, 4, 9, 16, 25, 36, 49, 64, 81, 100, 121, 144, 169, 196, 225, 256, 289, 324, 361, 400, 441, 484, 529, 576, 625, 676, 729, 784, 841, 900, 961, 1024, 1089, 1156, 1225, 1296, 1369, 1444, 1521, 1600, 1681, 1764, 1849, 1936, 2025, 2116, 2209, 2304, 2401, 2500, 2601, 2704, 2809, 2916, 3025, 3136, 3249, 3364, 3481, 3600, 3721, 3844, 3969, 4096, 4225, 4356, 4489, 4624, 4761, 4900, 5041, 5184, 5329, 5476, 5625, 5776, 5929, 6084, 6241, 6400, 6561, 6724, 6889, 7056, 7225, 7396, 7569, 7744, 7921, 8100, 8281, 8464, 8649, 8836, 9025, 9216, 9409, 9604, 9801, 10000]\n"
          ],
          "name": "stdout"
        }
      ]
    },
    {
      "cell_type": "markdown",
      "metadata": {
        "id": "o2GE3Jl3oMH_"
      },
      "source": [
        "7 . See below"
      ]
    },
    {
      "cell_type": "code",
      "metadata": {
        "id": "19ZphyjsoOHb",
        "colab": {
          "base_uri": "https://localhost:8080/"
        },
        "outputId": "eb1fad6c-de34-4f0f-a828-3a2276b9abd7"
      },
      "source": [
        "cards = []\n",
        "for suit in [\"C\",\"S\",\"D\",\"H\"]:\n",
        "  for value in range(1,14):\n",
        "    cards.append(str(value) + suit)\n",
        "print(cards)"
      ],
      "execution_count": null,
      "outputs": [
        {
          "output_type": "stream",
          "text": [
            "['1C', '2C', '3C', '4C', '5C', '6C', '7C', '8C', '9C', '10C', '11C', '12C', '13C', '1S', '2S', '3S', '4S', '5S', '6S', '7S', '8S', '9S', '10S', '11S', '12S', '13S', '1D', '2D', '3D', '4D', '5D', '6D', '7D', '8D', '9D', '10D', '11D', '12D', '13D', '1H', '2H', '3H', '4H', '5H', '6H', '7H', '8H', '9H', '10H', '11H', '12H', '13H']\n"
          ],
          "name": "stdout"
        }
      ]
    },
    {
      "cell_type": "markdown",
      "metadata": {
        "id": "SPEoBYpBovhN"
      },
      "source": [
        "8 . See below"
      ]
    },
    {
      "cell_type": "code",
      "metadata": {
        "id": "TCDKRNo2oyZ7",
        "colab": {
          "base_uri": "https://localhost:8080/"
        },
        "outputId": "f5b7821d-15df-405d-9a51-f0932457cd21"
      },
      "source": [
        "def riffle(deck):\n",
        "  new_deck = [0]*len(deck)\n",
        "  first_half = deck[:(len(deck)+1)//2 ]\n",
        "  second_half = deck[(len(deck)+1)//2 :]\n",
        "  new_deck[::2] = first_half\n",
        "  new_deck[1::2] = second_half\n",
        "  return new_deck\n",
        "print(riffle([1,2,3,4,5]))\n",
        "print(riffle([1,2,3,4,5,6]))\n"
      ],
      "execution_count": null,
      "outputs": [
        {
          "output_type": "stream",
          "text": [
            "[1, 4, 2, 5, 3]\n",
            "[1, 4, 2, 5, 3, 6]\n"
          ],
          "name": "stdout"
        }
      ]
    },
    {
      "cell_type": "markdown",
      "metadata": {
        "id": "DIORkSZEo1Nu"
      },
      "source": [
        "## Sieve of Eratosthenes"
      ]
    },
    {
      "cell_type": "markdown",
      "metadata": {
        "id": "rTQgPGs2o1Nu"
      },
      "source": [
        "The **Sieve of Eratosthenes** (hereafter called \"the sieve\") is a very fast way of producing long lists of primes, without doing repeated primality checking.  The basic idea is to start with all of the natural numbers, and successively filter out, or [**sieve**](https://en.wikipedia.org/wiki/Sieve), the multiples of 2, then the multiples of 3, then the multiples of 5, etc., until only primes are left.  You can read more about the sieve, and experimental number theory, at [The Conversation](https://theconversation.com/why-prime-numbers-still-fascinate-mathematicians-2-300-years-later-92484)\n",
        "\n",
        "Using list slicing, we can carry out this sieving process efficiently.  And with a few more tricks we encounter here, we can carry out the Sieve **very** efficiently."
      ]
    },
    {
      "cell_type": "markdown",
      "metadata": {
        "id": "_jx0oxsuo1Nu"
      },
      "source": [
        "### The basic sieve\n",
        "\n",
        "The first approach we introduce is a bit naive, but is a good starting place.  We will begin with a list of numbers up to 100, and sieve out the appropriate multiples of 2,3,5,7."
      ]
    },
    {
      "cell_type": "code",
      "metadata": {
        "id": "xiF25G0Zo1Nu"
      },
      "source": [
        "primes = list(range(100)) # Let's start with the numbers 0...99."
      ],
      "execution_count": null,
      "outputs": []
    },
    {
      "cell_type": "markdown",
      "metadata": {
        "id": "XIDLjxG4o1Nu"
      },
      "source": [
        "Now, to \"filter\", i.e., to say that a number is *not* prime, let's just change the number to the value `None`.  "
      ]
    },
    {
      "cell_type": "code",
      "metadata": {
        "id": "5VK6hIBEo1Nu",
        "colab": {
          "base_uri": "https://localhost:8080/"
        },
        "outputId": "dda0d6ae-ed5d-45ef-ef81-13cadd5acae8"
      },
      "source": [
        "primes[0] = None # Zero is not prime.\n",
        "primes[1] = None # One is not prime.\n",
        "print(primes) # What have we done?"
      ],
      "execution_count": null,
      "outputs": [
        {
          "output_type": "stream",
          "text": [
            "[None, None, 2, 3, 4, 5, 6, 7, 8, 9, 10, 11, 12, 13, 14, 15, 16, 17, 18, 19, 20, 21, 22, 23, 24, 25, 26, 27, 28, 29, 30, 31, 32, 33, 34, 35, 36, 37, 38, 39, 40, 41, 42, 43, 44, 45, 46, 47, 48, 49, 50, 51, 52, 53, 54, 55, 56, 57, 58, 59, 60, 61, 62, 63, 64, 65, 66, 67, 68, 69, 70, 71, 72, 73, 74, 75, 76, 77, 78, 79, 80, 81, 82, 83, 84, 85, 86, 87, 88, 89, 90, 91, 92, 93, 94, 95, 96, 97, 98, 99]\n"
          ],
          "name": "stdout"
        }
      ]
    },
    {
      "cell_type": "markdown",
      "metadata": {
        "id": "f60YBXEpo1Nv"
      },
      "source": [
        "Now let's filter out the multiples of 2, starting at 4.  This is the slice `primes[4::2]`"
      ]
    },
    {
      "cell_type": "code",
      "metadata": {
        "id": "WIBb5mQ3o1Nv",
        "colab": {
          "base_uri": "https://localhost:8080/"
        },
        "outputId": "f22128cf-f18f-4726-b4ac-079c398af878"
      },
      "source": [
        "primes[4::2] = [None] * len(primes[4::2])  # The right side is a list of Nones, of the necessary length.\n",
        "print(primes) # What have we done?"
      ],
      "execution_count": null,
      "outputs": [
        {
          "output_type": "stream",
          "text": [
            "[None, None, 2, 3, None, 5, None, 7, None, 9, None, 11, None, 13, None, 15, None, 17, None, 19, None, 21, None, 23, None, 25, None, 27, None, 29, None, 31, None, 33, None, 35, None, 37, None, 39, None, 41, None, 43, None, 45, None, 47, None, 49, None, 51, None, 53, None, 55, None, 57, None, 59, None, 61, None, 63, None, 65, None, 67, None, 69, None, 71, None, 73, None, 75, None, 77, None, 79, None, 81, None, 83, None, 85, None, 87, None, 89, None, 91, None, 93, None, 95, None, 97, None, 99]\n"
          ],
          "name": "stdout"
        }
      ]
    },
    {
      "cell_type": "markdown",
      "metadata": {
        "id": "gD0IZ3ffo1Nv"
      },
      "source": [
        "Now we filter out the multiples of 3, starting at 9."
      ]
    },
    {
      "cell_type": "code",
      "metadata": {
        "id": "nRDiN5ZYo1Nv",
        "colab": {
          "base_uri": "https://localhost:8080/"
        },
        "outputId": "0131d68e-d772-49a9-953c-f159583c249a"
      },
      "source": [
        "primes[9::3] = [None] * len(primes[9::3])  # The right side is a list of Nones, of the necessary length.\n",
        "print(primes) # What have we done?"
      ],
      "execution_count": null,
      "outputs": [
        {
          "output_type": "stream",
          "text": [
            "[None, None, 2, 3, None, 5, None, 7, None, None, None, 11, None, 13, None, None, None, 17, None, 19, None, None, None, 23, None, 25, None, None, None, 29, None, 31, None, None, None, 35, None, 37, None, None, None, 41, None, 43, None, None, None, 47, None, 49, None, None, None, 53, None, 55, None, None, None, 59, None, 61, None, None, None, 65, None, 67, None, None, None, 71, None, 73, None, None, None, 77, None, 79, None, None, None, 83, None, 85, None, None, None, 89, None, 91, None, None, None, 95, None, 97, None, None]\n"
          ],
          "name": "stdout"
        }
      ]
    },
    {
      "cell_type": "markdown",
      "metadata": {
        "id": "OkeNZU2Uo1Nv"
      },
      "source": [
        "Next the multiples of 5, starting at 25 (the first multiple of 5 greater than 5 that's left!)"
      ]
    },
    {
      "cell_type": "code",
      "metadata": {
        "id": "Aocpditlo1Nv",
        "colab": {
          "base_uri": "https://localhost:8080/"
        },
        "outputId": "8b81985e-00cf-4fbf-8f95-6d1930d3f2b3"
      },
      "source": [
        "primes[25::5] = [None] * len(primes[25::5])  # The right side is a list of Nones, of the necessary length.\n",
        "print(primes) # What have we done?"
      ],
      "execution_count": null,
      "outputs": [
        {
          "output_type": "stream",
          "text": [
            "[None, None, 2, 3, None, 5, None, 7, None, None, None, 11, None, 13, None, None, None, 17, None, 19, None, None, None, 23, None, None, None, None, None, 29, None, 31, None, None, None, None, None, 37, None, None, None, 41, None, 43, None, None, None, 47, None, 49, None, None, None, 53, None, None, None, None, None, 59, None, 61, None, None, None, None, None, 67, None, None, None, 71, None, 73, None, None, None, 77, None, 79, None, None, None, 83, None, None, None, None, None, 89, None, 91, None, None, None, None, None, 97, None, None]\n"
          ],
          "name": "stdout"
        }
      ]
    },
    {
      "cell_type": "markdown",
      "metadata": {
        "id": "9DYckJ43o1Nv"
      },
      "source": [
        "Finally, the multiples of 7, starting at 49 (the first multiple of 7 greater than 7 that's left!)"
      ]
    },
    {
      "cell_type": "code",
      "metadata": {
        "id": "NMMhQYBqo1Nv",
        "colab": {
          "base_uri": "https://localhost:8080/"
        },
        "outputId": "04f8a239-972e-4176-c0f2-bc5ff6bd8acc"
      },
      "source": [
        "primes[49::7] = [None] * len(primes[49::7])  # The right side is a list of Nones, of the necessary length.\n",
        "print(primes) # What have we done?"
      ],
      "execution_count": null,
      "outputs": [
        {
          "output_type": "stream",
          "text": [
            "[None, None, 2, 3, None, 5, None, 7, None, None, None, 11, None, 13, None, None, None, 17, None, 19, None, None, None, 23, None, None, None, None, None, 29, None, 31, None, None, None, None, None, 37, None, None, None, 41, None, 43, None, None, None, 47, None, None, None, None, None, 53, None, None, None, None, None, 59, None, 61, None, None, None, None, None, 67, None, None, None, 71, None, 73, None, None, None, None, None, 79, None, None, None, 83, None, None, None, None, None, 89, None, None, None, None, None, None, None, 97, None, None]\n"
          ],
          "name": "stdout"
        }
      ]
    },
    {
      "cell_type": "markdown",
      "metadata": {
        "id": "6Dulthjho1Nv"
      },
      "source": [
        "What's left?  A lot of `None`s and the prime numbers up to 100.  We have successfully sieved out all the nonprime numbers in the list, using just four sieving steps (and setting 0 and 1 to `None` manually).  \n",
        "\n",
        "But there's a lot of room for improvement, from beginning to end!\n",
        "\n",
        "1.  The format of the end result is not so nice.\n",
        "2.  We had to sieve each step manually.  It would be much better to have a function `prime_list(n)` which would output a list of primes up to `n` without so much supervision.\n",
        "3.  The memory usage will be large, if we need to store all the numbers up to a large `n` at the beginning.\n",
        "\n",
        "We solve these problems in the following way.\n",
        "\n",
        "1.  We will use a list of **booleans** rather than a list of numbers.  The ending list will have a `True` value at prime indices and a `False` value at composite indices.  This reduces the memory usage and increases the speed.  \n",
        "2.  A `which` function (explained soon) will make the desired list of primes after everything else is done.\n",
        "3.  We will proceed through the sieving steps algorithmically rather than entering each step manually.\n",
        "\n",
        "Here is a somewhat efficient implementation of the Sieve in Python."
      ]
    },
    {
      "cell_type": "code",
      "metadata": {
        "id": "HfOTwel_o1Nv"
      },
      "source": [
        "from math import sqrt\n",
        "def isprime_list(n):\n",
        "    ''' \n",
        "    Return a list of length n+1\n",
        "    with Trues at prime indices and Falses at composite indices.\n",
        "    '''\n",
        "    flags = [True] * (n+1)  # A list [True, True, True,...] to start.\n",
        "    flags[0] = False  # Zero is not prime.  So its flag is set to False.\n",
        "    flags[1] = False  # One is not prime.  So its flag is set to False.\n",
        "    p = 2  # The first prime is 2.  And we start sieving by multiples of 2.\n",
        "    \n",
        "    while p <= sqrt(n):  # We only need to sieve by p is p <= sqrt(n).\n",
        "        if flags[p]:  # We sieve the multiples of p if flags[p]=True.\n",
        "            flags[p*p::p] = [False] * len(flags[p*p::p]) # Sieves out multiples of p, starting at p*p.\n",
        "        p = p + 1 # Try the next value of p.\n",
        "        \n",
        "    return flags"
      ],
      "execution_count": 1,
      "outputs": []
    },
    {
      "cell_type": "code",
      "metadata": {
        "id": "eM2OGaymo1Nw",
        "colab": {
          "base_uri": "https://localhost:8080/"
        },
        "outputId": "c84f3507-ff1b-4715-aaae-4e25aabb579c"
      },
      "source": [
        "print(isprime_list(100))"
      ],
      "execution_count": null,
      "outputs": [
        {
          "output_type": "stream",
          "text": [
            "[False, False, True, True, False, True, False, True, False, False, False, True, False, True, False, False, False, True, False, True, False, False, False, True, False, False, False, False, False, True, False, True, False, False, False, False, False, True, False, False, False, True, False, True, False, False, False, True, False, False, False, False, False, True, False, False, False, False, False, True, False, True, False, False, False, False, False, True, False, False, False, True, False, True, False, False, False, False, False, True, False, False, False, True, False, False, False, False, False, True, False, False, False, False, False, False, False, True, False, False, False]\n"
          ],
          "name": "stdout"
        }
      ]
    },
    {
      "cell_type": "markdown",
      "metadata": {
        "id": "73FT-HVIo1Nw"
      },
      "source": [
        "If you look carefully at the list of booleans, you will notice a `True` value at the 2nd index, the 3rd index, the 5th index, the 7th index, etc..  The indices where the values are `True` are precisely the **prime** indices.  Since booleans take the smallest amount of memory of any data type (one **bit** of memory per boolean), your computer can carry out the `isprime_list(n)` function even when `n` is very large.\n",
        "\n",
        "To be more precise, there are 8 bits in a **byte**.  There are 1024 bytes (about 1000) in a kilobyte.  There are 1024 kilobytes in a megabyte.  There are 1024 megabytes in a gigabyte.  Therefore, a gigabyte of memory is enough to store about 8 billion bits.  That's enough to store the result of `isprime_list(n)` when `n` is about 8 billion.  Not bad!  And your computer probably has 4 or 8 or 12 or 16 gigabytes of memory to use.\n",
        "\n"
      ]
    },
    {
      "cell_type": "markdown",
      "metadata": {
        "id": "TtTBE8U0o1Nw"
      },
      "source": [
        "To transform the list of booleans into a list of prime numbers, we create a function called `where`.  This function uses another Python technique called **list comprehension**.  We discuss this technique later in this lesson, so just use the `where` function as a tool for now, or [read about list comprehension](https://docs.python.org/2/tutorial/datastructures.html#list-comprehensions) if you're curious."
      ]
    },
    {
      "cell_type": "code",
      "metadata": {
        "id": "q_ZiUC2uo1Nw"
      },
      "source": [
        "def where(L):\n",
        "    '''\n",
        "    Take a list of booleans as input and\n",
        "    outputs the list of indices where True occurs.\n",
        "    '''\n",
        "    return [n for n in range(len(L)) if L[n]]\n",
        "    "
      ],
      "execution_count": 2,
      "outputs": []
    },
    {
      "cell_type": "markdown",
      "metadata": {
        "id": "_rkxdrhmo1Nw"
      },
      "source": [
        "Combined with the `isprime_list` function, we can produce long lists of primes."
      ]
    },
    {
      "cell_type": "code",
      "metadata": {
        "scrolled": true,
        "id": "MkA2LdBlo1Nw",
        "colab": {
          "base_uri": "https://localhost:8080/"
        },
        "outputId": "ced4f681-a978-4187-f58f-e125531eb204"
      },
      "source": [
        "print(where(isprime_list(100)))"
      ],
      "execution_count": null,
      "outputs": [
        {
          "output_type": "stream",
          "text": [
            "[2, 3, 5, 7, 11, 13, 17, 19, 23, 29, 31, 37, 41, 43, 47, 53, 59, 61, 67, 71, 73, 79, 83, 89, 97]\n"
          ],
          "name": "stdout"
        }
      ]
    },
    {
      "cell_type": "markdown",
      "metadata": {
        "id": "gy3KRYbAo1Nw"
      },
      "source": [
        "Let's push it a bit further.  How many primes are there between 1 and 1 million?  We can figure this out in three steps:\n",
        "\n",
        "1.  Create the isprime_list.\n",
        "2.  Use where to get the list of primes.\n",
        "3.  Find the length of the list of primes.\n",
        "\n",
        "But it's better to do it in two steps.\n",
        "\n",
        "1.  Create the isprime_list.\n",
        "2.  Sum the list!  (Note that `True` is 1, for the purpose of summation!)"
      ]
    },
    {
      "cell_type": "code",
      "metadata": {
        "id": "MpIGIxjro1Nw",
        "colab": {
          "base_uri": "https://localhost:8080/"
        },
        "outputId": "2c7930f5-8d73-451b-dc50-5e4deb80718b"
      },
      "source": [
        "sum(isprime_list(1000000))  # The number of primes up to a million!"
      ],
      "execution_count": null,
      "outputs": [
        {
          "output_type": "execute_result",
          "data": {
            "text/plain": [
              "78498"
            ]
          },
          "metadata": {
            "tags": []
          },
          "execution_count": 11
        }
      ]
    },
    {
      "cell_type": "code",
      "metadata": {
        "id": "uQx3_5suo1Nw",
        "colab": {
          "base_uri": "https://localhost:8080/"
        },
        "outputId": "62cc9da6-657f-420c-e264-0aa81e0d3c8e"
      },
      "source": [
        "%timeit isprime_list(10**6)  # 1000 ms = 1 second."
      ],
      "execution_count": null,
      "outputs": [
        {
          "output_type": "stream",
          "text": [
            "10 loops, best of 3: 42.6 ms per loop\n"
          ],
          "name": "stdout"
        }
      ]
    },
    {
      "cell_type": "code",
      "metadata": {
        "id": "Dy3dxyNCo1Nw",
        "colab": {
          "base_uri": "https://localhost:8080/"
        },
        "outputId": "de2fb26b-304b-4350-dcc7-f98104611d56"
      },
      "source": [
        "%timeit sum(isprime_list(10**6))"
      ],
      "execution_count": null,
      "outputs": [
        {
          "output_type": "stream",
          "text": [
            "10 loops, best of 3: 65.4 ms per loop\n"
          ],
          "name": "stdout"
        }
      ]
    },
    {
      "cell_type": "markdown",
      "metadata": {
        "id": "WiEYpMXUo1Nw"
      },
      "source": [
        "This isn't too bad!  It takes a fraction of a second to identify the primes up to a million, and a smaller fraction of a second to count them!  But we can do a little better.  \n",
        "\n",
        "The first improvement is to take care of the even numbers first.  If we count carefully, then the sequence 4,6,8,...,n (ending at n-1 if n is odd) has the floor of (n-2)/2 terms.  Thus the line `flags[4::2] = [False] * ((n-2)//2)` will set all the flags to False in the sequence 4,6,8,10,...  From there, we can begin sieving by *odd* primes starting with 3.\n",
        "\n",
        "The next improvement is that, since we've already sieved out all the even numbers (except 2), we don't have to sieve out again by *even multiples*.  So when sieving by multiples of 3, we don't have to sieve out 9,12,15,18,21,etc..  We can just sieve out 9,15,21,etc..  When `p` is an odd prime, this can be taken care of with the code `flags[p*p::2*p] = [False] * len(flags[p*p::2*p])`.  "
      ]
    },
    {
      "cell_type": "code",
      "metadata": {
        "id": "MBU0GJsSo1Nx"
      },
      "source": [
        "def isprime_list(n):\n",
        "    ''' \n",
        "    Return a list of length n+1\n",
        "    with Trues at prime indices and Falses at composite indices.\n",
        "    '''\n",
        "    flags = [True] * (n+1)  # A list [True, True, True,...] to start.\n",
        "    flags[0] = False  # Zero is not prime.  So its flag is set to False.\n",
        "    flags[1] = False  # One is not prime.  So its flag is set to False.\n",
        "    flags[4::2] = [False] * ((n-2)//2)\n",
        "    p = 3\n",
        "    while p <= sqrt(n):  # We only need to sieve by p is p <= sqrt(n).\n",
        "        if flags[p]:  # We sieve the multiples of p if flags[p]=True.\n",
        "            flags[p*p::2*p] = [False] * len(flags[p*p::2*p]) # Sieves out multiples of p, starting at p*p.\n",
        "        p = p + 2 # Try the next value of p.  Note that we can proceed only through odd p!\n",
        "        \n",
        "    return flags"
      ],
      "execution_count": 3,
      "outputs": []
    },
    {
      "cell_type": "code",
      "metadata": {
        "id": "gW6DlvCmo1Nx",
        "colab": {
          "base_uri": "https://localhost:8080/"
        },
        "outputId": "ce9b67f6-2a78-44a4-e46e-7bd3037a02b3"
      },
      "source": [
        "%timeit sum(isprime_list(10**6))  # How much did this speed it up?"
      ],
      "execution_count": null,
      "outputs": [
        {
          "output_type": "stream",
          "text": [
            "10 loops, best of 3: 48.6 ms per loop\n"
          ],
          "name": "stdout"
        }
      ]
    },
    {
      "cell_type": "markdown",
      "metadata": {
        "id": "hiCV5pUEo1Nx"
      },
      "source": [
        "Another modest improvement is the following.  In the code above, the program *counts* the terms in sequences like 9,15,21,27,..., in order to set them to `False`.  This is accomplished with the length command `len(flags[p*p::2*p])`.  But that length computation is a bit too intensive.  A bit of algebraic work shows that the length is given formulaically in terms of `p` and `n` by the formula:  \n",
        "\n",
        "$$len = \\lfloor \\frac{n - p^2 - 1}{2p} \\rfloor + 1$$\n",
        "\n",
        "(Here $\\lfloor x \\rfloor$ denotes the floor function, i.e., the result of rounding down.)  Putting this into the code yields the following."
      ]
    },
    {
      "cell_type": "code",
      "metadata": {
        "id": "46RPEsKCo1Nx"
      },
      "source": [
        "def isprime_list(n):\n",
        "    ''' \n",
        "    Return a list of length n+1\n",
        "    with Trues at prime indices and Falses at composite indices.\n",
        "    '''\n",
        "    if n == 0:\n",
        "      return [False]\n",
        "    flags = [True] * (n+1)  # A list [True, True, True,...] to start.\n",
        "    flags[0] = False  # Zero is not prime.  So its flag is set to False.\n",
        "    flags[1] = False  # One is not prime.  So its flag is set to False.\n",
        "    flags[4::2] = [False] * ((n-2)//2)\n",
        "    p = 3\n",
        "    while p <= sqrt(n):  # We only need to sieve by p is p <= sqrt(n).\n",
        "        if flags[p]:  # We sieve the multiples of p if flags[p]=True.\n",
        "            flags[p*p::2*p] = [False] * ((n-p*p)//(2*p)+1) # Sieves out multiples of p, starting at p*p.\n",
        "        p = p + 2 # Try the next value of p.\n",
        "        \n",
        "    return flags"
      ],
      "execution_count": 13,
      "outputs": []
    },
    {
      "cell_type": "code",
      "metadata": {
        "id": "gMCxzJ8yo1Nx",
        "colab": {
          "base_uri": "https://localhost:8080/"
        },
        "outputId": "927ade06-177e-4990-b25d-094f5f274e98"
      },
      "source": [
        "%timeit sum(isprime_list(10**6))  # How much did this speed it up?"
      ],
      "execution_count": null,
      "outputs": [
        {
          "output_type": "stream",
          "text": [
            "10 loops, best of 3: 44.5 ms per loop\n"
          ],
          "name": "stdout"
        }
      ]
    },
    {
      "cell_type": "markdown",
      "metadata": {
        "id": "NT6XwvCJo1Nx"
      },
      "source": [
        "That should be pretty fast!  It should be under 100 ms (one tenth of one second!) to determine the primes up to a million, and on a newer computer it should be under 50ms.  We have gotten pretty close to the fastest algorithms that you can find in Python, without using external packages (like SAGE or sympy).  See the related [discussion on StackOverflow](https://stackoverflow.com/questions/2068372/fastest-way-to-list-all-primes-below-n)... the code in this lesson was influenced by the code presented there."
      ]
    },
    {
      "cell_type": "markdown",
      "metadata": {
        "id": "8Noiny4ho1Nx"
      },
      "source": [
        "### Exercises\n",
        "\n",
        "1.  Prove that the length of `range(p*p, n, 2*p)` equals $\\lfloor \\frac{n - p^2 - 1}{2p} \\rfloor + 1$.\n",
        "\n",
        "2.  A natural number $n$ is called squarefree if it has no perfect square divides $n$ except for 1.  Write a function `squarefree_list(n)` which outputs a list of booleans:  `True` if the index is squarefree and `False` if the index is not squarefree.  For example, if you execute `squarefree_list(12)`, the output should be `[False, True, True, True, False, True, True, True, False, False, True, True, False]`.  Note that the `False` entries are located the indices 0, 4, 8, 9, 12.  These natural numbers have perfect square divisors besides 1.  \n",
        "\n",
        "3.  Your DNA contains about 3 billion base pairs.  Each \"base pair\" can be thought of as a letter, A, T, G, or C.  How many bits would be required to store a single base pair?  In other words, how might you convert a sequence of booleans into a letter A,T,G, or C?  Given this, how many megabytes or gigabytes are required to store your DNA?  How many people's DNA would fit on a thumb-drive?"
      ]
    },
    {
      "cell_type": "markdown",
      "metadata": {
        "id": "7RUQEcmj9uK1"
      },
      "source": [
        "1 . We prove a more general claim: if $a < b$ are integers, and $c$ is a positive integer, then the length of `range(a,b,c)` equals $\\lfloor \\frac{b - a - 1}{c} \\rfloor + 1$. As $a < b$, there exists a unique natural number $k$ such that $a + kc < b$, and $a + (k+1)c \\geq b$. Therefore, `range(a,b,c)` will consist of the numbers $a, a+c, a+2c, \\dots, a+kc$, which shows that `range(a,b,c)` has length k+1. If we can show that $k = \\lfloor \\frac{b - a - 1}{c} \\rfloor$, then we are done. \n",
        "\n",
        "As $\\lfloor x \\rfloor \\leq x$ for all $x$, we compute\n",
        "$$ a + \\lfloor \\frac{b - a - 1}{c} \\rfloor \\cdot c \\leq a + \\frac{b - a - 1}{c} \\cdot c = a + b - a - 1 = b - 1 < b.$$\n",
        "As $\\lfloor x \\rfloor > x-1$ for all $x$, we compute\n",
        "$$a + \\left( \\lfloor \\frac{b - a - 1}{c} \\rfloor + 1 \\right) \\cdot c > a + \\left(\\frac{b-a-1}{c}\\right) \\cdot c = b-1. $$\n",
        "Then, because the quantity $a + \\left( \\lfloor \\frac{b - a - 1}{c} \\rfloor + 1 \\right)$ is an integer strictly greater than b-1, it must be greater than or equal to $b$, so $\\lfloor \\frac{b - a - 1}{c} \\rfloor$ is the integer we were searching for, and we are done. "
      ]
    },
    {
      "cell_type": "markdown",
      "metadata": {
        "id": "nduRviA8BAVn"
      },
      "source": [
        "2 . See below"
      ]
    },
    {
      "cell_type": "code",
      "metadata": {
        "id": "JgTwUYnGBDXP",
        "colab": {
          "base_uri": "https://localhost:8080/"
        },
        "outputId": "b3ac29b3-42c0-4aa3-b593-1c59164022f3"
      },
      "source": [
        "def squarefree_list(n):\n",
        "  flags = [True]*(n+1)\n",
        "  flags[0] = False\n",
        "  flags[4::4] = [False]*(n//4)\n",
        "  k = 3\n",
        "  while k <= sqrt(n):\n",
        "    if flags[k]:\n",
        "      flags[k**2::k**2] = [False]*(n//(k**2))\n",
        "    k = k + 2\n",
        "  return flags\n",
        "\n",
        "print(where(squarefree_list(100)))\n"
      ],
      "execution_count": null,
      "outputs": [
        {
          "output_type": "stream",
          "text": [
            "[1, 2, 3, 5, 6, 7, 10, 11, 13, 14, 15, 17, 19, 21, 22, 23, 26, 29, 30, 31, 33, 34, 35, 37, 38, 39, 41, 42, 43, 46, 47, 51, 53, 55, 57, 58, 59, 61, 62, 65, 66, 67, 69, 70, 71, 73, 74, 77, 78, 79, 82, 83, 85, 86, 87, 89, 91, 93, 94, 95, 97]\n"
          ],
          "name": "stdout"
        }
      ]
    },
    {
      "cell_type": "markdown",
      "metadata": {
        "id": "5KxvZ9GINdUa"
      },
      "source": [
        "3 . If we only need to store the letters A,T,G,C, we can store each base pair using two bits, because there are 4 possible values that two bits can assume: 00,01,10,and 11. If we make the assignments A = 00, T = 01, G = 10, C = 11, then we could store the sequence of base pairts \"ATTCAG\" as a list of booleans [0,0,0,1,0,1,1,1,0,0,1,0], and given a list of booleans with even length, we can recover a sequence of base pairs by taking the booleans in pairs and reversing the process. Therefore, we can store all of my DNA using about 6 billion bits, which is equivalent to about 715 megabytes."
      ]
    },
    {
      "cell_type": "markdown",
      "metadata": {
        "id": "hXac_vzPo1Nx"
      },
      "source": [
        "<a id='analysis'></a>"
      ]
    },
    {
      "cell_type": "markdown",
      "metadata": {
        "id": "tuP5axz9o1Nx"
      },
      "source": [
        "## Data analysis"
      ]
    },
    {
      "cell_type": "markdown",
      "metadata": {
        "id": "41IrhAupo1Nx"
      },
      "source": [
        "Now that we can produce a list of prime numbers quickly, we can do some data analysis:  some experimental number theory to look for trends or patterns in the sequence of prime numbers.  Since Euclid (about 300 BCE), we have known that there are infinitely many prime numbers.  But how are they distributed?  What proportion of numbers are prime, and how does this proportion change over different ranges?  As theoretical questions, these belong the the field of analytic number theory.  But it is hard to know what to prove without doing a bit of experimentation.  And so, at least since Gauss [(read Tschinkel's article about Gauss's tables)](http://www.ams.org/journals/bull/2006-43-01/S0273-0979-05-01096-7/S0273-0979-05-01096-7.pdf) started examining his extensive tables of prime numbers, mathematicians have been carrying out experimental number theory."
      ]
    },
    {
      "cell_type": "markdown",
      "metadata": {
        "id": "ZE0QFlwYo1Ny"
      },
      "source": [
        "### Analyzing the list of primes\n",
        "\n",
        "Let's begin by creating our data set:  the prime numbers up to 1 million."
      ]
    },
    {
      "cell_type": "code",
      "metadata": {
        "id": "9HB_PuBXo1Ny"
      },
      "source": [
        "primes = where(isprime_list(1000000))"
      ],
      "execution_count": null,
      "outputs": []
    },
    {
      "cell_type": "code",
      "metadata": {
        "id": "bdr1hcP0o1Ny",
        "colab": {
          "base_uri": "https://localhost:8080/"
        },
        "outputId": "c7dd73a7-4fad-4c4e-9036-6feae51fb450"
      },
      "source": [
        "len(primes) # Our population size.  A statistician might call it N."
      ],
      "execution_count": null,
      "outputs": [
        {
          "output_type": "execute_result",
          "data": {
            "text/plain": [
              "78498"
            ]
          },
          "metadata": {
            "tags": []
          },
          "execution_count": 26
        }
      ]
    },
    {
      "cell_type": "code",
      "metadata": {
        "id": "wJs6DNcBo1Ny",
        "colab": {
          "base_uri": "https://localhost:8080/"
        },
        "outputId": "645666d3-adc4-430b-cf68-5981ae4296a3"
      },
      "source": [
        "primes[-1]  # The last prime in our list, just before one million."
      ],
      "execution_count": null,
      "outputs": [
        {
          "output_type": "execute_result",
          "data": {
            "text/plain": [
              "999983"
            ]
          },
          "metadata": {
            "tags": []
          },
          "execution_count": 27
        }
      ]
    },
    {
      "cell_type": "code",
      "metadata": {
        "scrolled": true,
        "id": "7geu3XMoo1Ny",
        "colab": {
          "base_uri": "https://localhost:8080/"
        },
        "outputId": "da4a58a4-dc89-4e04-8544-fca32dc507df"
      },
      "source": [
        "type(primes) # What type is this data?"
      ],
      "execution_count": null,
      "outputs": [
        {
          "output_type": "execute_result",
          "data": {
            "text/plain": [
              "list"
            ]
          },
          "metadata": {
            "tags": []
          },
          "execution_count": 28
        }
      ]
    },
    {
      "cell_type": "code",
      "metadata": {
        "id": "siBIu-IGo1Ny",
        "colab": {
          "base_uri": "https://localhost:8080/"
        },
        "outputId": "c763853f-fdb0-4b88-946a-c5a8a2d2c503"
      },
      "source": [
        "print(primes[:100]) # The first hundred prime numbers."
      ],
      "execution_count": null,
      "outputs": [
        {
          "output_type": "stream",
          "text": [
            "[2, 3, 5, 7, 11, 13, 17, 19, 23, 29, 31, 37, 41, 43, 47, 53, 59, 61, 67, 71, 73, 79, 83, 89, 97, 101, 103, 107, 109, 113, 127, 131, 137, 139, 149, 151, 157, 163, 167, 173, 179, 181, 191, 193, 197, 199, 211, 223, 227, 229, 233, 239, 241, 251, 257, 263, 269, 271, 277, 281, 283, 293, 307, 311, 313, 317, 331, 337, 347, 349, 353, 359, 367, 373, 379, 383, 389, 397, 401, 409, 419, 421, 431, 433, 439, 443, 449, 457, 461, 463, 467, 479, 487, 491, 499, 503, 509, 521, 523, 541]\n"
          ],
          "name": "stdout"
        }
      ]
    },
    {
      "cell_type": "markdown",
      "metadata": {
        "id": "A6j9MmSGo1Ny"
      },
      "source": [
        "To carry out serious analysis, we will use the method of **list comprehension** to place our population into \"bins\" for statistical analysis.  Our first type of list comprehension has the form `[x for x in LIST if CONDITION]`.  This produces the list of all elements of LIST satisfying CONDITION.  It is similar to list slicing, except we pull out terms from the list according to whether a condition is true or false.\n",
        "\n",
        "For example, let's divide the (odd) primes into two classes.  Red primes will be those of the form 4n+1.  Blue primes will be those of the form 4n+3.  In other words, a prime `p` is red if `p%4 == 1` and blue if `p%4 == 3`.  And the prime 2 is neither red nor blue."
      ]
    },
    {
      "cell_type": "code",
      "metadata": {
        "id": "bINic7Ceo1Ny",
        "colab": {
          "base_uri": "https://localhost:8080/"
        },
        "outputId": "70457027-6814-4ef7-8051-7269af7bb811"
      },
      "source": [
        "redprimes = [p for p in primes if p%4 == 1] # Note the [x for x in LIST if CONDITION] syntax.\n",
        "blueprimes = [p for p in primes if p%4 == 3]\n",
        "\n",
        "print('Red primes:',redprimes[:20]) # The first 20 red primes.\n",
        "print('Blue primes:',blueprimes[:20]) # The first 20 blue primes."
      ],
      "execution_count": null,
      "outputs": [
        {
          "output_type": "stream",
          "text": [
            "Red primes: [5, 13, 17, 29, 37, 41, 53, 61, 73, 89, 97, 101, 109, 113, 137, 149, 157, 173, 181, 193]\n",
            "Blue primes: [3, 7, 11, 19, 23, 31, 43, 47, 59, 67, 71, 79, 83, 103, 107, 127, 131, 139, 151, 163]\n"
          ],
          "name": "stdout"
        }
      ]
    },
    {
      "cell_type": "code",
      "metadata": {
        "id": "XXK10HG4o1Ny",
        "colab": {
          "base_uri": "https://localhost:8080/"
        },
        "outputId": "9d6e6942-d639-4549-88ef-394daf5e7c06"
      },
      "source": [
        "print(\"There are {} red primes and {} blue primes, up to 1 million.\".format(len(redprimes), len(blueprimes)))"
      ],
      "execution_count": null,
      "outputs": [
        {
          "output_type": "stream",
          "text": [
            "There are 39175 red primes and 39322 blue primes, up to 1 million.\n"
          ],
          "name": "stdout"
        }
      ]
    },
    {
      "cell_type": "markdown",
      "metadata": {
        "id": "EMVjQlHuo1Ny"
      },
      "source": [
        "This is pretty close!  It seems like prime numbers are about evenly distributed between red and blue.  Their remainder after division by 4 is about as likely to be 1 as it is to be 3.  In fact, it is proven that *asymptotically* the ratio between the number of red primes and the number of blue primes approaches 1.  However, Chebyshev noticed a persistent slight bias towards blue primes along the way."
      ]
    },
    {
      "cell_type": "markdown",
      "metadata": {
        "id": "iBN5IBLwo1Ny"
      },
      "source": [
        "Some of the deepest conjectures in mathematics relate to the [prime counting function](https://en.wikipedia.org/wiki/Prime-counting_function) $\\pi(x)$.  Here $\\pi(x)$ is the **number of primes** between 1 and $x$ (inclusive).  So $\\pi(2) = 1$ and $\\pi(3) = 2$ and $\\pi(4) = 2$ and $\\pi(5) = 3$.  One can compute a value of $\\pi(x)$ pretty easily using a list comprehension.\n",
        "\n"
      ]
    },
    {
      "cell_type": "code",
      "metadata": {
        "id": "oFK7OGHoo1Nz"
      },
      "source": [
        "def primes_upto(x):\n",
        "    return len([p for p in primes if p <= x]) # List comprehension recovers the primes up to x."
      ],
      "execution_count": 39,
      "outputs": []
    },
    {
      "cell_type": "code",
      "metadata": {
        "id": "eCi28UhMo1Nz",
        "colab": {
          "base_uri": "https://localhost:8080/"
        },
        "outputId": "30499a51-5edb-4fb1-ba8d-ab1d47b505c8"
      },
      "source": [
        "primes_upto(1000)  # There are 168 primes between 1 and 1000."
      ],
      "execution_count": null,
      "outputs": [
        {
          "output_type": "execute_result",
          "data": {
            "text/plain": [
              "168"
            ]
          },
          "metadata": {
            "tags": []
          },
          "execution_count": 33
        }
      ]
    },
    {
      "cell_type": "markdown",
      "metadata": {
        "id": "ZlnkhYw7o1Nz"
      },
      "source": [
        "Now we graph the prime counting function.  To do this, we use a list comprehension, and the visualization library called matplotlib.  For graphing a function, the basic idea is to create a list of x-values, a list of corresponding y-values (so the lists have to be the same length!), and then we feed the two lists into matplotlib to make the graph.\n",
        "\n",
        "We begin by loading the necessary packages."
      ]
    },
    {
      "cell_type": "code",
      "metadata": {
        "id": "cvVF2M5Go1Nz"
      },
      "source": [
        "import matplotlib  #  A powerful graphics package.\n",
        "import numpy  #  A math package\n",
        "import matplotlib.pyplot as plt  # A plotting subpackage in matplotlib."
      ],
      "execution_count": 7,
      "outputs": []
    },
    {
      "cell_type": "markdown",
      "metadata": {
        "id": "-iouxGxro1Nz"
      },
      "source": [
        "Now let's graph the function $y = x^2$ over the domain $-2 \\leq x \\leq 2$ for practice.  As a first step, we use numpy's `linspace` function to create an evenly spaced set of 11 x-values between -2 and 2."
      ]
    },
    {
      "cell_type": "code",
      "metadata": {
        "id": "n7oh0AAAo1Nz",
        "colab": {
          "base_uri": "https://localhost:8080/"
        },
        "outputId": "044533ab-b216-43a4-bc8d-830264f74436"
      },
      "source": [
        "x_values = numpy.linspace(-2,2,11)  # The argument 11 is the *number* of terms, not the step size!\n",
        "print(x_values)\n",
        "type(x_values)"
      ],
      "execution_count": null,
      "outputs": [
        {
          "output_type": "stream",
          "text": [
            "[-2.  -1.6 -1.2 -0.8 -0.4  0.   0.4  0.8  1.2  1.6  2. ]\n"
          ],
          "name": "stdout"
        },
        {
          "output_type": "execute_result",
          "data": {
            "text/plain": [
              "numpy.ndarray"
            ]
          },
          "metadata": {
            "tags": []
          },
          "execution_count": 35
        }
      ]
    },
    {
      "cell_type": "markdown",
      "metadata": {
        "id": "idcqPGZ0o1Nz"
      },
      "source": [
        "You might notice that the format looks a bit different from a list.  Indeed, if you check `type(x_values)`, it's not a list but something else called a numpy array.  Numpy is a package that excels with computations on large arrays of data.  On the surface, it's not so different from a list.  The `numpy.linspace` command is a convenient way of producing an evenly spaced list of inputs.\n",
        "\n",
        "The big difference is that operations on numpy arrays are interpreted differently than operations on ordinary Python lists.  Try the two commands for comparison."
      ]
    },
    {
      "cell_type": "code",
      "metadata": {
        "id": "5LjKKSeZo1Nz",
        "colab": {
          "base_uri": "https://localhost:8080/"
        },
        "outputId": "55e3144e-35a3-48fe-d259-60ed49da5234"
      },
      "source": [
        "[1,2,3] + [1,2,3]"
      ],
      "execution_count": null,
      "outputs": [
        {
          "output_type": "execute_result",
          "data": {
            "text/plain": [
              "[1, 2, 3, 1, 2, 3]"
            ]
          },
          "metadata": {
            "tags": []
          },
          "execution_count": 36
        }
      ]
    },
    {
      "cell_type": "code",
      "metadata": {
        "id": "qZFk1LBJo1Nz",
        "colab": {
          "base_uri": "https://localhost:8080/"
        },
        "outputId": "3762753b-9553-46ad-8f82-d5dfa394b47f"
      },
      "source": [
        "x_values + x_values"
      ],
      "execution_count": null,
      "outputs": [
        {
          "output_type": "execute_result",
          "data": {
            "text/plain": [
              "array([-4. , -3.2, -2.4, -1.6, -0.8,  0. ,  0.8,  1.6,  2.4,  3.2,  4. ])"
            ]
          },
          "metadata": {
            "tags": []
          },
          "execution_count": 37
        }
      ]
    },
    {
      "cell_type": "code",
      "metadata": {
        "id": "LyesLSuPo1N0",
        "colab": {
          "base_uri": "https://localhost:8080/"
        },
        "outputId": "c6127959-7c63-4853-86c2-68a8eb8f277f"
      },
      "source": [
        "y_values = x_values * x_values  # How is multiplication interpreted on numpy arrays?\n",
        "print(y_values)"
      ],
      "execution_count": null,
      "outputs": [
        {
          "output_type": "stream",
          "text": [
            "[4.   2.56 1.44 0.64 0.16 0.   0.16 0.64 1.44 2.56 4.  ]\n"
          ],
          "name": "stdout"
        }
      ]
    },
    {
      "cell_type": "markdown",
      "metadata": {
        "id": "uAFegDVTo1N0"
      },
      "source": [
        "Now we use matplotlib to create a simple line graph."
      ]
    },
    {
      "cell_type": "code",
      "metadata": {
        "id": "tjB51noto1N0",
        "colab": {
          "base_uri": "https://localhost:8080/",
          "height": 299
        },
        "outputId": "1a06225c-8b5a-47ac-c230-d988330800ee"
      },
      "source": [
        "%matplotlib inline\n",
        "plt.plot(x_values, y_values)\n",
        "plt.title('The graph of $y = x^2$')  # The dollar signs surround the formula, in LaTeX format.\n",
        "plt.ylabel('y')\n",
        "plt.xlabel('x')\n",
        "plt.grid(True)\n",
        "plt.show()\n"
      ],
      "execution_count": null,
      "outputs": [
        {
          "output_type": "display_data",
          "data": {
            "image/png": "[encoded data removed]",
            "text/plain": [
              "<Figure size 432x288 with 1 Axes>"
            ]
          },
          "metadata": {
            "tags": [],
            "needs_background": "light"
          }
        }
      ]
    },
    {
      "cell_type": "markdown",
      "metadata": {
        "id": "9Wg3S1WTo1N0"
      },
      "source": [
        "Let's analyze the graphing code a bit more.  See the [official pyplot tutorial](https://matplotlib.org/users/pyplot_tutorial.html) for more details.  \n",
        "```python\n",
        "%matplotlib inline\n",
        "plt.plot(x_values, y_values)\n",
        "plt.title('The graph of $y = x^2$')  # The dollar signs surround the formula, in LaTeX format.\n",
        "plt.ylabel('y')\n",
        "plt.xlabel('x')\n",
        "plt.grid(True)\n",
        "plt.show()\n",
        "```\n",
        "The first line contains the **magic** `%matplotlib inline`.  We have seen a magic word before, in `%timeit`.  [Magic words](http://ipython.readthedocs.io/en/stable/interactive/magics.html) can call another program to assist.  So here, the magic `%matplotlib inline` calls matplotlib for help, and places the resulting figure within the notebook.\n",
        "\n",
        "The next line `plt.plot(x_values, y_values)` creates a `plot object` based on the data of the x-values and y-values.  It is an abstract sort of object, behind the scenes, in a format that matplotlib understands.  The following lines set the title of the plot, the axis labels, and turns a grid on.  The last line `plt.show` renders the plot as an image in your notebook.  There's an infinite variety of graphs that matplotlib can produce -- see [the gallery](https://matplotlib.org/gallery.html) for more!  Other graphics packages include [bokeh](http://bokeh.pydata.org/en/latest/) and [seaborn](http://seaborn.pydata.org/), which extends matplotlib."
      ]
    },
    {
      "cell_type": "markdown",
      "metadata": {
        "id": "b0yTOq4-o1N0"
      },
      "source": [
        "### Analysis of the prime counting function\n",
        "\n",
        "Now, to analyze the prime counting function, let's graph it.  To make a graph, we will first need a list of many values of x and many corresponding values of $\\pi(x)$.  We do this with two commands.  The first might take a minute to compute."
      ]
    },
    {
      "cell_type": "code",
      "metadata": {
        "id": "gnKV26bno1N0"
      },
      "source": [
        "x_values = numpy.linspace(0,1000000,1001) # The numpy array [0,1000,2000,3000,...,1000000]\n",
        "pix_values = numpy.array([primes_upto(x) for x in x_values])  # [FUNCTION(x) for x in LIST] syntax"
      ],
      "execution_count": null,
      "outputs": []
    },
    {
      "cell_type": "markdown",
      "metadata": {
        "id": "aqlila-uo1N0"
      },
      "source": [
        "We created an array of x-values as before.  But the creation of an array of y-values (here, called `pix_values` to stand for $\\pi(x)$) probably looks strange.  We have done two new things!\n",
        "\n",
        "1.  We have used a list comprehension `[primes_upto(x) for x in x_values]` to create a **list** of y-values.\n",
        "2.  We have used numpy.array(LIST) syntax to convert a Python list into a numpy array.\n",
        "\n",
        "First, we explain the list comprehension.  Instead of pulling out values of a list according to a condition, with `[x for x in LIST if CONDITION]`, we have created a new list based on performing a function each element of a list.  The syntax, used above, is `[FUNCTION(x) for x in LIST]`.  These two methods of list comprehension can be combined, in fact.  The most general syntax for list comprehension is `[FUNCTION(x) for x in LIST if CONDITION]`.\n",
        "\n",
        "Second, a list comprehension can be carried out on a numpy array, but the result is a plain Python list.  It will be better to have a numpy array instead for what follows, so we use the `numpy.array()` function to convert the list into a numpy array."
      ]
    },
    {
      "cell_type": "code",
      "metadata": {
        "id": "i2DlTbsho1N0",
        "colab": {
          "base_uri": "https://localhost:8080/"
        },
        "outputId": "aba24570-56f6-420b-f68f-4bb09d26ba3b"
      },
      "source": [
        "type(numpy.array([1,2,3]))  # For example."
      ],
      "execution_count": null,
      "outputs": [
        {
          "output_type": "execute_result",
          "data": {
            "text/plain": [
              "numpy.ndarray"
            ]
          },
          "metadata": {
            "tags": []
          },
          "execution_count": 41
        }
      ]
    },
    {
      "cell_type": "markdown",
      "metadata": {
        "id": "BMmq8Fx4o1N0"
      },
      "source": [
        "Now we have two numpy arrays:  the array of x-values and the array of y-values.  We can make a plot with matplotlib."
      ]
    },
    {
      "cell_type": "code",
      "metadata": {
        "id": "Cq5kg4HPo1N0",
        "colab": {
          "base_uri": "https://localhost:8080/"
        },
        "outputId": "7fc10f6b-e798-441c-9c59-b57eb8ed489f"
      },
      "source": [
        "len(x_values) == len(pix_values)  # These better be the same, or else matplotlib will be unhappy."
      ],
      "execution_count": null,
      "outputs": [
        {
          "output_type": "execute_result",
          "data": {
            "text/plain": [
              "True"
            ]
          },
          "metadata": {
            "tags": []
          },
          "execution_count": 42
        }
      ]
    },
    {
      "cell_type": "code",
      "metadata": {
        "id": "DEfDVt9Wo1N0",
        "colab": {
          "base_uri": "https://localhost:8080/",
          "height": 295
        },
        "outputId": "e9ff785e-97f4-4825-d285-b85314181b58"
      },
      "source": [
        "%matplotlib inline\n",
        "plt.plot(x_values, pix_values)\n",
        "plt.title('The prime counting function')\n",
        "plt.ylabel('$\\pi(x)$')\n",
        "plt.xlabel('x')\n",
        "plt.grid(True)\n",
        "plt.show()"
      ],
      "execution_count": null,
      "outputs": [
        {
          "output_type": "display_data",
          "data": {
            "image/png": "[encoded data removed]",
            "text/plain": [
              "<Figure size 432x288 with 1 Axes>"
            ]
          },
          "metadata": {
            "tags": [],
            "needs_background": "light"
          }
        }
      ]
    },
    {
      "cell_type": "markdown",
      "metadata": {
        "id": "R7djMP0do1N1"
      },
      "source": [
        "In this range, the prime counting function might look nearly linear.  But if you look closely, there's a subtle downward bend.  This is more pronounced in smaller ranges.  For example, let's look at the first 10 x-values and y-values only."
      ]
    },
    {
      "cell_type": "code",
      "metadata": {
        "id": "oTPTeUX4o1N1",
        "colab": {
          "base_uri": "https://localhost:8080/",
          "height": 295
        },
        "outputId": "7ad5b43e-8c2f-4457-8277-c3af86941f82"
      },
      "source": [
        "%matplotlib inline\n",
        "plt.plot(x_values[:10], pix_values[:10])  # Look closer to 0.\n",
        "plt.title('The prime counting function')\n",
        "plt.ylabel('$\\pi(x)$')\n",
        "plt.xlabel('x')\n",
        "plt.grid(True)\n",
        "plt.show()"
      ],
      "execution_count": null,
      "outputs": [
        {
          "output_type": "display_data",
          "data": {
            "image/png": "[encoded data removed]",
            "text/plain": [
              "<Figure size 432x288 with 1 Axes>"
            ]
          },
          "metadata": {
            "tags": [],
            "needs_background": "light"
          }
        }
      ]
    },
    {
      "cell_type": "markdown",
      "metadata": {
        "id": "EnrdVEyCo1N1"
      },
      "source": [
        "It still looks almost linear, but there's a visible downward bend here.  How can we see this bend more clearly?  If the graph were linear, its equation would have the form $\\pi(x) = mx$ for some fixed slope $m$ (since the graph *does* pass through the origin).  Therefore, the quantity $\\pi(x)/x$ would be *constant* if the graph were linear.  \n",
        "\n",
        "Hence, if we graph $\\pi(x) / x$ on the y-axis and $x$ on the x-axis, and the result is nonconstant, then the function $\\pi(x)$ is nonlinear."
      ]
    },
    {
      "cell_type": "code",
      "metadata": {
        "id": "ZgRF7b2Ko1N1"
      },
      "source": [
        "m_values = pix_values[1:] / x_values[1:]  # We start at 1, to avoid a division by zero error."
      ],
      "execution_count": null,
      "outputs": []
    },
    {
      "cell_type": "code",
      "metadata": {
        "id": "-grvUV4so1N1",
        "colab": {
          "base_uri": "https://localhost:8080/",
          "height": 297
        },
        "outputId": "019a01c6-f07f-416c-eb52-e29470d5122d"
      },
      "source": [
        "%matplotlib inline\n",
        "plt.plot(x_values[1:], m_values)\n",
        "plt.title('The ratio $\\pi(x) / x$ as $x$ varies.')\n",
        "plt.xlabel('x')\n",
        "plt.ylabel('$\\pi(x) / x$')\n",
        "plt.grid(True)\n",
        "plt.show()"
      ],
      "execution_count": null,
      "outputs": [
        {
          "output_type": "display_data",
          "data": {
            "image/png": "[encoded data removed]",
            "text/plain": [
              "<Figure size 432x288 with 1 Axes>"
            ]
          },
          "metadata": {
            "tags": [],
            "needs_background": "light"
          }
        }
      ]
    },
    {
      "cell_type": "markdown",
      "metadata": {
        "id": "HwGVsVlxo1N1"
      },
      "source": [
        "That is certainly not constant!  The decay of $\\pi(x) / x$ is not so different from $1 / \\log(x)$, in fact.  To see this, let's overlay the graphs.  We use the `numpy.log` function, which computes the natural logarithm of its input (and allows an entire array as input)."
      ]
    },
    {
      "cell_type": "code",
      "metadata": {
        "id": "YlSSqcDko1N1",
        "colab": {
          "base_uri": "https://localhost:8080/",
          "height": 297
        },
        "outputId": "7060285c-b708-43b0-abbf-664e217d52d7"
      },
      "source": [
        "%matplotlib inline\n",
        "plt.plot(x_values[1:], m_values, label='$\\pi(x)/x$')  # The same as the plot above.\n",
        "plt.plot(x_values[1:], 1 / numpy.log(x_values[1:]), label='$1 / \\log(x)$')  # Overlay the graph of 1 / log(x)\n",
        "plt.title('The ratio of $\\pi(x) / x$ as $x$ varies.')\n",
        "plt.xlabel('x')\n",
        "plt.ylabel('$\\pi(x) / x$')\n",
        "plt.grid(True)\n",
        "plt.legend()  # Turn on the legend.\n",
        "plt.show()"
      ],
      "execution_count": null,
      "outputs": [
        {
          "output_type": "display_data",
          "data": {
            "image/png": "[encoded data removed]",
            "text/plain": [
              "<Figure size 432x288 with 1 Axes>"
            ]
          },
          "metadata": {
            "tags": [],
            "needs_background": "light"
          }
        }
      ]
    },
    {
      "cell_type": "markdown",
      "metadata": {
        "id": "zrPg3i8-o1N1"
      },
      "source": [
        "The shape of the decay of $\\pi(x) / x$ is very close to $1 / \\log(x)$, but it looks like there is an offset.  In fact, there is, and it is pretty close to $1 / \\log(x)^2$.  And that is close, but again there's another little offset, this time proportional to $2 / \\log(x)^3$.  This goes on forever, if one wishes to approximate $\\pi(x) / x$ by an \"asymptotic expansion\" (not a good idea, it turns out).\n",
        "\n",
        "The closeness of $\\pi(x) / x$ to $1 / \\log(x)$ is expressed in the **prime number theorem**:\n",
        "$$\\lim_{x \\rightarrow \\infty} \\frac{\\pi(x)}{x / \\log(x)} = 1.$$"
      ]
    },
    {
      "cell_type": "code",
      "metadata": {
        "id": "NWQ3CIVwo1N1",
        "colab": {
          "base_uri": "https://localhost:8080/",
          "height": 297
        },
        "outputId": "1ba03213-4d29-4f2c-ac87-2859bf4bf442"
      },
      "source": [
        "%matplotlib inline\n",
        "plt.plot(x_values[1:], m_values * numpy.log(x_values[1:])  )  # Should get closer to 1.\n",
        "plt.title('The ratio $\\pi(x) / (x / \\log(x))$ approaches 1... slowly')\n",
        "plt.xlabel('x')\n",
        "plt.ylabel('$\\pi(x) / (x / \\log(x)) $')\n",
        "plt.ylim(0.8,1.2)\n",
        "plt.grid(True)\n",
        "plt.show()"
      ],
      "execution_count": null,
      "outputs": [
        {
          "output_type": "display_data",
          "data": {
            "image/png": "[encoded data removed]",
            "text/plain": [
              "<Figure size 432x288 with 1 Axes>"
            ]
          },
          "metadata": {
            "tags": [],
            "needs_background": "light"
          }
        }
      ]
    },
    {
      "cell_type": "markdown",
      "metadata": {
        "id": "X6ELoOO-o1N1"
      },
      "source": [
        "Comparing the graph to the theoretical result, we find that the ratio $\\pi(x) / (x / \\log(x))$ approaches $1$ (the theoretical result) but very slowly (see the graph above!)."
      ]
    },
    {
      "cell_type": "markdown",
      "metadata": {
        "id": "aqXOKRako1N1"
      },
      "source": [
        "A much stronger result relates $\\pi(x)$ to the \"logarithmic integral\" $li(x)$.  The [Riemann hypothesis](http://www.claymath.org/millennium-problems/riemann-hypothesis) is equivalent to the statement\n",
        "$$\\left\\vert \\pi(x) - li(x) \\right\\vert = O(\\sqrt{x} \\log(x)).$$\n",
        "In other words, the error if one approximates $\\pi(x)$ by $li(x)$ is bounded by a constant times $\\sqrt{x} \\log(x)$.  The logarithmic integral function isn't part of Python or numpy, but it is in the mpmath package.  If you have this package installed, then you can try the following."
      ]
    },
    {
      "cell_type": "code",
      "metadata": {
        "id": "KqOcdcCjo1N2"
      },
      "source": [
        "from mpmath import li"
      ],
      "execution_count": null,
      "outputs": []
    },
    {
      "cell_type": "code",
      "metadata": {
        "id": "Pgee6LGxo1N2",
        "colab": {
          "base_uri": "https://localhost:8080/"
        },
        "outputId": "6a3dea7c-9603-4701-ae9f-794c4c3baef8"
      },
      "source": [
        "print(primes_upto(1000000))  # The number of primes up to 1 million.\n",
        "print(li(1000000))  # The logarithmic integral of 1 million."
      ],
      "execution_count": null,
      "outputs": [
        {
          "output_type": "stream",
          "text": [
            "78498\n",
            "78627.5491594622\n"
          ],
          "name": "stdout"
        }
      ]
    },
    {
      "cell_type": "markdown",
      "metadata": {
        "id": "8Ak3l_pPo1N2"
      },
      "source": [
        "Not too shabby!"
      ]
    },
    {
      "cell_type": "markdown",
      "metadata": {
        "id": "Sp7gn8eto1N2"
      },
      "source": [
        "### Prime gaps\n",
        "\n",
        "As a last bit of data analysis, we consider the **prime gaps**.  These are the numbers that occur as differences between consecutive primes.  Since all primes except 2 are odd, all prime gaps are even except for the 1-unit gap between 2 and 3.  There are many unsolved problems about prime gaps; the most famous might be that a gap of 2 occurs infinitely often (as in the gaps between 3,5 and between 11,13 and between 41,43, etc.).\n",
        "\n",
        "Once we have our data set of prime numbers, it is not hard to create a data set of prime gaps.  Recall that `primes` is our list of prime numbers up to 1 million."
      ]
    },
    {
      "cell_type": "code",
      "metadata": {
        "id": "NHd3eV32o1N2",
        "colab": {
          "base_uri": "https://localhost:8080/"
        },
        "outputId": "6b2b2d3a-9f7e-47bf-916e-b3bea5534953"
      },
      "source": [
        "len(primes) # The number of primes up to 1 million."
      ],
      "execution_count": null,
      "outputs": [
        {
          "output_type": "execute_result",
          "data": {
            "text/plain": [
              "78498"
            ]
          },
          "metadata": {
            "tags": []
          },
          "execution_count": 51
        }
      ]
    },
    {
      "cell_type": "code",
      "metadata": {
        "id": "XHc6S5mzo1N2"
      },
      "source": [
        "primes_allbutlast = primes[:-1]  # This excludes the last prime in the list.\n",
        "primes_allbutfirst = primes[1:]  # This excludes the first (i.e., with index 0) prime in the list."
      ],
      "execution_count": null,
      "outputs": []
    },
    {
      "cell_type": "code",
      "metadata": {
        "id": "QBIkUK5eo1N2"
      },
      "source": [
        "primegaps = numpy.array(primes_allbutfirst) - numpy.array(primes_allbutlast) # Numpy is fast!"
      ],
      "execution_count": null,
      "outputs": []
    },
    {
      "cell_type": "code",
      "metadata": {
        "id": "tqGLrNREo1N2",
        "colab": {
          "base_uri": "https://localhost:8080/"
        },
        "outputId": "ae9f84b1-0595-48d9-d892-274138560824"
      },
      "source": [
        "print(primegaps[:100])  # The first hundred prime gaps!"
      ],
      "execution_count": null,
      "outputs": [
        {
          "output_type": "stream",
          "text": [
            "[ 1  2  2  4  2  4  2  4  6  2  6  4  2  4  6  6  2  6  4  2  6  4  6  8\n",
            "  4  2  4  2  4 14  4  6  2 10  2  6  6  4  6  6  2 10  2  4  2 12 12  4\n",
            "  2  4  6  2 10  6  6  6  2  6  4  2 10 14  4  2  4 14  6 10  2  4  6  8\n",
            "  6  6  4  6  8  4  8 10  2 10  2  6  4  6  8  4  2  4 12  8  4  8  4  6\n",
            " 12  2 18  6]\n"
          ],
          "name": "stdout"
        }
      ]
    },
    {
      "cell_type": "markdown",
      "metadata": {
        "id": "nmMeiaSpo1N2"
      },
      "source": [
        "What have we done?  It is useful to try out this method on a short list.  "
      ]
    },
    {
      "cell_type": "code",
      "metadata": {
        "id": "on-JH3dTo1N2"
      },
      "source": [
        "L = [1,3,7,20]  # A nice short list."
      ],
      "execution_count": null,
      "outputs": []
    },
    {
      "cell_type": "code",
      "metadata": {
        "id": "f4iyePe3o1N2",
        "colab": {
          "base_uri": "https://localhost:8080/"
        },
        "outputId": "47d4eec4-3f70-4e8c-b93e-24dd346828ec"
      },
      "source": [
        "print(L[:-1])\n",
        "print(L[1:])"
      ],
      "execution_count": null,
      "outputs": [
        {
          "output_type": "stream",
          "text": [
            "[1, 3, 7]\n",
            "[3, 7, 20]\n"
          ],
          "name": "stdout"
        }
      ]
    },
    {
      "cell_type": "markdown",
      "metadata": {
        "id": "gpKfCHEEo1N3"
      },
      "source": [
        "Now we have two lists of the same length.  The gaps in the original list `L` are the differences between terms of the *same* index in the two new lists.  One might be tempted to just subtract, e.g., with the command `L[1:] - L[:-1]`, but subtraction is not defined for lists.\n",
        "\n",
        "Fortunately, by converting the lists to numpy arrays, we can use numpy's term-by-term subtraction operation."
      ]
    },
    {
      "cell_type": "code",
      "metadata": {
        "id": "H2Ob8Jkro1N3",
        "colab": {
          "base_uri": "https://localhost:8080/",
          "height": 164
        },
        "outputId": "2d315257-9321-4520-97fb-ae6688df5046"
      },
      "source": [
        "L[1:] - L[:-1]  # This will give a TypeError.  You can't subtract lists!"
      ],
      "execution_count": null,
      "outputs": [
        {
          "output_type": "error",
          "ename": "TypeError",
          "evalue": "ignored",
          "traceback": [
            "\u001b[0;31m---------------------------------------------------------------------------\u001b[0m",
            "\u001b[0;31mTypeError\u001b[0m                                 Traceback (most recent call last)",
            "\u001b[0;32m<ipython-input-57-0c27eb74e0a4>\u001b[0m in \u001b[0;36m<module>\u001b[0;34m()\u001b[0m\n\u001b[0;32m----> 1\u001b[0;31m \u001b[0mL\u001b[0m\u001b[0;34m[\u001b[0m\u001b[0;36m1\u001b[0m\u001b[0;34m:\u001b[0m\u001b[0;34m]\u001b[0m \u001b[0;34m-\u001b[0m \u001b[0mL\u001b[0m\u001b[0;34m[\u001b[0m\u001b[0;34m:\u001b[0m\u001b[0;34m-\u001b[0m\u001b[0;36m1\u001b[0m\u001b[0;34m]\u001b[0m  \u001b[0;31m# This will give a TypeError.  You can't subtract lists!\u001b[0m\u001b[0;34m\u001b[0m\u001b[0;34m\u001b[0m\u001b[0m\n\u001b[0m",
            "\u001b[0;31mTypeError\u001b[0m: unsupported operand type(s) for -: 'list' and 'list'"
          ]
        }
      ]
    },
    {
      "cell_type": "code",
      "metadata": {
        "id": "lSkR4Dxho1N3",
        "colab": {
          "base_uri": "https://localhost:8080/"
        },
        "outputId": "e0264f6a-9f8e-4917-ffd1-9852ef1e091d"
      },
      "source": [
        "numpy.array(L[1:]) - numpy.array(L[:-1])  # That's better.  See the gaps in the list [1,3,7,20] in the output."
      ],
      "execution_count": null,
      "outputs": [
        {
          "output_type": "execute_result",
          "data": {
            "text/plain": [
              "array([ 2,  4, 13])"
            ]
          },
          "metadata": {
            "tags": []
          },
          "execution_count": 58
        }
      ]
    },
    {
      "cell_type": "markdown",
      "metadata": {
        "id": "-dVIfFnVo1N3"
      },
      "source": [
        "Now let's return to our primegaps data set.  It contains all the gap-sizes for primes up to 1 million.  "
      ]
    },
    {
      "cell_type": "code",
      "metadata": {
        "id": "i9FFJvMbo1N3",
        "colab": {
          "base_uri": "https://localhost:8080/"
        },
        "outputId": "c3c919dc-d5d8-4e37-d291-38a1c75c85e1"
      },
      "source": [
        "print(len(primes))\n",
        "print(len(primegaps))  # This should be one less than the number of primes."
      ],
      "execution_count": null,
      "outputs": [
        {
          "output_type": "stream",
          "text": [
            "78498\n",
            "78497\n"
          ],
          "name": "stdout"
        }
      ]
    },
    {
      "cell_type": "markdown",
      "metadata": {
        "id": "hz93cWX1o1N3"
      },
      "source": [
        "As a last example of data visualization, we use matplotlib to produce a histogram of the prime gaps."
      ]
    },
    {
      "cell_type": "code",
      "metadata": {
        "id": "6V5Nj_MCo1N3",
        "colab": {
          "base_uri": "https://localhost:8080/"
        },
        "outputId": "7b870a06-e3f2-4986-aaac-57c5a059dcf9"
      },
      "source": [
        "max(primegaps)  # The largest prime gap that appears!"
      ],
      "execution_count": null,
      "outputs": [
        {
          "output_type": "execute_result",
          "data": {
            "text/plain": [
              "114"
            ]
          },
          "metadata": {
            "tags": []
          },
          "execution_count": 60
        }
      ]
    },
    {
      "cell_type": "code",
      "metadata": {
        "id": "rOFsdO1Uo1N3",
        "colab": {
          "base_uri": "https://localhost:8080/",
          "height": 350
        },
        "outputId": "3c799487-f601-48e0-f0dc-8612824f1e11"
      },
      "source": [
        "%matplotlib inline\n",
        "plt.figure(figsize=(12, 5))  #  Makes the resulting figure 12in by 5in.\n",
        "plt.hist(primegaps, bins=range(1,115)) #  Makes a histogram with one bin for each possible gap from 1 to 114.\n",
        "plt.ylabel('Frequency')\n",
        "plt.xlabel('Gap size')\n",
        "plt.grid(True)\n",
        "plt.title('The frequency of prime gaps, for primes up to 1 million')\n",
        "plt.show()"
      ],
      "execution_count": null,
      "outputs": [
        {
          "output_type": "display_data",
          "data": {
            "image/png": "[encoded data removed]",
            "text/plain": [
              "<Figure size 864x360 with 1 Axes>"
            ]
          },
          "metadata": {
            "tags": [],
            "needs_background": "light"
          }
        }
      ]
    },
    {
      "cell_type": "markdown",
      "metadata": {
        "id": "kkWLq7QLo1N3"
      },
      "source": [
        "Observe that gaps of 2 (twin primes) are pretty frequent.  There are over 8000 of them, and about the same number of 4-unit gaps!  But gaps of 6 are most frequent in the population, and there are some interesting peaks at 6, 12, 18, 24, 30.  What else do you observe?"
      ]
    },
    {
      "cell_type": "markdown",
      "metadata": {
        "id": "yt5JakuSo1N3"
      },
      "source": [
        "### Exercises\n",
        "\n",
        "1.  Create functions `redprimes_upto(x)` and `blueprimes_upto(x)` which count the number of red/blue primes up to a given number `x`.  Recall that we defined red/blue primes to be those of the form 4n+1 or 4n+3, respectively.  Graph the relative proportion of red/blue primes as `x` varies from 1 to 1 million.  E.g., are the proportions 50%/50% or 70%/30%, and how do these proportions change?  Note:  this is also visualized in [An Illustrated Theory of Numbers](http://bookstore.ams.org/mbk-105) and you can read [an article by Rubinstein and Sarnak](https://projecteuclid.org/euclid.em/1048515870) for more.\n",
        "\n",
        "2.  Does there seem to be a bias in the last digits of primes?  Note that, except for 2 and 5, every prime ends in 1,3,7, or 9.  Note: the last digit of a number `n` is obtained from `n % 10`.  \n",
        "\n",
        "3.  Read about the [\"Prime Conspiracy\"](https://www.quantamagazine.org/mathematicians-discover-prime-conspiracy-20160313), recently discovered by Lemke Oliver and Soundararajan.  Can you detect their conspiracy in our data set of primes?"
      ]
    },
    {
      "cell_type": "markdown",
      "metadata": {
        "id": "RZsrT5Q-NXAt"
      },
      "source": [
        "1 ."
      ]
    },
    {
      "cell_type": "code",
      "metadata": {
        "colab": {
          "base_uri": "https://localhost:8080/",
          "height": 573
        },
        "id": "SIf4mURyNYxl",
        "outputId": "281ebfbe-9282-461d-b135-2cdf293ddad7"
      },
      "source": [
        "#1\n",
        "primes = where(isprime_list(1000000))\n",
        "\n",
        "def redprimes_upto(x):\n",
        "  return len([p for p in primes if p%4 == 1 and p <= x])\n",
        "\n",
        "def blueprimes_upto(x):\n",
        "  return len([p for p in primes if p%4 == 3 and p <= x])\n",
        "\n",
        "x_values = numpy.linspace(5,1000000,1001)\n",
        "red_values = numpy.array([redprimes_upto(int(x)) for x in x_values]) \n",
        "blue_values = numpy.array([blueprimes_upto(int(x)) for x in x_values])\n",
        "ratio_values = red_values/blue_values\n",
        "\n",
        "%matplotlib inline\n",
        "plt.plot(x_values, ratio_values, label='Ratio of red to blue')  \n",
        "plt.title('Red primes vs. Blue primes')\n",
        "plt.xlabel('x')\n",
        "plt.ylabel('red(x)/blue(x)')\n",
        "plt.grid(True)\n",
        "plt.legend() \n",
        "plt.show()\n",
        "\n",
        "x_values = numpy.linspace(100000,1000000,1001)\n",
        "red_values = numpy.array([redprimes_upto(int(x)) for x in x_values]) \n",
        "blue_values = numpy.array([blueprimes_upto(int(x)) for x in x_values])\n",
        "ratio_values = red_values/blue_values\n",
        "\n",
        "%matplotlib inline\n",
        "plt.plot(x_values, ratio_values, label='Ratio of red to blue')  \n",
        "plt.title('Red primes vs. Blue primes')\n",
        "plt.xlabel('x')\n",
        "plt.ylabel('red(x)/blue(x)')\n",
        "plt.grid(True)\n",
        "plt.legend() \n",
        "plt.show()\n"
      ],
      "execution_count": 37,
      "outputs": [
        {
          "output_type": "display_data",
          "data": {
            "image/png": "[encoded data removed]",
            "text/plain": [
              "<Figure size 432x288 with 1 Axes>"
            ]
          },
          "metadata": {
            "tags": [],
            "needs_background": "light"
          }
        },
        {
          "output_type": "display_data",
          "data": {
            "image/png": "[encoded data removed]",
            "text/plain": [
              "<Figure size 432x288 with 1 Axes>"
            ]
          },
          "metadata": {
            "tags": [],
            "needs_background": "light"
          }
        }
      ]
    },
    {
      "cell_type": "markdown",
      "metadata": {
        "id": "2WWAZz_hg3uj"
      },
      "source": [
        "2 . There appears to be a similar bias in the last digits of prime numbers. As shown in the plot below, primes ending in 3 or 7 are almost always more common than primes ending in 1 or 9."
      ]
    },
    {
      "cell_type": "code",
      "metadata": {
        "id": "Ybl4mSkcWg9U",
        "outputId": "bfe09d78-a984-448c-b883-b9a1f9eaba96",
        "colab": {
          "base_uri": "https://localhost:8080/",
          "height": 295
        }
      },
      "source": [
        "primes = where(isprime_list(10000000))\n",
        "\n",
        "def oneprimes_upto(x):\n",
        "  return len([p for p in primes if p%10 == 1 and p <= x])\n",
        "\n",
        "def threeprimes_upto(x):\n",
        "  return len([p for p in primes if p%10 == 3 and p <= x])\n",
        "\n",
        "def sevenprimes_upto(x):\n",
        "  return len([p for p in primes if p%10 == 7 and p <= x])\n",
        "\n",
        "def nineprimes_upto(x):\n",
        "  return len([p for p in primes if p%10 == 9 and p <= x])\n",
        "\n",
        "x_values = numpy.linspace(1000000,10000000,100) \n",
        "pix_values = numpy.array([primes_upto(x) for x in x_values])\n",
        "oneprime_values = numpy.array([oneprimes_upto(x) for x in x_values])\n",
        "threeprime_values = numpy.array([threeprimes_upto(x) for x in x_values])\n",
        "sevenprime_values = numpy.array([sevenprimes_upto(x) for x in x_values])\n",
        "nineprime_values = numpy.array([nineprimes_upto(x) for x in x_values])\n",
        "oneprime_ratios = oneprime_values/pix_values\n",
        "threeprime_ratios = threeprime_values/pix_values\n",
        "sevenprime_ratios = sevenprime_values/pix_values\n",
        "nineprime_ratios = nineprime_values/pix_values\n",
        "\n",
        "%matplotlib inline\n",
        "plt.plot(x_values, oneprime_ratios, label='Last digit = 1')\n",
        "plt.plot(x_values, threeprime_ratios, label='Last digit = 3')  \n",
        "plt.plot(x_values, sevenprime_ratios, label='Last digit = 7')  \n",
        "plt.plot(x_values, nineprime_ratios, label='Last digit = 9')  \n",
        "plt.title('Last digit of primes')\n",
        "plt.xlabel('x')\n",
        "plt.ylabel('ratios')\n",
        "plt.grid(True)\n",
        "plt.legend() \n",
        "plt.show()\n"
      ],
      "execution_count": 44,
      "outputs": [
        {
          "output_type": "display_data",
          "data": {
            "image/png": "[encoded data removed]",
            "text/plain": [
              "<Figure size 432x288 with 1 Axes>"
            ]
          },
          "metadata": {
            "tags": [],
            "needs_background": "light"
          }
        }
      ]
    }
  ]
}