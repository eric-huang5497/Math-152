{
  "nbformat": 4,
  "nbformat_minor": 0,
  "metadata": {
    "colab": {
      "name": "Untitled1.ipynb",
      "provenance": [],
      "authorship_tag": "ABX9TyMrWHs1vnQejFVzttRp36FN",
      "include_colab_link": true
    },
    "kernelspec": {
      "name": "python3",
      "display_name": "Python 3"
    }
  },
  "cells": [
    {
      "cell_type": "markdown",
      "metadata": {
        "id": "view-in-github",
        "colab_type": "text"
      },
      "source": [
        "<a href=\"https://colab.research.google.com/github/eric-huang5497/Math-152/blob/main/my_random_walk.ipynb\" target=\"_parent\"><img src=\"https://colab.research.google.com/assets/colab-badge.svg\" alt=\"Open In Colab\"/></a>"
      ]
    },
    {
      "cell_type": "code",
      "metadata": {
        "id": "c4SkcEHIe5my"
      },
      "source": [
        "import matplotlib.pyplot as plt\n",
        "import numpy as np\n",
        "from PIL import Image"
      ],
      "execution_count": 14,
      "outputs": []
    },
    {
      "cell_type": "code",
      "metadata": {
        "id": "XNbvpYoc6x4Z"
      },
      "source": [
        "size = 300\n",
        "steps = 1000000\n",
        "box = np.zeros((size, size))\n",
        "pos = [size//2,size//2]\n",
        "x_values = np.zeros(steps)\n",
        "y_values = np.zeros(steps)\n",
        "for i in range(steps):\n",
        "  x_values[i] = pos[0]\n",
        "  y_values[i] = pos[1]\n",
        "  box[pos[0],pos[1]] += 1\n",
        "  direction = np.random.randint(0,4)\n",
        "  if direction == 0:\n",
        "    if pos[0] == size-1:\n",
        "      pass\n",
        "    else:\n",
        "      pos[0] = pos[0] + 1\n",
        "  if direction == 1:\n",
        "    if pos[0] == 0:\n",
        "      pass\n",
        "    else:\n",
        "      pos[0] = pos[0] - 1\n",
        "  if direction == 2:\n",
        "    if pos[1] == size-1:\n",
        "      pass\n",
        "    else:\n",
        "      pos[1] = pos[1] + 1\n",
        "  if direction == 3:\n",
        "    if pos[1] == 0:\n",
        "      pass\n",
        "    else:\n",
        "      pos[1] = pos[1] - 1\n",
        "max = np.max(box)\n",
        "image = np.zeros([size, size, 3], dtype=np.uint8)\n",
        "for x in range(size):\n",
        "  for y in range(size):\n",
        "    image[x,y] = [255 - box[x,y]*255/max]*3\n",
        "img = Image.fromarray(image)\n",
        "print(\"box\")\n",
        "display(img)"
      ],
      "execution_count": null,
      "outputs": []
    },
    {
      "cell_type": "code",
      "metadata": {
        "id": "xESn4KuS60r4"
      },
      "source": [
        "size = 300\n",
        "steps = 1000000\n",
        "klein = np.zeros((size, size))\n",
        "pos = [size//2,size//2]\n",
        "x_values = np.zeros(steps)\n",
        "y_values = np.zeros(steps)\n",
        "for i in range(steps):\n",
        "  x_values[i] = pos[0]\n",
        "  y_values[i] = pos[1]\n",
        "  klein[pos[0],pos[1]] += 1\n",
        "  direction = np.random.randint(0,4)\n",
        "  if direction == 0:\n",
        "    pos[0] = (pos[0] + 1) % size\n",
        "  if direction == 1:\n",
        "    pos[0] = (pos[0] - 1) % size\n",
        "  if direction == 2:\n",
        "    if pos[1] == size-1:\n",
        "      pos[1] = 0\n",
        "      pos[0] = size - 1 - pos[0]\n",
        "    else:\n",
        "      pos[1] = (pos[1] + 1)\n",
        "  if direction == 3:\n",
        "    if pos[1] == 0:\n",
        "      pos[1] = size - 1\n",
        "      pos[0] = size - 1 - pos[0]\n",
        "    else:\n",
        "      pos[1] = (pos[1] - 1)\n",
        "max = np.max(klein)\n",
        "image = np.zeros([size, size, 3], dtype=np.uint8)\n",
        "for x in range(size):\n",
        "  for y in range(size):\n",
        "    image[x,y] = [255 - klein[x,y]*255/max]*3\n",
        "img = Image.fromarray(image)\n",
        "print(\"klein bottle\")\n",
        "display(img)"
      ],
      "execution_count": null,
      "outputs": []
    },
    {
      "cell_type": "code",
      "metadata": {
        "id": "nuImr1Wk63We"
      },
      "source": [
        "size = 300\n",
        "steps = 1000000\n",
        "torus = np.zeros((size, size))\n",
        "pos = [size//2,size//2]\n",
        "x_values = np.zeros(steps)\n",
        "y_values = np.zeros(steps)\n",
        "for i in range(steps):\n",
        "  x_values[i] = pos[0]\n",
        "  y_values[i] = pos[1]\n",
        "  torus[pos[0],pos[1]] += 1\n",
        "  direction = np.random.randint(0,4)\n",
        "  if direction == 0:\n",
        "    pos[0] = (pos[0] + 1) % size\n",
        "  if direction == 1:\n",
        "    pos[0] = (pos[0] - 1) % size\n",
        "  if direction == 2:\n",
        "    pos[1] = (pos[1] + 1) % size\n",
        "  if direction == 3:\n",
        "    pos[1] = (pos[1] - 1) % size\n",
        "max = np.max(torus)\n",
        "image = np.zeros([size, size, 3], dtype=np.uint8)\n",
        "for x in range(size):\n",
        "  for y in range(size):\n",
        "    image[x,y] = [255 - torus[x,y]*255/max]*3\n",
        "img = Image.fromarray(image)\n",
        "print(\"torus\")\n",
        "display(img)"
      ],
      "execution_count": null,
      "outputs": []
    }
  ]
}